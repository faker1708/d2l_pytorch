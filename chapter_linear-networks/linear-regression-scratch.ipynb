{
 "cells": [
  {
   "cell_type": "markdown",
   "id": "d90261b4",
   "metadata": {
    "origin_pos": 0
   },
   "source": [
    "# 线性回归的从零开始实现\n",
    ":label:`sec_linear_scratch`\n",
    "\n",
    "在了解线性回归的关键思想之后，我们可以开始通过代码来动手实现线性回归了。\n",
    "在这一节中，(**我们将从零开始实现整个方法，\n",
    "包括数据流水线、模型、损失函数和小批量随机梯度下降优化器**)。\n",
    "虽然现代的深度学习框架几乎可以自动化地进行所有这些工作，但从零开始实现可以确保我们真正知道自己在做什么。\n",
    "同时，了解更细致的工作原理将方便我们自定义模型、自定义层或自定义损失函数。\n",
    "在这一节中，我们将只使用张量和自动求导。\n",
    "在之后的章节中，我们会充分利用深度学习框架的优势，介绍更简洁的实现方式。\n"
   ]
  },
  {
   "cell_type": "code",
   "execution_count": 102,
   "id": "5afac710",
   "metadata": {
    "execution": {
     "iopub.execute_input": "2022-12-07T16:43:03.768491Z",
     "iopub.status.busy": "2022-12-07T16:43:03.768163Z",
     "iopub.status.idle": "2022-12-07T16:43:06.309758Z",
     "shell.execute_reply": "2022-12-07T16:43:06.308920Z"
    },
    "origin_pos": 2,
    "tab": [
     "pytorch"
    ]
   },
   "outputs": [],
   "source": [
    "%matplotlib inline\n",
    "import random\n",
    "import torch\n",
    "from d2l import torch as d2l"
   ]
  },
  {
   "cell_type": "markdown",
   "id": "9737c61d",
   "metadata": {
    "origin_pos": 5
   },
   "source": [
    "## 生成数据集\n",
    "\n",
    "为了简单起见，我们将[**根据带有噪声的线性模型构造一个人造数据集。**]\n",
    "我们的任务是使用这个有限样本的数据集来恢复这个模型的参数。\n",
    "我们将使用低维数据，这样可以很容易地将其可视化。\n",
    "在下面的代码中，我们生成一个包含1000个样本的数据集，\n",
    "每个样本包含从标准正态分布中采样的2个特征。\n",
    "我们的合成数据集是一个矩阵$\\mathbf{X}\\in \\mathbb{R}^{1000 \\times 2}$。\n",
    "\n",
    "(**我们使用线性模型参数$\\mathbf{w} = [2, -3.4]^\\top$、$b = 4.2$\n",
    "和噪声项$\\epsilon$生成数据集及其标签：\n",
    "\n",
    "$$\\mathbf{y}= \\mathbf{X} \\mathbf{w} + b + \\mathbf\\epsilon.$$\n",
    "**)\n",
    "\n",
    "$\\epsilon$可以视为模型预测和标签时的潜在观测误差。\n",
    "在这里我们认为标准假设成立，即$\\epsilon$服从均值为0的正态分布。\n",
    "为了简化问题，我们将标准差设为0.01。\n",
    "下面的代码生成合成数据集。\n"
   ]
  },
  {
   "cell_type": "code",
   "execution_count": 103,
   "id": "a12aa0dc",
   "metadata": {
    "execution": {
     "iopub.execute_input": "2022-12-07T16:43:06.314470Z",
     "iopub.status.busy": "2022-12-07T16:43:06.313919Z",
     "iopub.status.idle": "2022-12-07T16:43:06.319119Z",
     "shell.execute_reply": "2022-12-07T16:43:06.318364Z"
    },
    "origin_pos": 6,
    "tab": [
     "pytorch"
    ]
   },
   "outputs": [],
   "source": [
    "def synthetic_data(w, b, num_examples):  #@save\n",
    "    \"\"\"生成y=Xw+b+噪声\"\"\"\n",
    "    X = torch.normal(0, 1, (num_examples, len(w)))\n",
    "    y = torch.matmul(X, w) + b\n",
    "    y += torch.normal(0, 0.01, y.shape)\n",
    "    return X, y.reshape((-1, 1))"
   ]
  },
  {
   "cell_type": "code",
   "execution_count": 104,
   "id": "c825e9f2",
   "metadata": {
    "execution": {
     "iopub.execute_input": "2022-12-07T16:43:06.322894Z",
     "iopub.status.busy": "2022-12-07T16:43:06.322362Z",
     "iopub.status.idle": "2022-12-07T16:43:06.346342Z",
     "shell.execute_reply": "2022-12-07T16:43:06.345545Z"
    },
    "origin_pos": 8,
    "tab": [
     "pytorch"
    ]
   },
   "outputs": [],
   "source": [
    "true_w = torch.tensor([2, -3.4])\n",
    "true_b = 4.2\n",
    "features, labels = synthetic_data(true_w, true_b, 1000)"
   ]
  },
  {
   "cell_type": "markdown",
   "id": "8f793e73",
   "metadata": {
    "origin_pos": 9
   },
   "source": [
    "注意，[**`features`中的每一行都包含一个二维数据样本，\n",
    "`labels`中的每一行都包含一维标签值（一个标量）**]。\n"
   ]
  },
  {
   "cell_type": "code",
   "execution_count": 105,
   "id": "ff9bf839",
   "metadata": {
    "execution": {
     "iopub.execute_input": "2022-12-07T16:43:06.350058Z",
     "iopub.status.busy": "2022-12-07T16:43:06.349622Z",
     "iopub.status.idle": "2022-12-07T16:43:06.356271Z",
     "shell.execute_reply": "2022-12-07T16:43:06.355499Z"
    },
    "origin_pos": 10,
    "tab": [
     "pytorch"
    ]
   },
   "outputs": [
    {
     "name": "stdout",
     "output_type": "stream",
     "text": [
      "features: tensor([2.7132, 0.4566]) \n",
      "label: tensor([8.0897])\n"
     ]
    }
   ],
   "source": [
    "print('features:', features[0],'\\nlabel:', labels[0])"
   ]
  },
  {
   "cell_type": "markdown",
   "id": "fceaa9b1",
   "metadata": {
    "origin_pos": 11
   },
   "source": [
    "通过生成第二个特征`features[:, 1]`和`labels`的散点图，\n",
    "可以直观观察到两者之间的线性关系。\n"
   ]
  },
  {
   "cell_type": "code",
   "execution_count": 106,
   "id": "ec27cda9",
   "metadata": {
    "execution": {
     "iopub.execute_input": "2022-12-07T16:43:06.360566Z",
     "iopub.status.busy": "2022-12-07T16:43:06.360291Z",
     "iopub.status.idle": "2022-12-07T16:43:06.547379Z",
     "shell.execute_reply": "2022-12-07T16:43:06.546494Z"
    },
    "origin_pos": 12,
    "tab": [
     "pytorch"
    ]
   },
   "outputs": [
    {
     "data": {
      "image/svg+xml": "<?xml version=\"1.0\" encoding=\"utf-8\" standalone=\"no\"?>\n<!DOCTYPE svg PUBLIC \"-//W3C//DTD SVG 1.1//EN\"\n  \"http://www.w3.org/Graphics/SVG/1.1/DTD/svg11.dtd\">\n<svg xmlns:xlink=\"http://www.w3.org/1999/xlink\" width=\"229.425pt\" height=\"169.678125pt\" viewBox=\"0 0 229.425 169.678125\" xmlns=\"http://www.w3.org/2000/svg\" version=\"1.1\">\n <metadata>\n  <rdf:RDF xmlns:dc=\"http://purl.org/dc/elements/1.1/\" xmlns:cc=\"http://creativecommons.org/ns#\" xmlns:rdf=\"http://www.w3.org/1999/02/22-rdf-syntax-ns#\">\n   <cc:Work>\n    <dc:type rdf:resource=\"http://purl.org/dc/dcmitype/StillImage\"/>\n    <dc:date>2023-03-01T22:27:27.368620</dc:date>\n    <dc:format>image/svg+xml</dc:format>\n    <dc:creator>\n     <cc:Agent>\n      <dc:title>Matplotlib v3.5.1, https://matplotlib.org/</dc:title>\n     </cc:Agent>\n    </dc:creator>\n   </cc:Work>\n  </rdf:RDF>\n </metadata>\n <defs>\n  <style type=\"text/css\">*{stroke-linejoin: round; stroke-linecap: butt}</style>\n </defs>\n <g id=\"figure_1\">\n  <g id=\"patch_1\">\n   <path d=\"M 0 169.678125 \nL 229.425 169.678125 \nL 229.425 0 \nL 0 0 \nz\n\" style=\"fill: #ffffff\"/>\n  </g>\n  <g id=\"axes_1\">\n   <g id=\"patch_2\">\n    <path d=\"M 26.925 145.8 \nL 222.225 145.8 \nL 222.225 7.2 \nL 26.925 7.2 \nz\n\" style=\"fill: #ffffff\"/>\n   </g>\n   <g id=\"PathCollection_1\">\n    <defs>\n     <path id=\"m91727e2069\" d=\"M 0 0.5 \nC 0.132602 0.5 0.25979 0.447317 0.353553 0.353553 \nC 0.447317 0.25979 0.5 0.132602 0.5 0 \nC 0.5 -0.132602 0.447317 -0.25979 0.353553 -0.353553 \nC 0.25979 -0.447317 0.132602 -0.5 0 -0.5 \nC -0.132602 -0.5 -0.25979 -0.447317 -0.353553 -0.353553 \nC -0.447317 -0.25979 -0.5 -0.132602 -0.5 0 \nC -0.5 0.132602 -0.447317 0.25979 -0.353553 0.353553 \nC -0.25979 0.447317 -0.132602 0.5 0 0.5 \nz\n\" style=\"stroke: #1f77b4\"/>\n    </defs>\n    <g clip-path=\"url(#p6b65686044)\">\n     <use xlink:href=\"#m91727e2069\" x=\"156.096225\" y=\"75.228723\" style=\"fill: #1f77b4; stroke: #1f77b4\"/>\n     <use xlink:href=\"#m91727e2069\" x=\"139.260219\" y=\"90.298096\" style=\"fill: #1f77b4; stroke: #1f77b4\"/>\n     <use xlink:href=\"#m91727e2069\" x=\"154.256777\" y=\"88.854013\" style=\"fill: #1f77b4; stroke: #1f77b4\"/>\n     <use xlink:href=\"#m91727e2069\" x=\"172.80407\" y=\"106.80123\" style=\"fill: #1f77b4; stroke: #1f77b4\"/>\n     <use xlink:href=\"#m91727e2069\" x=\"156.074427\" y=\"99.195865\" style=\"fill: #1f77b4; stroke: #1f77b4\"/>\n     <use xlink:href=\"#m91727e2069\" x=\"170.438187\" y=\"98.693442\" style=\"fill: #1f77b4; stroke: #1f77b4\"/>\n     <use xlink:href=\"#m91727e2069\" x=\"134.718609\" y=\"92.770062\" style=\"fill: #1f77b4; stroke: #1f77b4\"/>\n     <use xlink:href=\"#m91727e2069\" x=\"128.307026\" y=\"80.580298\" style=\"fill: #1f77b4; stroke: #1f77b4\"/>\n     <use xlink:href=\"#m91727e2069\" x=\"145.658306\" y=\"94.750337\" style=\"fill: #1f77b4; stroke: #1f77b4\"/>\n     <use xlink:href=\"#m91727e2069\" x=\"162.873209\" y=\"106.090207\" style=\"fill: #1f77b4; stroke: #1f77b4\"/>\n     <use xlink:href=\"#m91727e2069\" x=\"146.944013\" y=\"88.139816\" style=\"fill: #1f77b4; stroke: #1f77b4\"/>\n     <use xlink:href=\"#m91727e2069\" x=\"153.256501\" y=\"103.519871\" style=\"fill: #1f77b4; stroke: #1f77b4\"/>\n     <use xlink:href=\"#m91727e2069\" x=\"168.824545\" y=\"118.980163\" style=\"fill: #1f77b4; stroke: #1f77b4\"/>\n     <use xlink:href=\"#m91727e2069\" x=\"98.905356\" y=\"55.995183\" style=\"fill: #1f77b4; stroke: #1f77b4\"/>\n     <use xlink:href=\"#m91727e2069\" x=\"154.783794\" y=\"94.238714\" style=\"fill: #1f77b4; stroke: #1f77b4\"/>\n     <use xlink:href=\"#m91727e2069\" x=\"149.372888\" y=\"97.075382\" style=\"fill: #1f77b4; stroke: #1f77b4\"/>\n     <use xlink:href=\"#m91727e2069\" x=\"134.356158\" y=\"83.343457\" style=\"fill: #1f77b4; stroke: #1f77b4\"/>\n     <use xlink:href=\"#m91727e2069\" x=\"138.911264\" y=\"80.277333\" style=\"fill: #1f77b4; stroke: #1f77b4\"/>\n     <use xlink:href=\"#m91727e2069\" x=\"146.83263\" y=\"91.743439\" style=\"fill: #1f77b4; stroke: #1f77b4\"/>\n     <use xlink:href=\"#m91727e2069\" x=\"193.681426\" y=\"127.414675\" style=\"fill: #1f77b4; stroke: #1f77b4\"/>\n     <use xlink:href=\"#m91727e2069\" x=\"125.188579\" y=\"70.728225\" style=\"fill: #1f77b4; stroke: #1f77b4\"/>\n     <use xlink:href=\"#m91727e2069\" x=\"160.960215\" y=\"96.984162\" style=\"fill: #1f77b4; stroke: #1f77b4\"/>\n     <use xlink:href=\"#m91727e2069\" x=\"108.796233\" y=\"66.311238\" style=\"fill: #1f77b4; stroke: #1f77b4\"/>\n     <use xlink:href=\"#m91727e2069\" x=\"143.762628\" y=\"93.03536\" style=\"fill: #1f77b4; stroke: #1f77b4\"/>\n     <use xlink:href=\"#m91727e2069\" x=\"158.36357\" y=\"94.324551\" style=\"fill: #1f77b4; stroke: #1f77b4\"/>\n     <use xlink:href=\"#m91727e2069\" x=\"115.847693\" y=\"69.328068\" style=\"fill: #1f77b4; stroke: #1f77b4\"/>\n     <use xlink:href=\"#m91727e2069\" x=\"122.441818\" y=\"73.749755\" style=\"fill: #1f77b4; stroke: #1f77b4\"/>\n     <use xlink:href=\"#m91727e2069\" x=\"186.365884\" y=\"103.833816\" style=\"fill: #1f77b4; stroke: #1f77b4\"/>\n     <use xlink:href=\"#m91727e2069\" x=\"161.235399\" y=\"96.213548\" style=\"fill: #1f77b4; stroke: #1f77b4\"/>\n     <use xlink:href=\"#m91727e2069\" x=\"152.369164\" y=\"94.667459\" style=\"fill: #1f77b4; stroke: #1f77b4\"/>\n     <use xlink:href=\"#m91727e2069\" x=\"133.649197\" y=\"91.14972\" style=\"fill: #1f77b4; stroke: #1f77b4\"/>\n     <use xlink:href=\"#m91727e2069\" x=\"167.646568\" y=\"115.565231\" style=\"fill: #1f77b4; stroke: #1f77b4\"/>\n     <use xlink:href=\"#m91727e2069\" x=\"169.280036\" y=\"104.656647\" style=\"fill: #1f77b4; stroke: #1f77b4\"/>\n     <use xlink:href=\"#m91727e2069\" x=\"153.199376\" y=\"96.765106\" style=\"fill: #1f77b4; stroke: #1f77b4\"/>\n     <use xlink:href=\"#m91727e2069\" x=\"189.624018\" y=\"121.650499\" style=\"fill: #1f77b4; stroke: #1f77b4\"/>\n     <use xlink:href=\"#m91727e2069\" x=\"181.063019\" y=\"110.494063\" style=\"fill: #1f77b4; stroke: #1f77b4\"/>\n     <use xlink:href=\"#m91727e2069\" x=\"132.365882\" y=\"90.560586\" style=\"fill: #1f77b4; stroke: #1f77b4\"/>\n     <use xlink:href=\"#m91727e2069\" x=\"143.940178\" y=\"89.596222\" style=\"fill: #1f77b4; stroke: #1f77b4\"/>\n     <use xlink:href=\"#m91727e2069\" x=\"118.171541\" y=\"81.159289\" style=\"fill: #1f77b4; stroke: #1f77b4\"/>\n     <use xlink:href=\"#m91727e2069\" x=\"134.199567\" y=\"92.478805\" style=\"fill: #1f77b4; stroke: #1f77b4\"/>\n     <use xlink:href=\"#m91727e2069\" x=\"147.140468\" y=\"94.565407\" style=\"fill: #1f77b4; stroke: #1f77b4\"/>\n     <use xlink:href=\"#m91727e2069\" x=\"169.158542\" y=\"98.33876\" style=\"fill: #1f77b4; stroke: #1f77b4\"/>\n     <use xlink:href=\"#m91727e2069\" x=\"177.573359\" y=\"96.60031\" style=\"fill: #1f77b4; stroke: #1f77b4\"/>\n     <use xlink:href=\"#m91727e2069\" x=\"140.343132\" y=\"75.15979\" style=\"fill: #1f77b4; stroke: #1f77b4\"/>\n     <use xlink:href=\"#m91727e2069\" x=\"195.906997\" y=\"115.791197\" style=\"fill: #1f77b4; stroke: #1f77b4\"/>\n     <use xlink:href=\"#m91727e2069\" x=\"103.636462\" y=\"65.261135\" style=\"fill: #1f77b4; stroke: #1f77b4\"/>\n     <use xlink:href=\"#m91727e2069\" x=\"142.093384\" y=\"94.903728\" style=\"fill: #1f77b4; stroke: #1f77b4\"/>\n     <use xlink:href=\"#m91727e2069\" x=\"151.564038\" y=\"84.198002\" style=\"fill: #1f77b4; stroke: #1f77b4\"/>\n     <use xlink:href=\"#m91727e2069\" x=\"121.930824\" y=\"82.051912\" style=\"fill: #1f77b4; stroke: #1f77b4\"/>\n     <use xlink:href=\"#m91727e2069\" x=\"139.288591\" y=\"94.880003\" style=\"fill: #1f77b4; stroke: #1f77b4\"/>\n     <use xlink:href=\"#m91727e2069\" x=\"139.215476\" y=\"97.108563\" style=\"fill: #1f77b4; stroke: #1f77b4\"/>\n     <use xlink:href=\"#m91727e2069\" x=\"213.347727\" y=\"137.633509\" style=\"fill: #1f77b4; stroke: #1f77b4\"/>\n     <use xlink:href=\"#m91727e2069\" x=\"131.230738\" y=\"78.326213\" style=\"fill: #1f77b4; stroke: #1f77b4\"/>\n     <use xlink:href=\"#m91727e2069\" x=\"111.957708\" y=\"69.974354\" style=\"fill: #1f77b4; stroke: #1f77b4\"/>\n     <use xlink:href=\"#m91727e2069\" x=\"188.482514\" y=\"120.948653\" style=\"fill: #1f77b4; stroke: #1f77b4\"/>\n     <use xlink:href=\"#m91727e2069\" x=\"153.589533\" y=\"96.539696\" style=\"fill: #1f77b4; stroke: #1f77b4\"/>\n     <use xlink:href=\"#m91727e2069\" x=\"125.727209\" y=\"79.915142\" style=\"fill: #1f77b4; stroke: #1f77b4\"/>\n     <use xlink:href=\"#m91727e2069\" x=\"175.314814\" y=\"110.451678\" style=\"fill: #1f77b4; stroke: #1f77b4\"/>\n     <use xlink:href=\"#m91727e2069\" x=\"157.90995\" y=\"94.609723\" style=\"fill: #1f77b4; stroke: #1f77b4\"/>\n     <use xlink:href=\"#m91727e2069\" x=\"132.493972\" y=\"92.475823\" style=\"fill: #1f77b4; stroke: #1f77b4\"/>\n     <use xlink:href=\"#m91727e2069\" x=\"106.367597\" y=\"71.453634\" style=\"fill: #1f77b4; stroke: #1f77b4\"/>\n     <use xlink:href=\"#m91727e2069\" x=\"126.089923\" y=\"72.361648\" style=\"fill: #1f77b4; stroke: #1f77b4\"/>\n     <use xlink:href=\"#m91727e2069\" x=\"156.628935\" y=\"110.915483\" style=\"fill: #1f77b4; stroke: #1f77b4\"/>\n     <use xlink:href=\"#m91727e2069\" x=\"189.932836\" y=\"129.62541\" style=\"fill: #1f77b4; stroke: #1f77b4\"/>\n     <use xlink:href=\"#m91727e2069\" x=\"132.95754\" y=\"82.912119\" style=\"fill: #1f77b4; stroke: #1f77b4\"/>\n     <use xlink:href=\"#m91727e2069\" x=\"162.654181\" y=\"103.223887\" style=\"fill: #1f77b4; stroke: #1f77b4\"/>\n     <use xlink:href=\"#m91727e2069\" x=\"150.711648\" y=\"85.46848\" style=\"fill: #1f77b4; stroke: #1f77b4\"/>\n     <use xlink:href=\"#m91727e2069\" x=\"144.855239\" y=\"89.698785\" style=\"fill: #1f77b4; stroke: #1f77b4\"/>\n     <use xlink:href=\"#m91727e2069\" x=\"146.348422\" y=\"99.232706\" style=\"fill: #1f77b4; stroke: #1f77b4\"/>\n     <use xlink:href=\"#m91727e2069\" x=\"170.294318\" y=\"99.907852\" style=\"fill: #1f77b4; stroke: #1f77b4\"/>\n     <use xlink:href=\"#m91727e2069\" x=\"136.178515\" y=\"102.244291\" style=\"fill: #1f77b4; stroke: #1f77b4\"/>\n     <use xlink:href=\"#m91727e2069\" x=\"156.551461\" y=\"95.634952\" style=\"fill: #1f77b4; stroke: #1f77b4\"/>\n     <use xlink:href=\"#m91727e2069\" x=\"172.340986\" y=\"95.295882\" style=\"fill: #1f77b4; stroke: #1f77b4\"/>\n     <use xlink:href=\"#m91727e2069\" x=\"150.325341\" y=\"100.723235\" style=\"fill: #1f77b4; stroke: #1f77b4\"/>\n     <use xlink:href=\"#m91727e2069\" x=\"167.292601\" y=\"100.505239\" style=\"fill: #1f77b4; stroke: #1f77b4\"/>\n     <use xlink:href=\"#m91727e2069\" x=\"178.559208\" y=\"115.350354\" style=\"fill: #1f77b4; stroke: #1f77b4\"/>\n     <use xlink:href=\"#m91727e2069\" x=\"155.677937\" y=\"93.057449\" style=\"fill: #1f77b4; stroke: #1f77b4\"/>\n     <use xlink:href=\"#m91727e2069\" x=\"174.195666\" y=\"120.394753\" style=\"fill: #1f77b4; stroke: #1f77b4\"/>\n     <use xlink:href=\"#m91727e2069\" x=\"122.202866\" y=\"92.532154\" style=\"fill: #1f77b4; stroke: #1f77b4\"/>\n     <use xlink:href=\"#m91727e2069\" x=\"136.125334\" y=\"70.703271\" style=\"fill: #1f77b4; stroke: #1f77b4\"/>\n     <use xlink:href=\"#m91727e2069\" x=\"175.768874\" y=\"106.917517\" style=\"fill: #1f77b4; stroke: #1f77b4\"/>\n     <use xlink:href=\"#m91727e2069\" x=\"124.488747\" y=\"79.485502\" style=\"fill: #1f77b4; stroke: #1f77b4\"/>\n     <use xlink:href=\"#m91727e2069\" x=\"180.237685\" y=\"106.059201\" style=\"fill: #1f77b4; stroke: #1f77b4\"/>\n     <use xlink:href=\"#m91727e2069\" x=\"88.04142\" y=\"55.896825\" style=\"fill: #1f77b4; stroke: #1f77b4\"/>\n     <use xlink:href=\"#m91727e2069\" x=\"105.02029\" y=\"69.252855\" style=\"fill: #1f77b4; stroke: #1f77b4\"/>\n     <use xlink:href=\"#m91727e2069\" x=\"154.360264\" y=\"88.44955\" style=\"fill: #1f77b4; stroke: #1f77b4\"/>\n     <use xlink:href=\"#m91727e2069\" x=\"175.079963\" y=\"106.249945\" style=\"fill: #1f77b4; stroke: #1f77b4\"/>\n     <use xlink:href=\"#m91727e2069\" x=\"111.430002\" y=\"68.974511\" style=\"fill: #1f77b4; stroke: #1f77b4\"/>\n     <use xlink:href=\"#m91727e2069\" x=\"99.240712\" y=\"63.587942\" style=\"fill: #1f77b4; stroke: #1f77b4\"/>\n     <use xlink:href=\"#m91727e2069\" x=\"176.646064\" y=\"104.970896\" style=\"fill: #1f77b4; stroke: #1f77b4\"/>\n     <use xlink:href=\"#m91727e2069\" x=\"176.515707\" y=\"98.40449\" style=\"fill: #1f77b4; stroke: #1f77b4\"/>\n     <use xlink:href=\"#m91727e2069\" x=\"103.616806\" y=\"64.713721\" style=\"fill: #1f77b4; stroke: #1f77b4\"/>\n     <use xlink:href=\"#m91727e2069\" x=\"113.998162\" y=\"78.677205\" style=\"fill: #1f77b4; stroke: #1f77b4\"/>\n     <use xlink:href=\"#m91727e2069\" x=\"118.337097\" y=\"80.807778\" style=\"fill: #1f77b4; stroke: #1f77b4\"/>\n     <use xlink:href=\"#m91727e2069\" x=\"155.099762\" y=\"90.506709\" style=\"fill: #1f77b4; stroke: #1f77b4\"/>\n     <use xlink:href=\"#m91727e2069\" x=\"142.738216\" y=\"99.717346\" style=\"fill: #1f77b4; stroke: #1f77b4\"/>\n     <use xlink:href=\"#m91727e2069\" x=\"169.663515\" y=\"96.710321\" style=\"fill: #1f77b4; stroke: #1f77b4\"/>\n     <use xlink:href=\"#m91727e2069\" x=\"128.646339\" y=\"94.044269\" style=\"fill: #1f77b4; stroke: #1f77b4\"/>\n     <use xlink:href=\"#m91727e2069\" x=\"125.36085\" y=\"73.04561\" style=\"fill: #1f77b4; stroke: #1f77b4\"/>\n     <use xlink:href=\"#m91727e2069\" x=\"144.143675\" y=\"69.099379\" style=\"fill: #1f77b4; stroke: #1f77b4\"/>\n     <use xlink:href=\"#m91727e2069\" x=\"151.058205\" y=\"94.104415\" style=\"fill: #1f77b4; stroke: #1f77b4\"/>\n     <use xlink:href=\"#m91727e2069\" x=\"165.637494\" y=\"99.493799\" style=\"fill: #1f77b4; stroke: #1f77b4\"/>\n     <use xlink:href=\"#m91727e2069\" x=\"162.726255\" y=\"114.771807\" style=\"fill: #1f77b4; stroke: #1f77b4\"/>\n     <use xlink:href=\"#m91727e2069\" x=\"183.402272\" y=\"123.249606\" style=\"fill: #1f77b4; stroke: #1f77b4\"/>\n     <use xlink:href=\"#m91727e2069\" x=\"111.710839\" y=\"66.505099\" style=\"fill: #1f77b4; stroke: #1f77b4\"/>\n     <use xlink:href=\"#m91727e2069\" x=\"154.560891\" y=\"91.260593\" style=\"fill: #1f77b4; stroke: #1f77b4\"/>\n     <use xlink:href=\"#m91727e2069\" x=\"156.322743\" y=\"100.279692\" style=\"fill: #1f77b4; stroke: #1f77b4\"/>\n     <use xlink:href=\"#m91727e2069\" x=\"146.168058\" y=\"94.982001\" style=\"fill: #1f77b4; stroke: #1f77b4\"/>\n     <use xlink:href=\"#m91727e2069\" x=\"121.363839\" y=\"77.493049\" style=\"fill: #1f77b4; stroke: #1f77b4\"/>\n     <use xlink:href=\"#m91727e2069\" x=\"165.820661\" y=\"91.654607\" style=\"fill: #1f77b4; stroke: #1f77b4\"/>\n     <use xlink:href=\"#m91727e2069\" x=\"122.566411\" y=\"85.393382\" style=\"fill: #1f77b4; stroke: #1f77b4\"/>\n     <use xlink:href=\"#m91727e2069\" x=\"161.501572\" y=\"107.292077\" style=\"fill: #1f77b4; stroke: #1f77b4\"/>\n     <use xlink:href=\"#m91727e2069\" x=\"137.578738\" y=\"71.32042\" style=\"fill: #1f77b4; stroke: #1f77b4\"/>\n     <use xlink:href=\"#m91727e2069\" x=\"163.830377\" y=\"99.949322\" style=\"fill: #1f77b4; stroke: #1f77b4\"/>\n     <use xlink:href=\"#m91727e2069\" x=\"120.014473\" y=\"74.334434\" style=\"fill: #1f77b4; stroke: #1f77b4\"/>\n     <use xlink:href=\"#m91727e2069\" x=\"131.160437\" y=\"90.064144\" style=\"fill: #1f77b4; stroke: #1f77b4\"/>\n     <use xlink:href=\"#m91727e2069\" x=\"178.398607\" y=\"102.341705\" style=\"fill: #1f77b4; stroke: #1f77b4\"/>\n     <use xlink:href=\"#m91727e2069\" x=\"155.262909\" y=\"91.787669\" style=\"fill: #1f77b4; stroke: #1f77b4\"/>\n     <use xlink:href=\"#m91727e2069\" x=\"153.278658\" y=\"98.464565\" style=\"fill: #1f77b4; stroke: #1f77b4\"/>\n     <use xlink:href=\"#m91727e2069\" x=\"126.909002\" y=\"92.292496\" style=\"fill: #1f77b4; stroke: #1f77b4\"/>\n     <use xlink:href=\"#m91727e2069\" x=\"133.158792\" y=\"86.276066\" style=\"fill: #1f77b4; stroke: #1f77b4\"/>\n     <use xlink:href=\"#m91727e2069\" x=\"159.347338\" y=\"105.785936\" style=\"fill: #1f77b4; stroke: #1f77b4\"/>\n     <use xlink:href=\"#m91727e2069\" x=\"150.928345\" y=\"90.277044\" style=\"fill: #1f77b4; stroke: #1f77b4\"/>\n     <use xlink:href=\"#m91727e2069\" x=\"101.798798\" y=\"72.095999\" style=\"fill: #1f77b4; stroke: #1f77b4\"/>\n     <use xlink:href=\"#m91727e2069\" x=\"153.702488\" y=\"91.706365\" style=\"fill: #1f77b4; stroke: #1f77b4\"/>\n     <use xlink:href=\"#m91727e2069\" x=\"135.347409\" y=\"74.376214\" style=\"fill: #1f77b4; stroke: #1f77b4\"/>\n     <use xlink:href=\"#m91727e2069\" x=\"93.136481\" y=\"70.93621\" style=\"fill: #1f77b4; stroke: #1f77b4\"/>\n     <use xlink:href=\"#m91727e2069\" x=\"179.90404\" y=\"116.641428\" style=\"fill: #1f77b4; stroke: #1f77b4\"/>\n     <use xlink:href=\"#m91727e2069\" x=\"142.211966\" y=\"90.523445\" style=\"fill: #1f77b4; stroke: #1f77b4\"/>\n     <use xlink:href=\"#m91727e2069\" x=\"127.37478\" y=\"84.289686\" style=\"fill: #1f77b4; stroke: #1f77b4\"/>\n     <use xlink:href=\"#m91727e2069\" x=\"167.135018\" y=\"104.485248\" style=\"fill: #1f77b4; stroke: #1f77b4\"/>\n     <use xlink:href=\"#m91727e2069\" x=\"133.032795\" y=\"98.849769\" style=\"fill: #1f77b4; stroke: #1f77b4\"/>\n     <use xlink:href=\"#m91727e2069\" x=\"135.000375\" y=\"73.24929\" style=\"fill: #1f77b4; stroke: #1f77b4\"/>\n     <use xlink:href=\"#m91727e2069\" x=\"132.604181\" y=\"83.216823\" style=\"fill: #1f77b4; stroke: #1f77b4\"/>\n     <use xlink:href=\"#m91727e2069\" x=\"162.835643\" y=\"114.300668\" style=\"fill: #1f77b4; stroke: #1f77b4\"/>\n     <use xlink:href=\"#m91727e2069\" x=\"130.467438\" y=\"87.677264\" style=\"fill: #1f77b4; stroke: #1f77b4\"/>\n     <use xlink:href=\"#m91727e2069\" x=\"196.930572\" y=\"139.5\" style=\"fill: #1f77b4; stroke: #1f77b4\"/>\n     <use xlink:href=\"#m91727e2069\" x=\"109.794901\" y=\"58.64921\" style=\"fill: #1f77b4; stroke: #1f77b4\"/>\n     <use xlink:href=\"#m91727e2069\" x=\"121.072216\" y=\"82.669209\" style=\"fill: #1f77b4; stroke: #1f77b4\"/>\n     <use xlink:href=\"#m91727e2069\" x=\"188.623774\" y=\"112.061468\" style=\"fill: #1f77b4; stroke: #1f77b4\"/>\n     <use xlink:href=\"#m91727e2069\" x=\"188.534559\" y=\"116.85691\" style=\"fill: #1f77b4; stroke: #1f77b4\"/>\n     <use xlink:href=\"#m91727e2069\" x=\"176.075704\" y=\"100.169426\" style=\"fill: #1f77b4; stroke: #1f77b4\"/>\n     <use xlink:href=\"#m91727e2069\" x=\"194.940604\" y=\"111.809967\" style=\"fill: #1f77b4; stroke: #1f77b4\"/>\n     <use xlink:href=\"#m91727e2069\" x=\"174.882358\" y=\"102.288532\" style=\"fill: #1f77b4; stroke: #1f77b4\"/>\n     <use xlink:href=\"#m91727e2069\" x=\"134.235256\" y=\"107.157857\" style=\"fill: #1f77b4; stroke: #1f77b4\"/>\n     <use xlink:href=\"#m91727e2069\" x=\"152.879635\" y=\"102.32456\" style=\"fill: #1f77b4; stroke: #1f77b4\"/>\n     <use xlink:href=\"#m91727e2069\" x=\"169.482939\" y=\"106.328713\" style=\"fill: #1f77b4; stroke: #1f77b4\"/>\n     <use xlink:href=\"#m91727e2069\" x=\"139.332761\" y=\"82.559608\" style=\"fill: #1f77b4; stroke: #1f77b4\"/>\n     <use xlink:href=\"#m91727e2069\" x=\"123.220802\" y=\"67.366598\" style=\"fill: #1f77b4; stroke: #1f77b4\"/>\n     <use xlink:href=\"#m91727e2069\" x=\"126.614673\" y=\"94.113267\" style=\"fill: #1f77b4; stroke: #1f77b4\"/>\n     <use xlink:href=\"#m91727e2069\" x=\"177.234327\" y=\"104.914846\" style=\"fill: #1f77b4; stroke: #1f77b4\"/>\n     <use xlink:href=\"#m91727e2069\" x=\"180.899429\" y=\"111.31337\" style=\"fill: #1f77b4; stroke: #1f77b4\"/>\n     <use xlink:href=\"#m91727e2069\" x=\"132.552706\" y=\"92.421405\" style=\"fill: #1f77b4; stroke: #1f77b4\"/>\n     <use xlink:href=\"#m91727e2069\" x=\"131.252827\" y=\"90.712665\" style=\"fill: #1f77b4; stroke: #1f77b4\"/>\n     <use xlink:href=\"#m91727e2069\" x=\"172.217688\" y=\"107.839648\" style=\"fill: #1f77b4; stroke: #1f77b4\"/>\n     <use xlink:href=\"#m91727e2069\" x=\"163.696269\" y=\"84.428088\" style=\"fill: #1f77b4; stroke: #1f77b4\"/>\n     <use xlink:href=\"#m91727e2069\" x=\"129.647932\" y=\"70.132028\" style=\"fill: #1f77b4; stroke: #1f77b4\"/>\n     <use xlink:href=\"#m91727e2069\" x=\"154.51228\" y=\"87.029497\" style=\"fill: #1f77b4; stroke: #1f77b4\"/>\n     <use xlink:href=\"#m91727e2069\" x=\"168.907254\" y=\"95.794587\" style=\"fill: #1f77b4; stroke: #1f77b4\"/>\n     <use xlink:href=\"#m91727e2069\" x=\"176.970753\" y=\"91.035933\" style=\"fill: #1f77b4; stroke: #1f77b4\"/>\n     <use xlink:href=\"#m91727e2069\" x=\"203.936839\" y=\"131.713947\" style=\"fill: #1f77b4; stroke: #1f77b4\"/>\n     <use xlink:href=\"#m91727e2069\" x=\"81.911747\" y=\"62.112513\" style=\"fill: #1f77b4; stroke: #1f77b4\"/>\n     <use xlink:href=\"#m91727e2069\" x=\"154.555738\" y=\"97.642105\" style=\"fill: #1f77b4; stroke: #1f77b4\"/>\n     <use xlink:href=\"#m91727e2069\" x=\"163.468397\" y=\"106.959458\" style=\"fill: #1f77b4; stroke: #1f77b4\"/>\n     <use xlink:href=\"#m91727e2069\" x=\"138.848707\" y=\"87.781776\" style=\"fill: #1f77b4; stroke: #1f77b4\"/>\n     <use xlink:href=\"#m91727e2069\" x=\"137.635677\" y=\"78.858414\" style=\"fill: #1f77b4; stroke: #1f77b4\"/>\n     <use xlink:href=\"#m91727e2069\" x=\"184.947717\" y=\"107.273891\" style=\"fill: #1f77b4; stroke: #1f77b4\"/>\n     <use xlink:href=\"#m91727e2069\" x=\"136.664345\" y=\"66.766369\" style=\"fill: #1f77b4; stroke: #1f77b4\"/>\n     <use xlink:href=\"#m91727e2069\" x=\"118.940647\" y=\"85.191886\" style=\"fill: #1f77b4; stroke: #1f77b4\"/>\n     <use xlink:href=\"#m91727e2069\" x=\"131.191273\" y=\"98.205515\" style=\"fill: #1f77b4; stroke: #1f77b4\"/>\n     <use xlink:href=\"#m91727e2069\" x=\"176.287304\" y=\"97.768838\" style=\"fill: #1f77b4; stroke: #1f77b4\"/>\n     <use xlink:href=\"#m91727e2069\" x=\"181.519809\" y=\"104.929584\" style=\"fill: #1f77b4; stroke: #1f77b4\"/>\n     <use xlink:href=\"#m91727e2069\" x=\"188.698198\" y=\"112.506679\" style=\"fill: #1f77b4; stroke: #1f77b4\"/>\n     <use xlink:href=\"#m91727e2069\" x=\"181.651695\" y=\"99.458923\" style=\"fill: #1f77b4; stroke: #1f77b4\"/>\n     <use xlink:href=\"#m91727e2069\" x=\"170.959873\" y=\"104.794609\" style=\"fill: #1f77b4; stroke: #1f77b4\"/>\n     <use xlink:href=\"#m91727e2069\" x=\"183.808846\" y=\"114.781039\" style=\"fill: #1f77b4; stroke: #1f77b4\"/>\n     <use xlink:href=\"#m91727e2069\" x=\"132.525466\" y=\"90.727011\" style=\"fill: #1f77b4; stroke: #1f77b4\"/>\n     <use xlink:href=\"#m91727e2069\" x=\"176.787362\" y=\"96.87038\" style=\"fill: #1f77b4; stroke: #1f77b4\"/>\n     <use xlink:href=\"#m91727e2069\" x=\"137.380394\" y=\"97.605169\" style=\"fill: #1f77b4; stroke: #1f77b4\"/>\n     <use xlink:href=\"#m91727e2069\" x=\"100.49888\" y=\"77.406832\" style=\"fill: #1f77b4; stroke: #1f77b4\"/>\n     <use xlink:href=\"#m91727e2069\" x=\"135.917977\" y=\"87.269766\" style=\"fill: #1f77b4; stroke: #1f77b4\"/>\n     <use xlink:href=\"#m91727e2069\" x=\"126.370349\" y=\"75.508422\" style=\"fill: #1f77b4; stroke: #1f77b4\"/>\n     <use xlink:href=\"#m91727e2069\" x=\"110.821112\" y=\"76.436354\" style=\"fill: #1f77b4; stroke: #1f77b4\"/>\n     <use xlink:href=\"#m91727e2069\" x=\"169.571101\" y=\"109.949725\" style=\"fill: #1f77b4; stroke: #1f77b4\"/>\n     <use xlink:href=\"#m91727e2069\" x=\"146.209322\" y=\"91.768021\" style=\"fill: #1f77b4; stroke: #1f77b4\"/>\n     <use xlink:href=\"#m91727e2069\" x=\"163.584537\" y=\"98.627468\" style=\"fill: #1f77b4; stroke: #1f77b4\"/>\n     <use xlink:href=\"#m91727e2069\" x=\"123.530836\" y=\"87.149493\" style=\"fill: #1f77b4; stroke: #1f77b4\"/>\n     <use xlink:href=\"#m91727e2069\" x=\"100.301176\" y=\"63.431714\" style=\"fill: #1f77b4; stroke: #1f77b4\"/>\n     <use xlink:href=\"#m91727e2069\" x=\"125.588991\" y=\"74.517406\" style=\"fill: #1f77b4; stroke: #1f77b4\"/>\n     <use xlink:href=\"#m91727e2069\" x=\"116.972594\" y=\"90.61378\" style=\"fill: #1f77b4; stroke: #1f77b4\"/>\n     <use xlink:href=\"#m91727e2069\" x=\"159.170538\" y=\"114.027796\" style=\"fill: #1f77b4; stroke: #1f77b4\"/>\n     <use xlink:href=\"#m91727e2069\" x=\"110.114608\" y=\"74.210605\" style=\"fill: #1f77b4; stroke: #1f77b4\"/>\n     <use xlink:href=\"#m91727e2069\" x=\"120.314929\" y=\"57.802503\" style=\"fill: #1f77b4; stroke: #1f77b4\"/>\n     <use xlink:href=\"#m91727e2069\" x=\"135.810292\" y=\"84.207075\" style=\"fill: #1f77b4; stroke: #1f77b4\"/>\n     <use xlink:href=\"#m91727e2069\" x=\"152.789424\" y=\"87.843655\" style=\"fill: #1f77b4; stroke: #1f77b4\"/>\n     <use xlink:href=\"#m91727e2069\" x=\"161.524681\" y=\"93.553487\" style=\"fill: #1f77b4; stroke: #1f77b4\"/>\n     <use xlink:href=\"#m91727e2069\" x=\"175.102609\" y=\"104.152717\" style=\"fill: #1f77b4; stroke: #1f77b4\"/>\n     <use xlink:href=\"#m91727e2069\" x=\"161.628512\" y=\"103.065712\" style=\"fill: #1f77b4; stroke: #1f77b4\"/>\n     <use xlink:href=\"#m91727e2069\" x=\"147.944657\" y=\"90.632035\" style=\"fill: #1f77b4; stroke: #1f77b4\"/>\n     <use xlink:href=\"#m91727e2069\" x=\"158.725648\" y=\"105.062496\" style=\"fill: #1f77b4; stroke: #1f77b4\"/>\n     <use xlink:href=\"#m91727e2069\" x=\"125.658005\" y=\"81.278832\" style=\"fill: #1f77b4; stroke: #1f77b4\"/>\n     <use xlink:href=\"#m91727e2069\" x=\"134.55387\" y=\"78.857564\" style=\"fill: #1f77b4; stroke: #1f77b4\"/>\n     <use xlink:href=\"#m91727e2069\" x=\"140.054583\" y=\"86.242565\" style=\"fill: #1f77b4; stroke: #1f77b4\"/>\n     <use xlink:href=\"#m91727e2069\" x=\"177.020079\" y=\"105.453518\" style=\"fill: #1f77b4; stroke: #1f77b4\"/>\n     <use xlink:href=\"#m91727e2069\" x=\"117.102585\" y=\"69.842357\" style=\"fill: #1f77b4; stroke: #1f77b4\"/>\n     <use xlink:href=\"#m91727e2069\" x=\"129.035397\" y=\"68.572649\" style=\"fill: #1f77b4; stroke: #1f77b4\"/>\n     <use xlink:href=\"#m91727e2069\" x=\"112.390686\" y=\"60.345465\" style=\"fill: #1f77b4; stroke: #1f77b4\"/>\n     <use xlink:href=\"#m91727e2069\" x=\"161.874291\" y=\"101.316468\" style=\"fill: #1f77b4; stroke: #1f77b4\"/>\n     <use xlink:href=\"#m91727e2069\" x=\"182.651288\" y=\"101.617733\" style=\"fill: #1f77b4; stroke: #1f77b4\"/>\n     <use xlink:href=\"#m91727e2069\" x=\"136.66732\" y=\"100.851734\" style=\"fill: #1f77b4; stroke: #1f77b4\"/>\n     <use xlink:href=\"#m91727e2069\" x=\"142.049102\" y=\"91.267075\" style=\"fill: #1f77b4; stroke: #1f77b4\"/>\n     <use xlink:href=\"#m91727e2069\" x=\"160.376816\" y=\"108.542169\" style=\"fill: #1f77b4; stroke: #1f77b4\"/>\n     <use xlink:href=\"#m91727e2069\" x=\"166.532625\" y=\"86.663372\" style=\"fill: #1f77b4; stroke: #1f77b4\"/>\n     <use xlink:href=\"#m91727e2069\" x=\"116.672663\" y=\"86.928597\" style=\"fill: #1f77b4; stroke: #1f77b4\"/>\n     <use xlink:href=\"#m91727e2069\" x=\"151.756753\" y=\"102.640214\" style=\"fill: #1f77b4; stroke: #1f77b4\"/>\n     <use xlink:href=\"#m91727e2069\" x=\"100.035709\" y=\"80.905648\" style=\"fill: #1f77b4; stroke: #1f77b4\"/>\n     <use xlink:href=\"#m91727e2069\" x=\"132.86293\" y=\"86.412284\" style=\"fill: #1f77b4; stroke: #1f77b4\"/>\n     <use xlink:href=\"#m91727e2069\" x=\"137.432496\" y=\"108.871086\" style=\"fill: #1f77b4; stroke: #1f77b4\"/>\n     <use xlink:href=\"#m91727e2069\" x=\"120.17859\" y=\"68.477423\" style=\"fill: #1f77b4; stroke: #1f77b4\"/>\n     <use xlink:href=\"#m91727e2069\" x=\"152.06339\" y=\"105.391673\" style=\"fill: #1f77b4; stroke: #1f77b4\"/>\n     <use xlink:href=\"#m91727e2069\" x=\"160.642819\" y=\"99.186279\" style=\"fill: #1f77b4; stroke: #1f77b4\"/>\n     <use xlink:href=\"#m91727e2069\" x=\"125.130418\" y=\"66.097625\" style=\"fill: #1f77b4; stroke: #1f77b4\"/>\n     <use xlink:href=\"#m91727e2069\" x=\"127.934007\" y=\"85.152115\" style=\"fill: #1f77b4; stroke: #1f77b4\"/>\n     <use xlink:href=\"#m91727e2069\" x=\"160.403284\" y=\"94.595652\" style=\"fill: #1f77b4; stroke: #1f77b4\"/>\n     <use xlink:href=\"#m91727e2069\" x=\"140.837816\" y=\"77.075278\" style=\"fill: #1f77b4; stroke: #1f77b4\"/>\n     <use xlink:href=\"#m91727e2069\" x=\"164.506471\" y=\"111.597797\" style=\"fill: #1f77b4; stroke: #1f77b4\"/>\n     <use xlink:href=\"#m91727e2069\" x=\"142.654772\" y=\"97.522164\" style=\"fill: #1f77b4; stroke: #1f77b4\"/>\n     <use xlink:href=\"#m91727e2069\" x=\"134.633668\" y=\"80.317944\" style=\"fill: #1f77b4; stroke: #1f77b4\"/>\n     <use xlink:href=\"#m91727e2069\" x=\"139.736351\" y=\"82.184626\" style=\"fill: #1f77b4; stroke: #1f77b4\"/>\n     <use xlink:href=\"#m91727e2069\" x=\"168.296692\" y=\"100.375282\" style=\"fill: #1f77b4; stroke: #1f77b4\"/>\n     <use xlink:href=\"#m91727e2069\" x=\"126.03139\" y=\"76.240449\" style=\"fill: #1f77b4; stroke: #1f77b4\"/>\n     <use xlink:href=\"#m91727e2069\" x=\"151.562527\" y=\"82.438816\" style=\"fill: #1f77b4; stroke: #1f77b4\"/>\n     <use xlink:href=\"#m91727e2069\" x=\"140.021109\" y=\"98.663396\" style=\"fill: #1f77b4; stroke: #1f77b4\"/>\n     <use xlink:href=\"#m91727e2069\" x=\"134.351628\" y=\"77.691507\" style=\"fill: #1f77b4; stroke: #1f77b4\"/>\n     <use xlink:href=\"#m91727e2069\" x=\"180.133485\" y=\"120.803854\" style=\"fill: #1f77b4; stroke: #1f77b4\"/>\n     <use xlink:href=\"#m91727e2069\" x=\"157.200259\" y=\"103.806959\" style=\"fill: #1f77b4; stroke: #1f77b4\"/>\n     <use xlink:href=\"#m91727e2069\" x=\"118.264836\" y=\"65.626613\" style=\"fill: #1f77b4; stroke: #1f77b4\"/>\n     <use xlink:href=\"#m91727e2069\" x=\"119.614632\" y=\"75.777536\" style=\"fill: #1f77b4; stroke: #1f77b4\"/>\n     <use xlink:href=\"#m91727e2069\" x=\"152.515998\" y=\"101.032823\" style=\"fill: #1f77b4; stroke: #1f77b4\"/>\n     <use xlink:href=\"#m91727e2069\" x=\"155.142978\" y=\"91.492716\" style=\"fill: #1f77b4; stroke: #1f77b4\"/>\n     <use xlink:href=\"#m91727e2069\" x=\"134.905969\" y=\"86.319552\" style=\"fill: #1f77b4; stroke: #1f77b4\"/>\n     <use xlink:href=\"#m91727e2069\" x=\"172.932194\" y=\"106.080238\" style=\"fill: #1f77b4; stroke: #1f77b4\"/>\n     <use xlink:href=\"#m91727e2069\" x=\"142.39311\" y=\"85.305004\" style=\"fill: #1f77b4; stroke: #1f77b4\"/>\n     <use xlink:href=\"#m91727e2069\" x=\"174.62408\" y=\"103.046441\" style=\"fill: #1f77b4; stroke: #1f77b4\"/>\n     <use xlink:href=\"#m91727e2069\" x=\"136.133824\" y=\"70.160375\" style=\"fill: #1f77b4; stroke: #1f77b4\"/>\n     <use xlink:href=\"#m91727e2069\" x=\"181.898523\" y=\"117.191884\" style=\"fill: #1f77b4; stroke: #1f77b4\"/>\n     <use xlink:href=\"#m91727e2069\" x=\"170.822447\" y=\"102.541772\" style=\"fill: #1f77b4; stroke: #1f77b4\"/>\n     <use xlink:href=\"#m91727e2069\" x=\"114.780997\" y=\"71.242209\" style=\"fill: #1f77b4; stroke: #1f77b4\"/>\n     <use xlink:href=\"#m91727e2069\" x=\"186.929305\" y=\"107.489053\" style=\"fill: #1f77b4; stroke: #1f77b4\"/>\n     <use xlink:href=\"#m91727e2069\" x=\"152.241738\" y=\"92.133443\" style=\"fill: #1f77b4; stroke: #1f77b4\"/>\n     <use xlink:href=\"#m91727e2069\" x=\"118.874049\" y=\"87.408727\" style=\"fill: #1f77b4; stroke: #1f77b4\"/>\n     <use xlink:href=\"#m91727e2069\" x=\"157.642516\" y=\"105.242561\" style=\"fill: #1f77b4; stroke: #1f77b4\"/>\n     <use xlink:href=\"#m91727e2069\" x=\"119.114754\" y=\"80.114989\" style=\"fill: #1f77b4; stroke: #1f77b4\"/>\n     <use xlink:href=\"#m91727e2069\" x=\"180.416151\" y=\"105.246909\" style=\"fill: #1f77b4; stroke: #1f77b4\"/>\n     <use xlink:href=\"#m91727e2069\" x=\"157.392255\" y=\"98.290019\" style=\"fill: #1f77b4; stroke: #1f77b4\"/>\n     <use xlink:href=\"#m91727e2069\" x=\"159.436762\" y=\"98.705202\" style=\"fill: #1f77b4; stroke: #1f77b4\"/>\n     <use xlink:href=\"#m91727e2069\" x=\"167.454991\" y=\"87.621556\" style=\"fill: #1f77b4; stroke: #1f77b4\"/>\n     <use xlink:href=\"#m91727e2069\" x=\"173.112359\" y=\"105.987286\" style=\"fill: #1f77b4; stroke: #1f77b4\"/>\n     <use xlink:href=\"#m91727e2069\" x=\"145.947222\" y=\"79.365184\" style=\"fill: #1f77b4; stroke: #1f77b4\"/>\n     <use xlink:href=\"#m91727e2069\" x=\"118.411864\" y=\"80.557066\" style=\"fill: #1f77b4; stroke: #1f77b4\"/>\n     <use xlink:href=\"#m91727e2069\" x=\"172.298626\" y=\"108.132035\" style=\"fill: #1f77b4; stroke: #1f77b4\"/>\n     <use xlink:href=\"#m91727e2069\" x=\"133.595165\" y=\"81.283755\" style=\"fill: #1f77b4; stroke: #1f77b4\"/>\n     <use xlink:href=\"#m91727e2069\" x=\"185.260855\" y=\"137.884624\" style=\"fill: #1f77b4; stroke: #1f77b4\"/>\n     <use xlink:href=\"#m91727e2069\" x=\"168.180824\" y=\"109.560398\" style=\"fill: #1f77b4; stroke: #1f77b4\"/>\n     <use xlink:href=\"#m91727e2069\" x=\"135.21256\" y=\"82.547469\" style=\"fill: #1f77b4; stroke: #1f77b4\"/>\n     <use xlink:href=\"#m91727e2069\" x=\"186.966209\" y=\"123.510687\" style=\"fill: #1f77b4; stroke: #1f77b4\"/>\n     <use xlink:href=\"#m91727e2069\" x=\"121.222311\" y=\"88.668519\" style=\"fill: #1f77b4; stroke: #1f77b4\"/>\n     <use xlink:href=\"#m91727e2069\" x=\"206.006474\" y=\"133.443687\" style=\"fill: #1f77b4; stroke: #1f77b4\"/>\n     <use xlink:href=\"#m91727e2069\" x=\"172.510945\" y=\"104.275435\" style=\"fill: #1f77b4; stroke: #1f77b4\"/>\n     <use xlink:href=\"#m91727e2069\" x=\"148.385179\" y=\"91.133118\" style=\"fill: #1f77b4; stroke: #1f77b4\"/>\n     <use xlink:href=\"#m91727e2069\" x=\"177.753474\" y=\"114.481899\" style=\"fill: #1f77b4; stroke: #1f77b4\"/>\n     <use xlink:href=\"#m91727e2069\" x=\"189.961964\" y=\"112.868816\" style=\"fill: #1f77b4; stroke: #1f77b4\"/>\n     <use xlink:href=\"#m91727e2069\" x=\"137.873015\" y=\"86.854266\" style=\"fill: #1f77b4; stroke: #1f77b4\"/>\n     <use xlink:href=\"#m91727e2069\" x=\"129.43707\" y=\"88.766869\" style=\"fill: #1f77b4; stroke: #1f77b4\"/>\n     <use xlink:href=\"#m91727e2069\" x=\"162.119543\" y=\"95.917322\" style=\"fill: #1f77b4; stroke: #1f77b4\"/>\n     <use xlink:href=\"#m91727e2069\" x=\"144.088312\" y=\"81.217472\" style=\"fill: #1f77b4; stroke: #1f77b4\"/>\n     <use xlink:href=\"#m91727e2069\" x=\"118.680058\" y=\"74.618861\" style=\"fill: #1f77b4; stroke: #1f77b4\"/>\n     <use xlink:href=\"#m91727e2069\" x=\"200.869543\" y=\"122.674975\" style=\"fill: #1f77b4; stroke: #1f77b4\"/>\n     <use xlink:href=\"#m91727e2069\" x=\"189.039771\" y=\"108.985988\" style=\"fill: #1f77b4; stroke: #1f77b4\"/>\n     <use xlink:href=\"#m91727e2069\" x=\"104.359855\" y=\"67.243234\" style=\"fill: #1f77b4; stroke: #1f77b4\"/>\n     <use xlink:href=\"#m91727e2069\" x=\"152.55885\" y=\"86.003676\" style=\"fill: #1f77b4; stroke: #1f77b4\"/>\n     <use xlink:href=\"#m91727e2069\" x=\"156.932996\" y=\"102.997783\" style=\"fill: #1f77b4; stroke: #1f77b4\"/>\n     <use xlink:href=\"#m91727e2069\" x=\"113.836096\" y=\"82.556784\" style=\"fill: #1f77b4; stroke: #1f77b4\"/>\n     <use xlink:href=\"#m91727e2069\" x=\"137.800645\" y=\"81.906027\" style=\"fill: #1f77b4; stroke: #1f77b4\"/>\n     <use xlink:href=\"#m91727e2069\" x=\"105.749041\" y=\"60.137144\" style=\"fill: #1f77b4; stroke: #1f77b4\"/>\n     <use xlink:href=\"#m91727e2069\" x=\"156.837906\" y=\"98.296061\" style=\"fill: #1f77b4; stroke: #1f77b4\"/>\n     <use xlink:href=\"#m91727e2069\" x=\"150.287663\" y=\"94.850687\" style=\"fill: #1f77b4; stroke: #1f77b4\"/>\n     <use xlink:href=\"#m91727e2069\" x=\"152.685828\" y=\"100.901907\" style=\"fill: #1f77b4; stroke: #1f77b4\"/>\n     <use xlink:href=\"#m91727e2069\" x=\"130.952067\" y=\"86.814578\" style=\"fill: #1f77b4; stroke: #1f77b4\"/>\n     <use xlink:href=\"#m91727e2069\" x=\"172.688627\" y=\"104.838636\" style=\"fill: #1f77b4; stroke: #1f77b4\"/>\n     <use xlink:href=\"#m91727e2069\" x=\"140.002782\" y=\"89.933671\" style=\"fill: #1f77b4; stroke: #1f77b4\"/>\n     <use xlink:href=\"#m91727e2069\" x=\"97.775685\" y=\"63.351714\" style=\"fill: #1f77b4; stroke: #1f77b4\"/>\n     <use xlink:href=\"#m91727e2069\" x=\"159.780714\" y=\"100.122713\" style=\"fill: #1f77b4; stroke: #1f77b4\"/>\n     <use xlink:href=\"#m91727e2069\" x=\"136.174303\" y=\"88.008482\" style=\"fill: #1f77b4; stroke: #1f77b4\"/>\n     <use xlink:href=\"#m91727e2069\" x=\"146.109515\" y=\"105.459519\" style=\"fill: #1f77b4; stroke: #1f77b4\"/>\n     <use xlink:href=\"#m91727e2069\" x=\"136.231334\" y=\"100.208586\" style=\"fill: #1f77b4; stroke: #1f77b4\"/>\n     <use xlink:href=\"#m91727e2069\" x=\"129.930448\" y=\"81.11565\" style=\"fill: #1f77b4; stroke: #1f77b4\"/>\n     <use xlink:href=\"#m91727e2069\" x=\"171.008644\" y=\"114.848527\" style=\"fill: #1f77b4; stroke: #1f77b4\"/>\n     <use xlink:href=\"#m91727e2069\" x=\"123.386056\" y=\"83.821525\" style=\"fill: #1f77b4; stroke: #1f77b4\"/>\n     <use xlink:href=\"#m91727e2069\" x=\"153.661387\" y=\"96.338662\" style=\"fill: #1f77b4; stroke: #1f77b4\"/>\n     <use xlink:href=\"#m91727e2069\" x=\"135.196185\" y=\"80.714203\" style=\"fill: #1f77b4; stroke: #1f77b4\"/>\n     <use xlink:href=\"#m91727e2069\" x=\"133.596141\" y=\"80.355746\" style=\"fill: #1f77b4; stroke: #1f77b4\"/>\n     <use xlink:href=\"#m91727e2069\" x=\"149.271682\" y=\"88.117039\" style=\"fill: #1f77b4; stroke: #1f77b4\"/>\n     <use xlink:href=\"#m91727e2069\" x=\"126.533121\" y=\"77.322489\" style=\"fill: #1f77b4; stroke: #1f77b4\"/>\n     <use xlink:href=\"#m91727e2069\" x=\"159.299579\" y=\"96.522058\" style=\"fill: #1f77b4; stroke: #1f77b4\"/>\n     <use xlink:href=\"#m91727e2069\" x=\"159.241594\" y=\"89.790802\" style=\"fill: #1f77b4; stroke: #1f77b4\"/>\n     <use xlink:href=\"#m91727e2069\" x=\"157.748579\" y=\"104.232841\" style=\"fill: #1f77b4; stroke: #1f77b4\"/>\n     <use xlink:href=\"#m91727e2069\" x=\"119.796441\" y=\"82.020233\" style=\"fill: #1f77b4; stroke: #1f77b4\"/>\n     <use xlink:href=\"#m91727e2069\" x=\"141.335359\" y=\"79.702325\" style=\"fill: #1f77b4; stroke: #1f77b4\"/>\n     <use xlink:href=\"#m91727e2069\" x=\"148.980959\" y=\"97.558065\" style=\"fill: #1f77b4; stroke: #1f77b4\"/>\n     <use xlink:href=\"#m91727e2069\" x=\"176.948212\" y=\"111.749318\" style=\"fill: #1f77b4; stroke: #1f77b4\"/>\n     <use xlink:href=\"#m91727e2069\" x=\"110.691899\" y=\"72.718998\" style=\"fill: #1f77b4; stroke: #1f77b4\"/>\n     <use xlink:href=\"#m91727e2069\" x=\"128.378902\" y=\"84.805005\" style=\"fill: #1f77b4; stroke: #1f77b4\"/>\n     <use xlink:href=\"#m91727e2069\" x=\"163.525204\" y=\"107.316065\" style=\"fill: #1f77b4; stroke: #1f77b4\"/>\n     <use xlink:href=\"#m91727e2069\" x=\"112.236555\" y=\"69.553965\" style=\"fill: #1f77b4; stroke: #1f77b4\"/>\n     <use xlink:href=\"#m91727e2069\" x=\"162.098539\" y=\"102.731645\" style=\"fill: #1f77b4; stroke: #1f77b4\"/>\n     <use xlink:href=\"#m91727e2069\" x=\"167.516417\" y=\"98.083422\" style=\"fill: #1f77b4; stroke: #1f77b4\"/>\n     <use xlink:href=\"#m91727e2069\" x=\"187.412722\" y=\"112.322132\" style=\"fill: #1f77b4; stroke: #1f77b4\"/>\n     <use xlink:href=\"#m91727e2069\" x=\"170.486489\" y=\"107.270862\" style=\"fill: #1f77b4; stroke: #1f77b4\"/>\n     <use xlink:href=\"#m91727e2069\" x=\"177.759436\" y=\"109.522204\" style=\"fill: #1f77b4; stroke: #1f77b4\"/>\n     <use xlink:href=\"#m91727e2069\" x=\"192.335511\" y=\"112.176855\" style=\"fill: #1f77b4; stroke: #1f77b4\"/>\n     <use xlink:href=\"#m91727e2069\" x=\"112.342948\" y=\"74.730668\" style=\"fill: #1f77b4; stroke: #1f77b4\"/>\n     <use xlink:href=\"#m91727e2069\" x=\"132.643105\" y=\"101.25548\" style=\"fill: #1f77b4; stroke: #1f77b4\"/>\n     <use xlink:href=\"#m91727e2069\" x=\"123.200544\" y=\"74.615867\" style=\"fill: #1f77b4; stroke: #1f77b4\"/>\n     <use xlink:href=\"#m91727e2069\" x=\"158.028148\" y=\"100.114997\" style=\"fill: #1f77b4; stroke: #1f77b4\"/>\n     <use xlink:href=\"#m91727e2069\" x=\"103.851822\" y=\"63.711914\" style=\"fill: #1f77b4; stroke: #1f77b4\"/>\n     <use xlink:href=\"#m91727e2069\" x=\"136.384158\" y=\"77.462895\" style=\"fill: #1f77b4; stroke: #1f77b4\"/>\n     <use xlink:href=\"#m91727e2069\" x=\"194.604473\" y=\"112.263942\" style=\"fill: #1f77b4; stroke: #1f77b4\"/>\n     <use xlink:href=\"#m91727e2069\" x=\"92.349146\" y=\"63.810983\" style=\"fill: #1f77b4; stroke: #1f77b4\"/>\n     <use xlink:href=\"#m91727e2069\" x=\"175.14929\" y=\"93.433918\" style=\"fill: #1f77b4; stroke: #1f77b4\"/>\n     <use xlink:href=\"#m91727e2069\" x=\"186.612163\" y=\"124.334963\" style=\"fill: #1f77b4; stroke: #1f77b4\"/>\n     <use xlink:href=\"#m91727e2069\" x=\"129.844066\" y=\"74.481733\" style=\"fill: #1f77b4; stroke: #1f77b4\"/>\n     <use xlink:href=\"#m91727e2069\" x=\"130.275527\" y=\"93.713521\" style=\"fill: #1f77b4; stroke: #1f77b4\"/>\n     <use xlink:href=\"#m91727e2069\" x=\"211.768126\" y=\"138.828815\" style=\"fill: #1f77b4; stroke: #1f77b4\"/>\n     <use xlink:href=\"#m91727e2069\" x=\"122.872121\" y=\"74.759646\" style=\"fill: #1f77b4; stroke: #1f77b4\"/>\n     <use xlink:href=\"#m91727e2069\" x=\"174.683829\" y=\"94.257132\" style=\"fill: #1f77b4; stroke: #1f77b4\"/>\n     <use xlink:href=\"#m91727e2069\" x=\"127.999041\" y=\"68.702628\" style=\"fill: #1f77b4; stroke: #1f77b4\"/>\n     <use xlink:href=\"#m91727e2069\" x=\"135.06949\" y=\"84.062573\" style=\"fill: #1f77b4; stroke: #1f77b4\"/>\n     <use xlink:href=\"#m91727e2069\" x=\"161.32043\" y=\"104.729752\" style=\"fill: #1f77b4; stroke: #1f77b4\"/>\n     <use xlink:href=\"#m91727e2069\" x=\"102.415077\" y=\"67.65134\" style=\"fill: #1f77b4; stroke: #1f77b4\"/>\n     <use xlink:href=\"#m91727e2069\" x=\"118.113153\" y=\"84.674708\" style=\"fill: #1f77b4; stroke: #1f77b4\"/>\n     <use xlink:href=\"#m91727e2069\" x=\"184.777209\" y=\"111.068857\" style=\"fill: #1f77b4; stroke: #1f77b4\"/>\n     <use xlink:href=\"#m91727e2069\" x=\"159.077534\" y=\"110.717303\" style=\"fill: #1f77b4; stroke: #1f77b4\"/>\n     <use xlink:href=\"#m91727e2069\" x=\"165.566097\" y=\"115.044938\" style=\"fill: #1f77b4; stroke: #1f77b4\"/>\n     <use xlink:href=\"#m91727e2069\" x=\"145.199208\" y=\"81.003793\" style=\"fill: #1f77b4; stroke: #1f77b4\"/>\n     <use xlink:href=\"#m91727e2069\" x=\"112.721366\" y=\"63.362283\" style=\"fill: #1f77b4; stroke: #1f77b4\"/>\n     <use xlink:href=\"#m91727e2069\" x=\"150.616818\" y=\"81.323133\" style=\"fill: #1f77b4; stroke: #1f77b4\"/>\n     <use xlink:href=\"#m91727e2069\" x=\"154.623562\" y=\"98.106021\" style=\"fill: #1f77b4; stroke: #1f77b4\"/>\n     <use xlink:href=\"#m91727e2069\" x=\"146.836612\" y=\"86.517225\" style=\"fill: #1f77b4; stroke: #1f77b4\"/>\n     <use xlink:href=\"#m91727e2069\" x=\"148.766051\" y=\"84.952726\" style=\"fill: #1f77b4; stroke: #1f77b4\"/>\n     <use xlink:href=\"#m91727e2069\" x=\"109.613086\" y=\"87.983797\" style=\"fill: #1f77b4; stroke: #1f77b4\"/>\n     <use xlink:href=\"#m91727e2069\" x=\"93.172621\" y=\"67.37787\" style=\"fill: #1f77b4; stroke: #1f77b4\"/>\n     <use xlink:href=\"#m91727e2069\" x=\"130.432599\" y=\"85.700692\" style=\"fill: #1f77b4; stroke: #1f77b4\"/>\n     <use xlink:href=\"#m91727e2069\" x=\"167.084657\" y=\"102.413553\" style=\"fill: #1f77b4; stroke: #1f77b4\"/>\n     <use xlink:href=\"#m91727e2069\" x=\"140.055438\" y=\"95.57314\" style=\"fill: #1f77b4; stroke: #1f77b4\"/>\n     <use xlink:href=\"#m91727e2069\" x=\"204.108794\" y=\"126.98003\" style=\"fill: #1f77b4; stroke: #1f77b4\"/>\n     <use xlink:href=\"#m91727e2069\" x=\"136.730288\" y=\"84.836826\" style=\"fill: #1f77b4; stroke: #1f77b4\"/>\n     <use xlink:href=\"#m91727e2069\" x=\"158.063362\" y=\"97.96519\" style=\"fill: #1f77b4; stroke: #1f77b4\"/>\n     <use xlink:href=\"#m91727e2069\" x=\"143.905232\" y=\"98.819866\" style=\"fill: #1f77b4; stroke: #1f77b4\"/>\n     <use xlink:href=\"#m91727e2069\" x=\"124.346461\" y=\"81.135487\" style=\"fill: #1f77b4; stroke: #1f77b4\"/>\n     <use xlink:href=\"#m91727e2069\" x=\"172.563676\" y=\"107.404356\" style=\"fill: #1f77b4; stroke: #1f77b4\"/>\n     <use xlink:href=\"#m91727e2069\" x=\"123.006086\" y=\"88.716707\" style=\"fill: #1f77b4; stroke: #1f77b4\"/>\n     <use xlink:href=\"#m91727e2069\" x=\"129.631485\" y=\"74.314552\" style=\"fill: #1f77b4; stroke: #1f77b4\"/>\n     <use xlink:href=\"#m91727e2069\" x=\"143.713398\" y=\"85.701905\" style=\"fill: #1f77b4; stroke: #1f77b4\"/>\n     <use xlink:href=\"#m91727e2069\" x=\"127.934778\" y=\"70.852848\" style=\"fill: #1f77b4; stroke: #1f77b4\"/>\n     <use xlink:href=\"#m91727e2069\" x=\"125.086026\" y=\"78.536122\" style=\"fill: #1f77b4; stroke: #1f77b4\"/>\n     <use xlink:href=\"#m91727e2069\" x=\"190.189312\" y=\"111.914063\" style=\"fill: #1f77b4; stroke: #1f77b4\"/>\n     <use xlink:href=\"#m91727e2069\" x=\"114.469271\" y=\"69.268792\" style=\"fill: #1f77b4; stroke: #1f77b4\"/>\n     <use xlink:href=\"#m91727e2069\" x=\"143.045514\" y=\"75.064275\" style=\"fill: #1f77b4; stroke: #1f77b4\"/>\n     <use xlink:href=\"#m91727e2069\" x=\"135.437476\" y=\"96.268626\" style=\"fill: #1f77b4; stroke: #1f77b4\"/>\n     <use xlink:href=\"#m91727e2069\" x=\"159.05933\" y=\"98.427558\" style=\"fill: #1f77b4; stroke: #1f77b4\"/>\n     <use xlink:href=\"#m91727e2069\" x=\"143.992395\" y=\"100.41316\" style=\"fill: #1f77b4; stroke: #1f77b4\"/>\n     <use xlink:href=\"#m91727e2069\" x=\"156.679601\" y=\"89.581251\" style=\"fill: #1f77b4; stroke: #1f77b4\"/>\n     <use xlink:href=\"#m91727e2069\" x=\"172.847804\" y=\"114.753453\" style=\"fill: #1f77b4; stroke: #1f77b4\"/>\n     <use xlink:href=\"#m91727e2069\" x=\"159.371122\" y=\"121.552471\" style=\"fill: #1f77b4; stroke: #1f77b4\"/>\n     <use xlink:href=\"#m91727e2069\" x=\"127.835741\" y=\"88.757297\" style=\"fill: #1f77b4; stroke: #1f77b4\"/>\n     <use xlink:href=\"#m91727e2069\" x=\"133.657878\" y=\"77.011908\" style=\"fill: #1f77b4; stroke: #1f77b4\"/>\n     <use xlink:href=\"#m91727e2069\" x=\"169.965173\" y=\"117.46104\" style=\"fill: #1f77b4; stroke: #1f77b4\"/>\n     <use xlink:href=\"#m91727e2069\" x=\"117.489457\" y=\"61.25118\" style=\"fill: #1f77b4; stroke: #1f77b4\"/>\n     <use xlink:href=\"#m91727e2069\" x=\"119.844523\" y=\"71.532809\" style=\"fill: #1f77b4; stroke: #1f77b4\"/>\n     <use xlink:href=\"#m91727e2069\" x=\"145.408784\" y=\"87.022364\" style=\"fill: #1f77b4; stroke: #1f77b4\"/>\n     <use xlink:href=\"#m91727e2069\" x=\"152.690613\" y=\"84.529902\" style=\"fill: #1f77b4; stroke: #1f77b4\"/>\n     <use xlink:href=\"#m91727e2069\" x=\"161.002251\" y=\"99.623049\" style=\"fill: #1f77b4; stroke: #1f77b4\"/>\n     <use xlink:href=\"#m91727e2069\" x=\"179.24583\" y=\"117.651124\" style=\"fill: #1f77b4; stroke: #1f77b4\"/>\n     <use xlink:href=\"#m91727e2069\" x=\"182.002847\" y=\"134.30941\" style=\"fill: #1f77b4; stroke: #1f77b4\"/>\n     <use xlink:href=\"#m91727e2069\" x=\"197.044031\" y=\"111.085628\" style=\"fill: #1f77b4; stroke: #1f77b4\"/>\n     <use xlink:href=\"#m91727e2069\" x=\"150.152376\" y=\"86.618304\" style=\"fill: #1f77b4; stroke: #1f77b4\"/>\n     <use xlink:href=\"#m91727e2069\" x=\"158.98249\" y=\"101.65827\" style=\"fill: #1f77b4; stroke: #1f77b4\"/>\n     <use xlink:href=\"#m91727e2069\" x=\"157.493423\" y=\"86.172566\" style=\"fill: #1f77b4; stroke: #1f77b4\"/>\n     <use xlink:href=\"#m91727e2069\" x=\"123.655662\" y=\"75.837557\" style=\"fill: #1f77b4; stroke: #1f77b4\"/>\n     <use xlink:href=\"#m91727e2069\" x=\"118.545066\" y=\"84.402099\" style=\"fill: #1f77b4; stroke: #1f77b4\"/>\n     <use xlink:href=\"#m91727e2069\" x=\"136.744051\" y=\"79.561411\" style=\"fill: #1f77b4; stroke: #1f77b4\"/>\n     <use xlink:href=\"#m91727e2069\" x=\"158.071702\" y=\"107.933759\" style=\"fill: #1f77b4; stroke: #1f77b4\"/>\n     <use xlink:href=\"#m91727e2069\" x=\"135.390538\" y=\"77.709435\" style=\"fill: #1f77b4; stroke: #1f77b4\"/>\n     <use xlink:href=\"#m91727e2069\" x=\"117.394398\" y=\"69.437011\" style=\"fill: #1f77b4; stroke: #1f77b4\"/>\n     <use xlink:href=\"#m91727e2069\" x=\"87.529976\" y=\"54.294647\" style=\"fill: #1f77b4; stroke: #1f77b4\"/>\n     <use xlink:href=\"#m91727e2069\" x=\"184.961789\" y=\"114.076828\" style=\"fill: #1f77b4; stroke: #1f77b4\"/>\n     <use xlink:href=\"#m91727e2069\" x=\"128.277361\" y=\"82.674646\" style=\"fill: #1f77b4; stroke: #1f77b4\"/>\n     <use xlink:href=\"#m91727e2069\" x=\"145.231531\" y=\"104.655341\" style=\"fill: #1f77b4; stroke: #1f77b4\"/>\n     <use xlink:href=\"#m91727e2069\" x=\"185.14366\" y=\"108.873471\" style=\"fill: #1f77b4; stroke: #1f77b4\"/>\n     <use xlink:href=\"#m91727e2069\" x=\"142.903415\" y=\"88.592464\" style=\"fill: #1f77b4; stroke: #1f77b4\"/>\n     <use xlink:href=\"#m91727e2069\" x=\"181.352568\" y=\"122.668486\" style=\"fill: #1f77b4; stroke: #1f77b4\"/>\n     <use xlink:href=\"#m91727e2069\" x=\"130.852252\" y=\"81.468569\" style=\"fill: #1f77b4; stroke: #1f77b4\"/>\n     <use xlink:href=\"#m91727e2069\" x=\"141.166723\" y=\"99.748544\" style=\"fill: #1f77b4; stroke: #1f77b4\"/>\n     <use xlink:href=\"#m91727e2069\" x=\"141.631553\" y=\"101.312404\" style=\"fill: #1f77b4; stroke: #1f77b4\"/>\n     <use xlink:href=\"#m91727e2069\" x=\"149.405386\" y=\"98.904004\" style=\"fill: #1f77b4; stroke: #1f77b4\"/>\n     <use xlink:href=\"#m91727e2069\" x=\"183.395024\" y=\"115.483379\" style=\"fill: #1f77b4; stroke: #1f77b4\"/>\n     <use xlink:href=\"#m91727e2069\" x=\"160.317354\" y=\"95.513417\" style=\"fill: #1f77b4; stroke: #1f77b4\"/>\n     <use xlink:href=\"#m91727e2069\" x=\"123.269735\" y=\"68.699251\" style=\"fill: #1f77b4; stroke: #1f77b4\"/>\n     <use xlink:href=\"#m91727e2069\" x=\"120.07555\" y=\"78.659639\" style=\"fill: #1f77b4; stroke: #1f77b4\"/>\n     <use xlink:href=\"#m91727e2069\" x=\"185.450675\" y=\"109.782688\" style=\"fill: #1f77b4; stroke: #1f77b4\"/>\n     <use xlink:href=\"#m91727e2069\" x=\"72.253559\" y=\"36.746931\" style=\"fill: #1f77b4; stroke: #1f77b4\"/>\n     <use xlink:href=\"#m91727e2069\" x=\"120.522108\" y=\"78.188686\" style=\"fill: #1f77b4; stroke: #1f77b4\"/>\n     <use xlink:href=\"#m91727e2069\" x=\"168.948502\" y=\"99.440555\" style=\"fill: #1f77b4; stroke: #1f77b4\"/>\n     <use xlink:href=\"#m91727e2069\" x=\"143.608968\" y=\"97.196727\" style=\"fill: #1f77b4; stroke: #1f77b4\"/>\n     <use xlink:href=\"#m91727e2069\" x=\"127.478698\" y=\"87.831141\" style=\"fill: #1f77b4; stroke: #1f77b4\"/>\n     <use xlink:href=\"#m91727e2069\" x=\"158.088345\" y=\"104.355017\" style=\"fill: #1f77b4; stroke: #1f77b4\"/>\n     <use xlink:href=\"#m91727e2069\" x=\"128.160202\" y=\"84.420356\" style=\"fill: #1f77b4; stroke: #1f77b4\"/>\n     <use xlink:href=\"#m91727e2069\" x=\"204.99996\" y=\"117.325031\" style=\"fill: #1f77b4; stroke: #1f77b4\"/>\n     <use xlink:href=\"#m91727e2069\" x=\"162.079812\" y=\"106.227754\" style=\"fill: #1f77b4; stroke: #1f77b4\"/>\n     <use xlink:href=\"#m91727e2069\" x=\"156.208571\" y=\"98.287515\" style=\"fill: #1f77b4; stroke: #1f77b4\"/>\n     <use xlink:href=\"#m91727e2069\" x=\"160.941843\" y=\"87.392999\" style=\"fill: #1f77b4; stroke: #1f77b4\"/>\n     <use xlink:href=\"#m91727e2069\" x=\"144.350103\" y=\"90.704251\" style=\"fill: #1f77b4; stroke: #1f77b4\"/>\n     <use xlink:href=\"#m91727e2069\" x=\"137.53322\" y=\"85.732655\" style=\"fill: #1f77b4; stroke: #1f77b4\"/>\n     <use xlink:href=\"#m91727e2069\" x=\"128.489142\" y=\"90.131444\" style=\"fill: #1f77b4; stroke: #1f77b4\"/>\n     <use xlink:href=\"#m91727e2069\" x=\"140.49583\" y=\"92.137928\" style=\"fill: #1f77b4; stroke: #1f77b4\"/>\n     <use xlink:href=\"#m91727e2069\" x=\"122.356333\" y=\"78.605707\" style=\"fill: #1f77b4; stroke: #1f77b4\"/>\n     <use xlink:href=\"#m91727e2069\" x=\"162.342971\" y=\"105.718892\" style=\"fill: #1f77b4; stroke: #1f77b4\"/>\n     <use xlink:href=\"#m91727e2069\" x=\"163.946793\" y=\"87.926651\" style=\"fill: #1f77b4; stroke: #1f77b4\"/>\n     <use xlink:href=\"#m91727e2069\" x=\"175.309404\" y=\"115.075054\" style=\"fill: #1f77b4; stroke: #1f77b4\"/>\n     <use xlink:href=\"#m91727e2069\" x=\"138.097263\" y=\"70.845202\" style=\"fill: #1f77b4; stroke: #1f77b4\"/>\n     <use xlink:href=\"#m91727e2069\" x=\"132.587621\" y=\"87.449736\" style=\"fill: #1f77b4; stroke: #1f77b4\"/>\n     <use xlink:href=\"#m91727e2069\" x=\"128.290008\" y=\"85.35646\" style=\"fill: #1f77b4; stroke: #1f77b4\"/>\n     <use xlink:href=\"#m91727e2069\" x=\"150.412257\" y=\"80.806593\" style=\"fill: #1f77b4; stroke: #1f77b4\"/>\n     <use xlink:href=\"#m91727e2069\" x=\"136.614059\" y=\"85.493249\" style=\"fill: #1f77b4; stroke: #1f77b4\"/>\n     <use xlink:href=\"#m91727e2069\" x=\"147.819037\" y=\"99.961739\" style=\"fill: #1f77b4; stroke: #1f77b4\"/>\n     <use xlink:href=\"#m91727e2069\" x=\"161.023417\" y=\"116.060135\" style=\"fill: #1f77b4; stroke: #1f77b4\"/>\n     <use xlink:href=\"#m91727e2069\" x=\"153.246727\" y=\"99.88192\" style=\"fill: #1f77b4; stroke: #1f77b4\"/>\n     <use xlink:href=\"#m91727e2069\" x=\"177.610999\" y=\"102.688964\" style=\"fill: #1f77b4; stroke: #1f77b4\"/>\n     <use xlink:href=\"#m91727e2069\" x=\"158.370696\" y=\"101.80434\" style=\"fill: #1f77b4; stroke: #1f77b4\"/>\n     <use xlink:href=\"#m91727e2069\" x=\"145.608773\" y=\"97.895226\" style=\"fill: #1f77b4; stroke: #1f77b4\"/>\n     <use xlink:href=\"#m91727e2069\" x=\"120.936288\" y=\"80.383686\" style=\"fill: #1f77b4; stroke: #1f77b4\"/>\n     <use xlink:href=\"#m91727e2069\" x=\"160.654865\" y=\"95.519838\" style=\"fill: #1f77b4; stroke: #1f77b4\"/>\n     <use xlink:href=\"#m91727e2069\" x=\"178.613392\" y=\"111.629087\" style=\"fill: #1f77b4; stroke: #1f77b4\"/>\n     <use xlink:href=\"#m91727e2069\" x=\"185.991649\" y=\"124.247753\" style=\"fill: #1f77b4; stroke: #1f77b4\"/>\n     <use xlink:href=\"#m91727e2069\" x=\"147.443568\" y=\"86.86421\" style=\"fill: #1f77b4; stroke: #1f77b4\"/>\n     <use xlink:href=\"#m91727e2069\" x=\"145.870092\" y=\"96.943161\" style=\"fill: #1f77b4; stroke: #1f77b4\"/>\n     <use xlink:href=\"#m91727e2069\" x=\"156.15953\" y=\"97.216086\" style=\"fill: #1f77b4; stroke: #1f77b4\"/>\n     <use xlink:href=\"#m91727e2069\" x=\"193.645151\" y=\"109.886537\" style=\"fill: #1f77b4; stroke: #1f77b4\"/>\n     <use xlink:href=\"#m91727e2069\" x=\"183.372906\" y=\"129.949578\" style=\"fill: #1f77b4; stroke: #1f77b4\"/>\n     <use xlink:href=\"#m91727e2069\" x=\"160.994715\" y=\"93.05562\" style=\"fill: #1f77b4; stroke: #1f77b4\"/>\n     <use xlink:href=\"#m91727e2069\" x=\"167.012925\" y=\"89.659644\" style=\"fill: #1f77b4; stroke: #1f77b4\"/>\n     <use xlink:href=\"#m91727e2069\" x=\"132.917456\" y=\"84.847533\" style=\"fill: #1f77b4; stroke: #1f77b4\"/>\n     <use xlink:href=\"#m91727e2069\" x=\"118.911663\" y=\"79.999035\" style=\"fill: #1f77b4; stroke: #1f77b4\"/>\n     <use xlink:href=\"#m91727e2069\" x=\"117.168029\" y=\"80.200453\" style=\"fill: #1f77b4; stroke: #1f77b4\"/>\n     <use xlink:href=\"#m91727e2069\" x=\"140.079137\" y=\"87.359506\" style=\"fill: #1f77b4; stroke: #1f77b4\"/>\n     <use xlink:href=\"#m91727e2069\" x=\"131.880954\" y=\"76.958959\" style=\"fill: #1f77b4; stroke: #1f77b4\"/>\n     <use xlink:href=\"#m91727e2069\" x=\"159.039532\" y=\"97.326283\" style=\"fill: #1f77b4; stroke: #1f77b4\"/>\n     <use xlink:href=\"#m91727e2069\" x=\"95.35922\" y=\"65.186352\" style=\"fill: #1f77b4; stroke: #1f77b4\"/>\n     <use xlink:href=\"#m91727e2069\" x=\"133.248934\" y=\"80.937186\" style=\"fill: #1f77b4; stroke: #1f77b4\"/>\n     <use xlink:href=\"#m91727e2069\" x=\"135.479142\" y=\"79.614342\" style=\"fill: #1f77b4; stroke: #1f77b4\"/>\n     <use xlink:href=\"#m91727e2069\" x=\"188.97723\" y=\"91.164672\" style=\"fill: #1f77b4; stroke: #1f77b4\"/>\n     <use xlink:href=\"#m91727e2069\" x=\"132.288668\" y=\"69.175276\" style=\"fill: #1f77b4; stroke: #1f77b4\"/>\n     <use xlink:href=\"#m91727e2069\" x=\"142.962191\" y=\"93.958803\" style=\"fill: #1f77b4; stroke: #1f77b4\"/>\n     <use xlink:href=\"#m91727e2069\" x=\"154.276512\" y=\"102.477782\" style=\"fill: #1f77b4; stroke: #1f77b4\"/>\n     <use xlink:href=\"#m91727e2069\" x=\"141.439915\" y=\"86.6814\" style=\"fill: #1f77b4; stroke: #1f77b4\"/>\n     <use xlink:href=\"#m91727e2069\" x=\"199.576647\" y=\"113.117049\" style=\"fill: #1f77b4; stroke: #1f77b4\"/>\n     <use xlink:href=\"#m91727e2069\" x=\"133.338092\" y=\"92.194455\" style=\"fill: #1f77b4; stroke: #1f77b4\"/>\n     <use xlink:href=\"#m91727e2069\" x=\"164.141842\" y=\"89.246267\" style=\"fill: #1f77b4; stroke: #1f77b4\"/>\n     <use xlink:href=\"#m91727e2069\" x=\"146.724391\" y=\"91.982511\" style=\"fill: #1f77b4; stroke: #1f77b4\"/>\n     <use xlink:href=\"#m91727e2069\" x=\"107.68403\" y=\"84.255604\" style=\"fill: #1f77b4; stroke: #1f77b4\"/>\n     <use xlink:href=\"#m91727e2069\" x=\"142.567123\" y=\"95.467106\" style=\"fill: #1f77b4; stroke: #1f77b4\"/>\n     <use xlink:href=\"#m91727e2069\" x=\"131.860981\" y=\"79.640358\" style=\"fill: #1f77b4; stroke: #1f77b4\"/>\n     <use xlink:href=\"#m91727e2069\" x=\"164.46587\" y=\"92.303678\" style=\"fill: #1f77b4; stroke: #1f77b4\"/>\n     <use xlink:href=\"#m91727e2069\" x=\"176.996329\" y=\"121.105809\" style=\"fill: #1f77b4; stroke: #1f77b4\"/>\n     <use xlink:href=\"#m91727e2069\" x=\"163.666204\" y=\"95.05857\" style=\"fill: #1f77b4; stroke: #1f77b4\"/>\n     <use xlink:href=\"#m91727e2069\" x=\"180.054722\" y=\"112.21589\" style=\"fill: #1f77b4; stroke: #1f77b4\"/>\n     <use xlink:href=\"#m91727e2069\" x=\"92.609538\" y=\"64.133998\" style=\"fill: #1f77b4; stroke: #1f77b4\"/>\n     <use xlink:href=\"#m91727e2069\" x=\"176.614934\" y=\"106.940468\" style=\"fill: #1f77b4; stroke: #1f77b4\"/>\n     <use xlink:href=\"#m91727e2069\" x=\"113.949837\" y=\"78.649524\" style=\"fill: #1f77b4; stroke: #1f77b4\"/>\n     <use xlink:href=\"#m91727e2069\" x=\"168.07042\" y=\"93.379205\" style=\"fill: #1f77b4; stroke: #1f77b4\"/>\n     <use xlink:href=\"#m91727e2069\" x=\"132.159846\" y=\"78.009589\" style=\"fill: #1f77b4; stroke: #1f77b4\"/>\n     <use xlink:href=\"#m91727e2069\" x=\"74.072424\" y=\"48.82561\" style=\"fill: #1f77b4; stroke: #1f77b4\"/>\n     <use xlink:href=\"#m91727e2069\" x=\"151.685467\" y=\"97.842132\" style=\"fill: #1f77b4; stroke: #1f77b4\"/>\n     <use xlink:href=\"#m91727e2069\" x=\"144.381176\" y=\"91.236881\" style=\"fill: #1f77b4; stroke: #1f77b4\"/>\n     <use xlink:href=\"#m91727e2069\" x=\"88.054577\" y=\"49.937146\" style=\"fill: #1f77b4; stroke: #1f77b4\"/>\n     <use xlink:href=\"#m91727e2069\" x=\"168.896048\" y=\"108.583817\" style=\"fill: #1f77b4; stroke: #1f77b4\"/>\n     <use xlink:href=\"#m91727e2069\" x=\"176.263128\" y=\"96.558457\" style=\"fill: #1f77b4; stroke: #1f77b4\"/>\n     <use xlink:href=\"#m91727e2069\" x=\"124.022433\" y=\"94.440721\" style=\"fill: #1f77b4; stroke: #1f77b4\"/>\n     <use xlink:href=\"#m91727e2069\" x=\"116.006215\" y=\"79.993238\" style=\"fill: #1f77b4; stroke: #1f77b4\"/>\n     <use xlink:href=\"#m91727e2069\" x=\"102.951463\" y=\"56.198077\" style=\"fill: #1f77b4; stroke: #1f77b4\"/>\n     <use xlink:href=\"#m91727e2069\" x=\"106.700179\" y=\"73.941922\" style=\"fill: #1f77b4; stroke: #1f77b4\"/>\n     <use xlink:href=\"#m91727e2069\" x=\"130.550863\" y=\"79.989526\" style=\"fill: #1f77b4; stroke: #1f77b4\"/>\n     <use xlink:href=\"#m91727e2069\" x=\"184.687539\" y=\"110.001039\" style=\"fill: #1f77b4; stroke: #1f77b4\"/>\n     <use xlink:href=\"#m91727e2069\" x=\"162.696465\" y=\"89.041785\" style=\"fill: #1f77b4; stroke: #1f77b4\"/>\n     <use xlink:href=\"#m91727e2069\" x=\"181.390026\" y=\"118.49264\" style=\"fill: #1f77b4; stroke: #1f77b4\"/>\n     <use xlink:href=\"#m91727e2069\" x=\"199.118456\" y=\"122.57366\" style=\"fill: #1f77b4; stroke: #1f77b4\"/>\n     <use xlink:href=\"#m91727e2069\" x=\"134.461887\" y=\"80.131178\" style=\"fill: #1f77b4; stroke: #1f77b4\"/>\n     <use xlink:href=\"#m91727e2069\" x=\"143.945689\" y=\"82.258283\" style=\"fill: #1f77b4; stroke: #1f77b4\"/>\n     <use xlink:href=\"#m91727e2069\" x=\"143.63622\" y=\"84.838036\" style=\"fill: #1f77b4; stroke: #1f77b4\"/>\n     <use xlink:href=\"#m91727e2069\" x=\"137.27523\" y=\"84.584611\" style=\"fill: #1f77b4; stroke: #1f77b4\"/>\n     <use xlink:href=\"#m91727e2069\" x=\"185.573961\" y=\"107.082301\" style=\"fill: #1f77b4; stroke: #1f77b4\"/>\n     <use xlink:href=\"#m91727e2069\" x=\"148.076356\" y=\"96.383676\" style=\"fill: #1f77b4; stroke: #1f77b4\"/>\n     <use xlink:href=\"#m91727e2069\" x=\"109.075209\" y=\"82.384812\" style=\"fill: #1f77b4; stroke: #1f77b4\"/>\n     <use xlink:href=\"#m91727e2069\" x=\"152.373193\" y=\"101.646563\" style=\"fill: #1f77b4; stroke: #1f77b4\"/>\n     <use xlink:href=\"#m91727e2069\" x=\"159.100898\" y=\"90.129751\" style=\"fill: #1f77b4; stroke: #1f77b4\"/>\n     <use xlink:href=\"#m91727e2069\" x=\"136.612299\" y=\"93.21188\" style=\"fill: #1f77b4; stroke: #1f77b4\"/>\n     <use xlink:href=\"#m91727e2069\" x=\"160.294361\" y=\"106.052132\" style=\"fill: #1f77b4; stroke: #1f77b4\"/>\n     <use xlink:href=\"#m91727e2069\" x=\"184.074002\" y=\"105.178841\" style=\"fill: #1f77b4; stroke: #1f77b4\"/>\n     <use xlink:href=\"#m91727e2069\" x=\"93.133422\" y=\"56.634408\" style=\"fill: #1f77b4; stroke: #1f77b4\"/>\n     <use xlink:href=\"#m91727e2069\" x=\"170.47441\" y=\"111.579857\" style=\"fill: #1f77b4; stroke: #1f77b4\"/>\n     <use xlink:href=\"#m91727e2069\" x=\"131.120218\" y=\"87.04697\" style=\"fill: #1f77b4; stroke: #1f77b4\"/>\n     <use xlink:href=\"#m91727e2069\" x=\"121.314582\" y=\"82.452825\" style=\"fill: #1f77b4; stroke: #1f77b4\"/>\n     <use xlink:href=\"#m91727e2069\" x=\"123.745121\" y=\"81.920372\" style=\"fill: #1f77b4; stroke: #1f77b4\"/>\n     <use xlink:href=\"#m91727e2069\" x=\"144.962821\" y=\"76.88105\" style=\"fill: #1f77b4; stroke: #1f77b4\"/>\n     <use xlink:href=\"#m91727e2069\" x=\"188.785575\" y=\"104.802309\" style=\"fill: #1f77b4; stroke: #1f77b4\"/>\n     <use xlink:href=\"#m91727e2069\" x=\"191.740878\" y=\"106.988554\" style=\"fill: #1f77b4; stroke: #1f77b4\"/>\n     <use xlink:href=\"#m91727e2069\" x=\"169.00083\" y=\"110.329087\" style=\"fill: #1f77b4; stroke: #1f77b4\"/>\n     <use xlink:href=\"#m91727e2069\" x=\"157.276959\" y=\"92.622966\" style=\"fill: #1f77b4; stroke: #1f77b4\"/>\n     <use xlink:href=\"#m91727e2069\" x=\"186.413464\" y=\"135.609285\" style=\"fill: #1f77b4; stroke: #1f77b4\"/>\n     <use xlink:href=\"#m91727e2069\" x=\"126.166709\" y=\"86.041658\" style=\"fill: #1f77b4; stroke: #1f77b4\"/>\n     <use xlink:href=\"#m91727e2069\" x=\"113.052243\" y=\"69.067438\" style=\"fill: #1f77b4; stroke: #1f77b4\"/>\n     <use xlink:href=\"#m91727e2069\" x=\"123.921197\" y=\"80.112498\" style=\"fill: #1f77b4; stroke: #1f77b4\"/>\n     <use xlink:href=\"#m91727e2069\" x=\"142.457848\" y=\"73.039516\" style=\"fill: #1f77b4; stroke: #1f77b4\"/>\n     <use xlink:href=\"#m91727e2069\" x=\"154.640943\" y=\"88.487605\" style=\"fill: #1f77b4; stroke: #1f77b4\"/>\n     <use xlink:href=\"#m91727e2069\" x=\"134.395362\" y=\"107.404308\" style=\"fill: #1f77b4; stroke: #1f77b4\"/>\n     <use xlink:href=\"#m91727e2069\" x=\"151.199839\" y=\"104.017774\" style=\"fill: #1f77b4; stroke: #1f77b4\"/>\n     <use xlink:href=\"#m91727e2069\" x=\"136.594212\" y=\"77.944817\" style=\"fill: #1f77b4; stroke: #1f77b4\"/>\n     <use xlink:href=\"#m91727e2069\" x=\"135.187406\" y=\"84.637354\" style=\"fill: #1f77b4; stroke: #1f77b4\"/>\n     <use xlink:href=\"#m91727e2069\" x=\"135.191784\" y=\"96.674569\" style=\"fill: #1f77b4; stroke: #1f77b4\"/>\n     <use xlink:href=\"#m91727e2069\" x=\"96.480041\" y=\"67.400166\" style=\"fill: #1f77b4; stroke: #1f77b4\"/>\n     <use xlink:href=\"#m91727e2069\" x=\"137.547438\" y=\"83.243797\" style=\"fill: #1f77b4; stroke: #1f77b4\"/>\n     <use xlink:href=\"#m91727e2069\" x=\"138.08173\" y=\"82.969353\" style=\"fill: #1f77b4; stroke: #1f77b4\"/>\n     <use xlink:href=\"#m91727e2069\" x=\"161.727215\" y=\"91.270424\" style=\"fill: #1f77b4; stroke: #1f77b4\"/>\n     <use xlink:href=\"#m91727e2069\" x=\"169.694413\" y=\"98.985658\" style=\"fill: #1f77b4; stroke: #1f77b4\"/>\n     <use xlink:href=\"#m91727e2069\" x=\"181.691637\" y=\"115.521169\" style=\"fill: #1f77b4; stroke: #1f77b4\"/>\n     <use xlink:href=\"#m91727e2069\" x=\"193.516531\" y=\"118.132214\" style=\"fill: #1f77b4; stroke: #1f77b4\"/>\n     <use xlink:href=\"#m91727e2069\" x=\"114.952805\" y=\"89.902919\" style=\"fill: #1f77b4; stroke: #1f77b4\"/>\n     <use xlink:href=\"#m91727e2069\" x=\"166.784279\" y=\"105.239665\" style=\"fill: #1f77b4; stroke: #1f77b4\"/>\n     <use xlink:href=\"#m91727e2069\" x=\"143.408384\" y=\"91.163416\" style=\"fill: #1f77b4; stroke: #1f77b4\"/>\n     <use xlink:href=\"#m91727e2069\" x=\"157.848734\" y=\"105.72567\" style=\"fill: #1f77b4; stroke: #1f77b4\"/>\n     <use xlink:href=\"#m91727e2069\" x=\"137.163728\" y=\"98.059954\" style=\"fill: #1f77b4; stroke: #1f77b4\"/>\n     <use xlink:href=\"#m91727e2069\" x=\"162.838787\" y=\"105.266999\" style=\"fill: #1f77b4; stroke: #1f77b4\"/>\n     <use xlink:href=\"#m91727e2069\" x=\"174.141341\" y=\"102.624271\" style=\"fill: #1f77b4; stroke: #1f77b4\"/>\n     <use xlink:href=\"#m91727e2069\" x=\"138.635773\" y=\"76.845827\" style=\"fill: #1f77b4; stroke: #1f77b4\"/>\n     <use xlink:href=\"#m91727e2069\" x=\"97.261881\" y=\"46.853919\" style=\"fill: #1f77b4; stroke: #1f77b4\"/>\n     <use xlink:href=\"#m91727e2069\" x=\"124.674959\" y=\"74.030181\" style=\"fill: #1f77b4; stroke: #1f77b4\"/>\n     <use xlink:href=\"#m91727e2069\" x=\"145.141488\" y=\"103.956379\" style=\"fill: #1f77b4; stroke: #1f77b4\"/>\n     <use xlink:href=\"#m91727e2069\" x=\"180.093149\" y=\"103.323602\" style=\"fill: #1f77b4; stroke: #1f77b4\"/>\n     <use xlink:href=\"#m91727e2069\" x=\"199.627059\" y=\"136.658389\" style=\"fill: #1f77b4; stroke: #1f77b4\"/>\n     <use xlink:href=\"#m91727e2069\" x=\"132.102389\" y=\"77.374966\" style=\"fill: #1f77b4; stroke: #1f77b4\"/>\n     <use xlink:href=\"#m91727e2069\" x=\"116.909633\" y=\"72.577481\" style=\"fill: #1f77b4; stroke: #1f77b4\"/>\n     <use xlink:href=\"#m91727e2069\" x=\"135.466524\" y=\"92.089095\" style=\"fill: #1f77b4; stroke: #1f77b4\"/>\n     <use xlink:href=\"#m91727e2069\" x=\"109.558529\" y=\"84.033805\" style=\"fill: #1f77b4; stroke: #1f77b4\"/>\n     <use xlink:href=\"#m91727e2069\" x=\"166.591609\" y=\"100.712034\" style=\"fill: #1f77b4; stroke: #1f77b4\"/>\n     <use xlink:href=\"#m91727e2069\" x=\"128.271474\" y=\"79.555775\" style=\"fill: #1f77b4; stroke: #1f77b4\"/>\n     <use xlink:href=\"#m91727e2069\" x=\"126.374637\" y=\"80.594899\" style=\"fill: #1f77b4; stroke: #1f77b4\"/>\n     <use xlink:href=\"#m91727e2069\" x=\"128.892565\" y=\"77.631688\" style=\"fill: #1f77b4; stroke: #1f77b4\"/>\n     <use xlink:href=\"#m91727e2069\" x=\"109.205748\" y=\"59.454703\" style=\"fill: #1f77b4; stroke: #1f77b4\"/>\n     <use xlink:href=\"#m91727e2069\" x=\"204.740971\" y=\"103.481599\" style=\"fill: #1f77b4; stroke: #1f77b4\"/>\n     <use xlink:href=\"#m91727e2069\" x=\"169.321136\" y=\"113.827229\" style=\"fill: #1f77b4; stroke: #1f77b4\"/>\n     <use xlink:href=\"#m91727e2069\" x=\"176.70661\" y=\"104.230436\" style=\"fill: #1f77b4; stroke: #1f77b4\"/>\n     <use xlink:href=\"#m91727e2069\" x=\"160.978851\" y=\"110.403448\" style=\"fill: #1f77b4; stroke: #1f77b4\"/>\n     <use xlink:href=\"#m91727e2069\" x=\"158.700171\" y=\"97.297461\" style=\"fill: #1f77b4; stroke: #1f77b4\"/>\n     <use xlink:href=\"#m91727e2069\" x=\"135.797864\" y=\"102.725908\" style=\"fill: #1f77b4; stroke: #1f77b4\"/>\n     <use xlink:href=\"#m91727e2069\" x=\"133.353058\" y=\"96.124538\" style=\"fill: #1f77b4; stroke: #1f77b4\"/>\n     <use xlink:href=\"#m91727e2069\" x=\"139.237173\" y=\"100.383007\" style=\"fill: #1f77b4; stroke: #1f77b4\"/>\n     <use xlink:href=\"#m91727e2069\" x=\"111.83055\" y=\"73.735129\" style=\"fill: #1f77b4; stroke: #1f77b4\"/>\n     <use xlink:href=\"#m91727e2069\" x=\"128.352547\" y=\"84.895423\" style=\"fill: #1f77b4; stroke: #1f77b4\"/>\n     <use xlink:href=\"#m91727e2069\" x=\"153.260954\" y=\"93.827453\" style=\"fill: #1f77b4; stroke: #1f77b4\"/>\n     <use xlink:href=\"#m91727e2069\" x=\"161.327384\" y=\"107.505196\" style=\"fill: #1f77b4; stroke: #1f77b4\"/>\n     <use xlink:href=\"#m91727e2069\" x=\"119.422708\" y=\"87.069771\" style=\"fill: #1f77b4; stroke: #1f77b4\"/>\n     <use xlink:href=\"#m91727e2069\" x=\"153.185312\" y=\"82.957433\" style=\"fill: #1f77b4; stroke: #1f77b4\"/>\n     <use xlink:href=\"#m91727e2069\" x=\"151.575774\" y=\"94.179595\" style=\"fill: #1f77b4; stroke: #1f77b4\"/>\n     <use xlink:href=\"#m91727e2069\" x=\"141.167313\" y=\"89.86897\" style=\"fill: #1f77b4; stroke: #1f77b4\"/>\n     <use xlink:href=\"#m91727e2069\" x=\"151.897586\" y=\"88.520281\" style=\"fill: #1f77b4; stroke: #1f77b4\"/>\n     <use xlink:href=\"#m91727e2069\" x=\"136.331207\" y=\"91.702175\" style=\"fill: #1f77b4; stroke: #1f77b4\"/>\n     <use xlink:href=\"#m91727e2069\" x=\"100.253893\" y=\"67.818395\" style=\"fill: #1f77b4; stroke: #1f77b4\"/>\n     <use xlink:href=\"#m91727e2069\" x=\"137.907271\" y=\"97.829879\" style=\"fill: #1f77b4; stroke: #1f77b4\"/>\n     <use xlink:href=\"#m91727e2069\" x=\"136.577411\" y=\"103.370864\" style=\"fill: #1f77b4; stroke: #1f77b4\"/>\n     <use xlink:href=\"#m91727e2069\" x=\"146.546696\" y=\"94.26973\" style=\"fill: #1f77b4; stroke: #1f77b4\"/>\n     <use xlink:href=\"#m91727e2069\" x=\"168.726668\" y=\"106.52243\" style=\"fill: #1f77b4; stroke: #1f77b4\"/>\n     <use xlink:href=\"#m91727e2069\" x=\"145.948729\" y=\"97.520778\" style=\"fill: #1f77b4; stroke: #1f77b4\"/>\n     <use xlink:href=\"#m91727e2069\" x=\"92.475814\" y=\"65.989791\" style=\"fill: #1f77b4; stroke: #1f77b4\"/>\n     <use xlink:href=\"#m91727e2069\" x=\"133.966026\" y=\"91.018462\" style=\"fill: #1f77b4; stroke: #1f77b4\"/>\n     <use xlink:href=\"#m91727e2069\" x=\"133.884221\" y=\"87.070862\" style=\"fill: #1f77b4; stroke: #1f77b4\"/>\n     <use xlink:href=\"#m91727e2069\" x=\"110.143507\" y=\"60.082702\" style=\"fill: #1f77b4; stroke: #1f77b4\"/>\n     <use xlink:href=\"#m91727e2069\" x=\"123.057334\" y=\"82.966439\" style=\"fill: #1f77b4; stroke: #1f77b4\"/>\n     <use xlink:href=\"#m91727e2069\" x=\"116.274005\" y=\"64.688431\" style=\"fill: #1f77b4; stroke: #1f77b4\"/>\n     <use xlink:href=\"#m91727e2069\" x=\"172.029069\" y=\"110.173057\" style=\"fill: #1f77b4; stroke: #1f77b4\"/>\n     <use xlink:href=\"#m91727e2069\" x=\"171.538337\" y=\"104.907754\" style=\"fill: #1f77b4; stroke: #1f77b4\"/>\n     <use xlink:href=\"#m91727e2069\" x=\"157.610997\" y=\"98.135064\" style=\"fill: #1f77b4; stroke: #1f77b4\"/>\n     <use xlink:href=\"#m91727e2069\" x=\"129.754942\" y=\"99.467947\" style=\"fill: #1f77b4; stroke: #1f77b4\"/>\n     <use xlink:href=\"#m91727e2069\" x=\"146.76595\" y=\"89.993259\" style=\"fill: #1f77b4; stroke: #1f77b4\"/>\n     <use xlink:href=\"#m91727e2069\" x=\"139.253175\" y=\"76.452656\" style=\"fill: #1f77b4; stroke: #1f77b4\"/>\n     <use xlink:href=\"#m91727e2069\" x=\"116.522585\" y=\"80.407879\" style=\"fill: #1f77b4; stroke: #1f77b4\"/>\n     <use xlink:href=\"#m91727e2069\" x=\"163.631496\" y=\"94.044166\" style=\"fill: #1f77b4; stroke: #1f77b4\"/>\n     <use xlink:href=\"#m91727e2069\" x=\"145.537633\" y=\"94.52081\" style=\"fill: #1f77b4; stroke: #1f77b4\"/>\n     <use xlink:href=\"#m91727e2069\" x=\"166.885325\" y=\"117.778705\" style=\"fill: #1f77b4; stroke: #1f77b4\"/>\n     <use xlink:href=\"#m91727e2069\" x=\"169.649475\" y=\"97.885617\" style=\"fill: #1f77b4; stroke: #1f77b4\"/>\n     <use xlink:href=\"#m91727e2069\" x=\"148.158761\" y=\"92.729524\" style=\"fill: #1f77b4; stroke: #1f77b4\"/>\n     <use xlink:href=\"#m91727e2069\" x=\"158.766761\" y=\"100.486448\" style=\"fill: #1f77b4; stroke: #1f77b4\"/>\n     <use xlink:href=\"#m91727e2069\" x=\"138.799066\" y=\"96.235196\" style=\"fill: #1f77b4; stroke: #1f77b4\"/>\n     <use xlink:href=\"#m91727e2069\" x=\"131.197412\" y=\"84.177972\" style=\"fill: #1f77b4; stroke: #1f77b4\"/>\n     <use xlink:href=\"#m91727e2069\" x=\"105.979607\" y=\"70.371452\" style=\"fill: #1f77b4; stroke: #1f77b4\"/>\n     <use xlink:href=\"#m91727e2069\" x=\"139.735041\" y=\"87.687508\" style=\"fill: #1f77b4; stroke: #1f77b4\"/>\n     <use xlink:href=\"#m91727e2069\" x=\"121.895779\" y=\"63.240298\" style=\"fill: #1f77b4; stroke: #1f77b4\"/>\n     <use xlink:href=\"#m91727e2069\" x=\"184.790562\" y=\"105.481469\" style=\"fill: #1f77b4; stroke: #1f77b4\"/>\n     <use xlink:href=\"#m91727e2069\" x=\"140.375624\" y=\"81.23709\" style=\"fill: #1f77b4; stroke: #1f77b4\"/>\n     <use xlink:href=\"#m91727e2069\" x=\"121.981167\" y=\"83.586185\" style=\"fill: #1f77b4; stroke: #1f77b4\"/>\n     <use xlink:href=\"#m91727e2069\" x=\"163.134416\" y=\"109.069766\" style=\"fill: #1f77b4; stroke: #1f77b4\"/>\n     <use xlink:href=\"#m91727e2069\" x=\"135.99601\" y=\"92.88893\" style=\"fill: #1f77b4; stroke: #1f77b4\"/>\n     <use xlink:href=\"#m91727e2069\" x=\"135.053194\" y=\"84.98285\" style=\"fill: #1f77b4; stroke: #1f77b4\"/>\n     <use xlink:href=\"#m91727e2069\" x=\"147.664284\" y=\"93.846197\" style=\"fill: #1f77b4; stroke: #1f77b4\"/>\n     <use xlink:href=\"#m91727e2069\" x=\"118.402653\" y=\"62.9815\" style=\"fill: #1f77b4; stroke: #1f77b4\"/>\n     <use xlink:href=\"#m91727e2069\" x=\"150.185632\" y=\"94.706405\" style=\"fill: #1f77b4; stroke: #1f77b4\"/>\n     <use xlink:href=\"#m91727e2069\" x=\"145.501332\" y=\"79.990798\" style=\"fill: #1f77b4; stroke: #1f77b4\"/>\n     <use xlink:href=\"#m91727e2069\" x=\"89.215287\" y=\"67.526069\" style=\"fill: #1f77b4; stroke: #1f77b4\"/>\n     <use xlink:href=\"#m91727e2069\" x=\"118.648571\" y=\"68.933904\" style=\"fill: #1f77b4; stroke: #1f77b4\"/>\n     <use xlink:href=\"#m91727e2069\" x=\"166.641415\" y=\"108.37652\" style=\"fill: #1f77b4; stroke: #1f77b4\"/>\n     <use xlink:href=\"#m91727e2069\" x=\"123.344429\" y=\"71.99247\" style=\"fill: #1f77b4; stroke: #1f77b4\"/>\n     <use xlink:href=\"#m91727e2069\" x=\"146.626813\" y=\"94.676298\" style=\"fill: #1f77b4; stroke: #1f77b4\"/>\n     <use xlink:href=\"#m91727e2069\" x=\"137.244052\" y=\"101.188968\" style=\"fill: #1f77b4; stroke: #1f77b4\"/>\n     <use xlink:href=\"#m91727e2069\" x=\"157.451541\" y=\"98.333304\" style=\"fill: #1f77b4; stroke: #1f77b4\"/>\n     <use xlink:href=\"#m91727e2069\" x=\"165.050934\" y=\"87.593358\" style=\"fill: #1f77b4; stroke: #1f77b4\"/>\n     <use xlink:href=\"#m91727e2069\" x=\"104.616229\" y=\"78.552297\" style=\"fill: #1f77b4; stroke: #1f77b4\"/>\n     <use xlink:href=\"#m91727e2069\" x=\"135.563049\" y=\"67.181367\" style=\"fill: #1f77b4; stroke: #1f77b4\"/>\n     <use xlink:href=\"#m91727e2069\" x=\"144.665467\" y=\"89.636597\" style=\"fill: #1f77b4; stroke: #1f77b4\"/>\n     <use xlink:href=\"#m91727e2069\" x=\"149.237851\" y=\"88.242622\" style=\"fill: #1f77b4; stroke: #1f77b4\"/>\n     <use xlink:href=\"#m91727e2069\" x=\"107.8928\" y=\"73.756604\" style=\"fill: #1f77b4; stroke: #1f77b4\"/>\n     <use xlink:href=\"#m91727e2069\" x=\"165.97108\" y=\"113.788407\" style=\"fill: #1f77b4; stroke: #1f77b4\"/>\n     <use xlink:href=\"#m91727e2069\" x=\"132.871066\" y=\"84.288404\" style=\"fill: #1f77b4; stroke: #1f77b4\"/>\n     <use xlink:href=\"#m91727e2069\" x=\"117.003621\" y=\"88.582843\" style=\"fill: #1f77b4; stroke: #1f77b4\"/>\n     <use xlink:href=\"#m91727e2069\" x=\"152.622105\" y=\"92.369337\" style=\"fill: #1f77b4; stroke: #1f77b4\"/>\n     <use xlink:href=\"#m91727e2069\" x=\"141.239832\" y=\"92.002216\" style=\"fill: #1f77b4; stroke: #1f77b4\"/>\n     <use xlink:href=\"#m91727e2069\" x=\"100.770128\" y=\"66.81666\" style=\"fill: #1f77b4; stroke: #1f77b4\"/>\n     <use xlink:href=\"#m91727e2069\" x=\"154.747994\" y=\"99.822361\" style=\"fill: #1f77b4; stroke: #1f77b4\"/>\n     <use xlink:href=\"#m91727e2069\" x=\"124.037645\" y=\"70.940175\" style=\"fill: #1f77b4; stroke: #1f77b4\"/>\n     <use xlink:href=\"#m91727e2069\" x=\"153.320989\" y=\"101.32789\" style=\"fill: #1f77b4; stroke: #1f77b4\"/>\n     <use xlink:href=\"#m91727e2069\" x=\"128.660309\" y=\"87.360871\" style=\"fill: #1f77b4; stroke: #1f77b4\"/>\n     <use xlink:href=\"#m91727e2069\" x=\"142.861239\" y=\"73.431132\" style=\"fill: #1f77b4; stroke: #1f77b4\"/>\n     <use xlink:href=\"#m91727e2069\" x=\"105.002258\" y=\"71.923904\" style=\"fill: #1f77b4; stroke: #1f77b4\"/>\n     <use xlink:href=\"#m91727e2069\" x=\"115.912204\" y=\"72.896226\" style=\"fill: #1f77b4; stroke: #1f77b4\"/>\n     <use xlink:href=\"#m91727e2069\" x=\"147.849216\" y=\"90.092445\" style=\"fill: #1f77b4; stroke: #1f77b4\"/>\n     <use xlink:href=\"#m91727e2069\" x=\"106.654801\" y=\"71.549319\" style=\"fill: #1f77b4; stroke: #1f77b4\"/>\n     <use xlink:href=\"#m91727e2069\" x=\"150.709708\" y=\"106.735599\" style=\"fill: #1f77b4; stroke: #1f77b4\"/>\n     <use xlink:href=\"#m91727e2069\" x=\"177.58402\" y=\"106.621916\" style=\"fill: #1f77b4; stroke: #1f77b4\"/>\n     <use xlink:href=\"#m91727e2069\" x=\"164.830008\" y=\"96.500272\" style=\"fill: #1f77b4; stroke: #1f77b4\"/>\n     <use xlink:href=\"#m91727e2069\" x=\"162.147373\" y=\"96.148985\" style=\"fill: #1f77b4; stroke: #1f77b4\"/>\n     <use xlink:href=\"#m91727e2069\" x=\"157.9303\" y=\"96.832889\" style=\"fill: #1f77b4; stroke: #1f77b4\"/>\n     <use xlink:href=\"#m91727e2069\" x=\"166.04846\" y=\"113.017169\" style=\"fill: #1f77b4; stroke: #1f77b4\"/>\n     <use xlink:href=\"#m91727e2069\" x=\"122.905639\" y=\"65.639907\" style=\"fill: #1f77b4; stroke: #1f77b4\"/>\n     <use xlink:href=\"#m91727e2069\" x=\"142.053512\" y=\"79.249884\" style=\"fill: #1f77b4; stroke: #1f77b4\"/>\n     <use xlink:href=\"#m91727e2069\" x=\"143.274353\" y=\"88.197746\" style=\"fill: #1f77b4; stroke: #1f77b4\"/>\n     <use xlink:href=\"#m91727e2069\" x=\"148.70123\" y=\"82.997959\" style=\"fill: #1f77b4; stroke: #1f77b4\"/>\n     <use xlink:href=\"#m91727e2069\" x=\"173.293997\" y=\"122.209449\" style=\"fill: #1f77b4; stroke: #1f77b4\"/>\n     <use xlink:href=\"#m91727e2069\" x=\"131.219064\" y=\"86.807078\" style=\"fill: #1f77b4; stroke: #1f77b4\"/>\n     <use xlink:href=\"#m91727e2069\" x=\"132.789623\" y=\"95.37941\" style=\"fill: #1f77b4; stroke: #1f77b4\"/>\n     <use xlink:href=\"#m91727e2069\" x=\"154.734685\" y=\"89.747127\" style=\"fill: #1f77b4; stroke: #1f77b4\"/>\n     <use xlink:href=\"#m91727e2069\" x=\"182.951525\" y=\"104.486272\" style=\"fill: #1f77b4; stroke: #1f77b4\"/>\n     <use xlink:href=\"#m91727e2069\" x=\"147.04607\" y=\"84.806388\" style=\"fill: #1f77b4; stroke: #1f77b4\"/>\n     <use xlink:href=\"#m91727e2069\" x=\"179.788207\" y=\"120.208188\" style=\"fill: #1f77b4; stroke: #1f77b4\"/>\n     <use xlink:href=\"#m91727e2069\" x=\"96.997391\" y=\"68.040492\" style=\"fill: #1f77b4; stroke: #1f77b4\"/>\n     <use xlink:href=\"#m91727e2069\" x=\"135.362439\" y=\"92.502445\" style=\"fill: #1f77b4; stroke: #1f77b4\"/>\n     <use xlink:href=\"#m91727e2069\" x=\"142.114313\" y=\"95.147486\" style=\"fill: #1f77b4; stroke: #1f77b4\"/>\n     <use xlink:href=\"#m91727e2069\" x=\"137.623952\" y=\"89.269242\" style=\"fill: #1f77b4; stroke: #1f77b4\"/>\n     <use xlink:href=\"#m91727e2069\" x=\"184.845069\" y=\"112.660536\" style=\"fill: #1f77b4; stroke: #1f77b4\"/>\n     <use xlink:href=\"#m91727e2069\" x=\"170.469716\" y=\"95.218373\" style=\"fill: #1f77b4; stroke: #1f77b4\"/>\n     <use xlink:href=\"#m91727e2069\" x=\"146.811149\" y=\"102.929601\" style=\"fill: #1f77b4; stroke: #1f77b4\"/>\n     <use xlink:href=\"#m91727e2069\" x=\"76.81826\" y=\"54.169668\" style=\"fill: #1f77b4; stroke: #1f77b4\"/>\n     <use xlink:href=\"#m91727e2069\" x=\"106.06409\" y=\"73.447555\" style=\"fill: #1f77b4; stroke: #1f77b4\"/>\n     <use xlink:href=\"#m91727e2069\" x=\"98.409992\" y=\"60.05945\" style=\"fill: #1f77b4; stroke: #1f77b4\"/>\n     <use xlink:href=\"#m91727e2069\" x=\"163.475015\" y=\"103.279762\" style=\"fill: #1f77b4; stroke: #1f77b4\"/>\n     <use xlink:href=\"#m91727e2069\" x=\"119.41119\" y=\"69.502303\" style=\"fill: #1f77b4; stroke: #1f77b4\"/>\n     <use xlink:href=\"#m91727e2069\" x=\"131.510388\" y=\"86.505966\" style=\"fill: #1f77b4; stroke: #1f77b4\"/>\n     <use xlink:href=\"#m91727e2069\" x=\"131.581926\" y=\"90.230333\" style=\"fill: #1f77b4; stroke: #1f77b4\"/>\n     <use xlink:href=\"#m91727e2069\" x=\"156.520393\" y=\"106.997719\" style=\"fill: #1f77b4; stroke: #1f77b4\"/>\n     <use xlink:href=\"#m91727e2069\" x=\"150.741361\" y=\"91.809621\" style=\"fill: #1f77b4; stroke: #1f77b4\"/>\n     <use xlink:href=\"#m91727e2069\" x=\"166.699245\" y=\"97.311776\" style=\"fill: #1f77b4; stroke: #1f77b4\"/>\n     <use xlink:href=\"#m91727e2069\" x=\"110.784223\" y=\"61.517892\" style=\"fill: #1f77b4; stroke: #1f77b4\"/>\n     <use xlink:href=\"#m91727e2069\" x=\"135.333822\" y=\"83.032524\" style=\"fill: #1f77b4; stroke: #1f77b4\"/>\n     <use xlink:href=\"#m91727e2069\" x=\"159.394972\" y=\"100.460367\" style=\"fill: #1f77b4; stroke: #1f77b4\"/>\n     <use xlink:href=\"#m91727e2069\" x=\"150.066351\" y=\"101.417407\" style=\"fill: #1f77b4; stroke: #1f77b4\"/>\n     <use xlink:href=\"#m91727e2069\" x=\"147.141904\" y=\"80.776042\" style=\"fill: #1f77b4; stroke: #1f77b4\"/>\n     <use xlink:href=\"#m91727e2069\" x=\"171.059693\" y=\"99.811883\" style=\"fill: #1f77b4; stroke: #1f77b4\"/>\n     <use xlink:href=\"#m91727e2069\" x=\"134.086206\" y=\"89.347179\" style=\"fill: #1f77b4; stroke: #1f77b4\"/>\n     <use xlink:href=\"#m91727e2069\" x=\"167.44872\" y=\"106.003181\" style=\"fill: #1f77b4; stroke: #1f77b4\"/>\n     <use xlink:href=\"#m91727e2069\" x=\"159.250302\" y=\"98.864844\" style=\"fill: #1f77b4; stroke: #1f77b4\"/>\n     <use xlink:href=\"#m91727e2069\" x=\"155.102865\" y=\"94.506057\" style=\"fill: #1f77b4; stroke: #1f77b4\"/>\n     <use xlink:href=\"#m91727e2069\" x=\"167.843849\" y=\"95.445282\" style=\"fill: #1f77b4; stroke: #1f77b4\"/>\n     <use xlink:href=\"#m91727e2069\" x=\"144.767802\" y=\"89.883038\" style=\"fill: #1f77b4; stroke: #1f77b4\"/>\n     <use xlink:href=\"#m91727e2069\" x=\"176.988559\" y=\"113.151043\" style=\"fill: #1f77b4; stroke: #1f77b4\"/>\n     <use xlink:href=\"#m91727e2069\" x=\"198.351387\" y=\"112.438094\" style=\"fill: #1f77b4; stroke: #1f77b4\"/>\n     <use xlink:href=\"#m91727e2069\" x=\"149.433922\" y=\"75.880247\" style=\"fill: #1f77b4; stroke: #1f77b4\"/>\n     <use xlink:href=\"#m91727e2069\" x=\"126.732603\" y=\"57.825249\" style=\"fill: #1f77b4; stroke: #1f77b4\"/>\n     <use xlink:href=\"#m91727e2069\" x=\"131.139201\" y=\"76.747368\" style=\"fill: #1f77b4; stroke: #1f77b4\"/>\n     <use xlink:href=\"#m91727e2069\" x=\"110.952444\" y=\"77.141095\" style=\"fill: #1f77b4; stroke: #1f77b4\"/>\n     <use xlink:href=\"#m91727e2069\" x=\"184.243283\" y=\"97.824663\" style=\"fill: #1f77b4; stroke: #1f77b4\"/>\n     <use xlink:href=\"#m91727e2069\" x=\"164.331259\" y=\"99.859491\" style=\"fill: #1f77b4; stroke: #1f77b4\"/>\n     <use xlink:href=\"#m91727e2069\" x=\"119.173682\" y=\"87.363199\" style=\"fill: #1f77b4; stroke: #1f77b4\"/>\n     <use xlink:href=\"#m91727e2069\" x=\"151.24591\" y=\"98.933256\" style=\"fill: #1f77b4; stroke: #1f77b4\"/>\n     <use xlink:href=\"#m91727e2069\" x=\"133.940794\" y=\"80.017002\" style=\"fill: #1f77b4; stroke: #1f77b4\"/>\n     <use xlink:href=\"#m91727e2069\" x=\"173.881503\" y=\"111.661281\" style=\"fill: #1f77b4; stroke: #1f77b4\"/>\n     <use xlink:href=\"#m91727e2069\" x=\"128.509352\" y=\"85.879282\" style=\"fill: #1f77b4; stroke: #1f77b4\"/>\n     <use xlink:href=\"#m91727e2069\" x=\"176.623964\" y=\"121.551446\" style=\"fill: #1f77b4; stroke: #1f77b4\"/>\n     <use xlink:href=\"#m91727e2069\" x=\"35.802273\" y=\"13.5\" style=\"fill: #1f77b4; stroke: #1f77b4\"/>\n     <use xlink:href=\"#m91727e2069\" x=\"134.855671\" y=\"81.036098\" style=\"fill: #1f77b4; stroke: #1f77b4\"/>\n     <use xlink:href=\"#m91727e2069\" x=\"199.218066\" y=\"110.872867\" style=\"fill: #1f77b4; stroke: #1f77b4\"/>\n     <use xlink:href=\"#m91727e2069\" x=\"132.722511\" y=\"84.491964\" style=\"fill: #1f77b4; stroke: #1f77b4\"/>\n     <use xlink:href=\"#m91727e2069\" x=\"169.149895\" y=\"104.465124\" style=\"fill: #1f77b4; stroke: #1f77b4\"/>\n     <use xlink:href=\"#m91727e2069\" x=\"183.574127\" y=\"101.912555\" style=\"fill: #1f77b4; stroke: #1f77b4\"/>\n     <use xlink:href=\"#m91727e2069\" x=\"181.224142\" y=\"109.179531\" style=\"fill: #1f77b4; stroke: #1f77b4\"/>\n     <use xlink:href=\"#m91727e2069\" x=\"140.758882\" y=\"81.966135\" style=\"fill: #1f77b4; stroke: #1f77b4\"/>\n     <use xlink:href=\"#m91727e2069\" x=\"167.718093\" y=\"94.964974\" style=\"fill: #1f77b4; stroke: #1f77b4\"/>\n     <use xlink:href=\"#m91727e2069\" x=\"140.859267\" y=\"91.552463\" style=\"fill: #1f77b4; stroke: #1f77b4\"/>\n     <use xlink:href=\"#m91727e2069\" x=\"146.930216\" y=\"74.544208\" style=\"fill: #1f77b4; stroke: #1f77b4\"/>\n     <use xlink:href=\"#m91727e2069\" x=\"117.304792\" y=\"89.01084\" style=\"fill: #1f77b4; stroke: #1f77b4\"/>\n     <use xlink:href=\"#m91727e2069\" x=\"170.091013\" y=\"97.678062\" style=\"fill: #1f77b4; stroke: #1f77b4\"/>\n     <use xlink:href=\"#m91727e2069\" x=\"143.630271\" y=\"84.650445\" style=\"fill: #1f77b4; stroke: #1f77b4\"/>\n     <use xlink:href=\"#m91727e2069\" x=\"126.931175\" y=\"70.228116\" style=\"fill: #1f77b4; stroke: #1f77b4\"/>\n     <use xlink:href=\"#m91727e2069\" x=\"118.763503\" y=\"73.231592\" style=\"fill: #1f77b4; stroke: #1f77b4\"/>\n     <use xlink:href=\"#m91727e2069\" x=\"120.79615\" y=\"75.314917\" style=\"fill: #1f77b4; stroke: #1f77b4\"/>\n     <use xlink:href=\"#m91727e2069\" x=\"113.165883\" y=\"64.161448\" style=\"fill: #1f77b4; stroke: #1f77b4\"/>\n     <use xlink:href=\"#m91727e2069\" x=\"130.130929\" y=\"100.503201\" style=\"fill: #1f77b4; stroke: #1f77b4\"/>\n     <use xlink:href=\"#m91727e2069\" x=\"138.92731\" y=\"82.993434\" style=\"fill: #1f77b4; stroke: #1f77b4\"/>\n     <use xlink:href=\"#m91727e2069\" x=\"115.737516\" y=\"75.877648\" style=\"fill: #1f77b4; stroke: #1f77b4\"/>\n     <use xlink:href=\"#m91727e2069\" x=\"130.442804\" y=\"84.154114\" style=\"fill: #1f77b4; stroke: #1f77b4\"/>\n     <use xlink:href=\"#m91727e2069\" x=\"108.541943\" y=\"62.905331\" style=\"fill: #1f77b4; stroke: #1f77b4\"/>\n     <use xlink:href=\"#m91727e2069\" x=\"141.147566\" y=\"91.097453\" style=\"fill: #1f77b4; stroke: #1f77b4\"/>\n     <use xlink:href=\"#m91727e2069\" x=\"157.683582\" y=\"89.308519\" style=\"fill: #1f77b4; stroke: #1f77b4\"/>\n     <use xlink:href=\"#m91727e2069\" x=\"164.844255\" y=\"104.619861\" style=\"fill: #1f77b4; stroke: #1f77b4\"/>\n     <use xlink:href=\"#m91727e2069\" x=\"161.936883\" y=\"114.333689\" style=\"fill: #1f77b4; stroke: #1f77b4\"/>\n     <use xlink:href=\"#m91727e2069\" x=\"150.75948\" y=\"89.803253\" style=\"fill: #1f77b4; stroke: #1f77b4\"/>\n     <use xlink:href=\"#m91727e2069\" x=\"159.462727\" y=\"106.119324\" style=\"fill: #1f77b4; stroke: #1f77b4\"/>\n     <use xlink:href=\"#m91727e2069\" x=\"126.208043\" y=\"79.078808\" style=\"fill: #1f77b4; stroke: #1f77b4\"/>\n     <use xlink:href=\"#m91727e2069\" x=\"173.235498\" y=\"107.507777\" style=\"fill: #1f77b4; stroke: #1f77b4\"/>\n     <use xlink:href=\"#m91727e2069\" x=\"134.628442\" y=\"79.519448\" style=\"fill: #1f77b4; stroke: #1f77b4\"/>\n     <use xlink:href=\"#m91727e2069\" x=\"139.541378\" y=\"80.08698\" style=\"fill: #1f77b4; stroke: #1f77b4\"/>\n     <use xlink:href=\"#m91727e2069\" x=\"186.809617\" y=\"108.351181\" style=\"fill: #1f77b4; stroke: #1f77b4\"/>\n     <use xlink:href=\"#m91727e2069\" x=\"142.523098\" y=\"93.741647\" style=\"fill: #1f77b4; stroke: #1f77b4\"/>\n     <use xlink:href=\"#m91727e2069\" x=\"154.383873\" y=\"92.6871\" style=\"fill: #1f77b4; stroke: #1f77b4\"/>\n     <use xlink:href=\"#m91727e2069\" x=\"163.820774\" y=\"102.514577\" style=\"fill: #1f77b4; stroke: #1f77b4\"/>\n     <use xlink:href=\"#m91727e2069\" x=\"123.05062\" y=\"66.567891\" style=\"fill: #1f77b4; stroke: #1f77b4\"/>\n     <use xlink:href=\"#m91727e2069\" x=\"87.313227\" y=\"62.053379\" style=\"fill: #1f77b4; stroke: #1f77b4\"/>\n     <use xlink:href=\"#m91727e2069\" x=\"147.204232\" y=\"96.402336\" style=\"fill: #1f77b4; stroke: #1f77b4\"/>\n     <use xlink:href=\"#m91727e2069\" x=\"136.631068\" y=\"97.16284\" style=\"fill: #1f77b4; stroke: #1f77b4\"/>\n     <use xlink:href=\"#m91727e2069\" x=\"176.439395\" y=\"107.398679\" style=\"fill: #1f77b4; stroke: #1f77b4\"/>\n     <use xlink:href=\"#m91727e2069\" x=\"108.414421\" y=\"68.073389\" style=\"fill: #1f77b4; stroke: #1f77b4\"/>\n     <use xlink:href=\"#m91727e2069\" x=\"152.950946\" y=\"101.656943\" style=\"fill: #1f77b4; stroke: #1f77b4\"/>\n     <use xlink:href=\"#m91727e2069\" x=\"121.692185\" y=\"70.705013\" style=\"fill: #1f77b4; stroke: #1f77b4\"/>\n     <use xlink:href=\"#m91727e2069\" x=\"129.089013\" y=\"95.812088\" style=\"fill: #1f77b4; stroke: #1f77b4\"/>\n     <use xlink:href=\"#m91727e2069\" x=\"165.545731\" y=\"112.860243\" style=\"fill: #1f77b4; stroke: #1f77b4\"/>\n     <use xlink:href=\"#m91727e2069\" x=\"144.286784\" y=\"76.878572\" style=\"fill: #1f77b4; stroke: #1f77b4\"/>\n     <use xlink:href=\"#m91727e2069\" x=\"142.309621\" y=\"85.409698\" style=\"fill: #1f77b4; stroke: #1f77b4\"/>\n     <use xlink:href=\"#m91727e2069\" x=\"148.649071\" y=\"113.094458\" style=\"fill: #1f77b4; stroke: #1f77b4\"/>\n     <use xlink:href=\"#m91727e2069\" x=\"161.882182\" y=\"98.651988\" style=\"fill: #1f77b4; stroke: #1f77b4\"/>\n     <use xlink:href=\"#m91727e2069\" x=\"162.232191\" y=\"110.164467\" style=\"fill: #1f77b4; stroke: #1f77b4\"/>\n     <use xlink:href=\"#m91727e2069\" x=\"157.45745\" y=\"97.94358\" style=\"fill: #1f77b4; stroke: #1f77b4\"/>\n     <use xlink:href=\"#m91727e2069\" x=\"116.981694\" y=\"76.053783\" style=\"fill: #1f77b4; stroke: #1f77b4\"/>\n     <use xlink:href=\"#m91727e2069\" x=\"141.20494\" y=\"101.841117\" style=\"fill: #1f77b4; stroke: #1f77b4\"/>\n     <use xlink:href=\"#m91727e2069\" x=\"171.98444\" y=\"97.46055\" style=\"fill: #1f77b4; stroke: #1f77b4\"/>\n     <use xlink:href=\"#m91727e2069\" x=\"187.129252\" y=\"116.223625\" style=\"fill: #1f77b4; stroke: #1f77b4\"/>\n     <use xlink:href=\"#m91727e2069\" x=\"138.667288\" y=\"81.042504\" style=\"fill: #1f77b4; stroke: #1f77b4\"/>\n     <use xlink:href=\"#m91727e2069\" x=\"171.308156\" y=\"101.97794\" style=\"fill: #1f77b4; stroke: #1f77b4\"/>\n     <use xlink:href=\"#m91727e2069\" x=\"120.023884\" y=\"69.734294\" style=\"fill: #1f77b4; stroke: #1f77b4\"/>\n     <use xlink:href=\"#m91727e2069\" x=\"120.369551\" y=\"76.655349\" style=\"fill: #1f77b4; stroke: #1f77b4\"/>\n     <use xlink:href=\"#m91727e2069\" x=\"131.754119\" y=\"86.460533\" style=\"fill: #1f77b4; stroke: #1f77b4\"/>\n     <use xlink:href=\"#m91727e2069\" x=\"129.843319\" y=\"83.180366\" style=\"fill: #1f77b4; stroke: #1f77b4\"/>\n     <use xlink:href=\"#m91727e2069\" x=\"153.05749\" y=\"94.071386\" style=\"fill: #1f77b4; stroke: #1f77b4\"/>\n     <use xlink:href=\"#m91727e2069\" x=\"142.200318\" y=\"93.141866\" style=\"fill: #1f77b4; stroke: #1f77b4\"/>\n     <use xlink:href=\"#m91727e2069\" x=\"155.918871\" y=\"89.236997\" style=\"fill: #1f77b4; stroke: #1f77b4\"/>\n     <use xlink:href=\"#m91727e2069\" x=\"106.208872\" y=\"63.566283\" style=\"fill: #1f77b4; stroke: #1f77b4\"/>\n     <use xlink:href=\"#m91727e2069\" x=\"157.443787\" y=\"92.804169\" style=\"fill: #1f77b4; stroke: #1f77b4\"/>\n     <use xlink:href=\"#m91727e2069\" x=\"163.261327\" y=\"94.680407\" style=\"fill: #1f77b4; stroke: #1f77b4\"/>\n     <use xlink:href=\"#m91727e2069\" x=\"185.474795\" y=\"125.980135\" style=\"fill: #1f77b4; stroke: #1f77b4\"/>\n     <use xlink:href=\"#m91727e2069\" x=\"99.065831\" y=\"65.89908\" style=\"fill: #1f77b4; stroke: #1f77b4\"/>\n     <use xlink:href=\"#m91727e2069\" x=\"107.96851\" y=\"70.354817\" style=\"fill: #1f77b4; stroke: #1f77b4\"/>\n     <use xlink:href=\"#m91727e2069\" x=\"116.957677\" y=\"69.15418\" style=\"fill: #1f77b4; stroke: #1f77b4\"/>\n     <use xlink:href=\"#m91727e2069\" x=\"126.587731\" y=\"95.673607\" style=\"fill: #1f77b4; stroke: #1f77b4\"/>\n     <use xlink:href=\"#m91727e2069\" x=\"137.490869\" y=\"100.575133\" style=\"fill: #1f77b4; stroke: #1f77b4\"/>\n     <use xlink:href=\"#m91727e2069\" x=\"145.328395\" y=\"101.755057\" style=\"fill: #1f77b4; stroke: #1f77b4\"/>\n     <use xlink:href=\"#m91727e2069\" x=\"166.738227\" y=\"109.805102\" style=\"fill: #1f77b4; stroke: #1f77b4\"/>\n     <use xlink:href=\"#m91727e2069\" x=\"160.017328\" y=\"98.757886\" style=\"fill: #1f77b4; stroke: #1f77b4\"/>\n     <use xlink:href=\"#m91727e2069\" x=\"170.310536\" y=\"99.804199\" style=\"fill: #1f77b4; stroke: #1f77b4\"/>\n     <use xlink:href=\"#m91727e2069\" x=\"175.86504\" y=\"103.858673\" style=\"fill: #1f77b4; stroke: #1f77b4\"/>\n     <use xlink:href=\"#m91727e2069\" x=\"171.407123\" y=\"112.781402\" style=\"fill: #1f77b4; stroke: #1f77b4\"/>\n     <use xlink:href=\"#m91727e2069\" x=\"113.95503\" y=\"70.332967\" style=\"fill: #1f77b4; stroke: #1f77b4\"/>\n     <use xlink:href=\"#m91727e2069\" x=\"160.406237\" y=\"86.472824\" style=\"fill: #1f77b4; stroke: #1f77b4\"/>\n     <use xlink:href=\"#m91727e2069\" x=\"112.361861\" y=\"81.766523\" style=\"fill: #1f77b4; stroke: #1f77b4\"/>\n     <use xlink:href=\"#m91727e2069\" x=\"131.073943\" y=\"90.134576\" style=\"fill: #1f77b4; stroke: #1f77b4\"/>\n     <use xlink:href=\"#m91727e2069\" x=\"153.774988\" y=\"102.042165\" style=\"fill: #1f77b4; stroke: #1f77b4\"/>\n     <use xlink:href=\"#m91727e2069\" x=\"160.822613\" y=\"96.767086\" style=\"fill: #1f77b4; stroke: #1f77b4\"/>\n     <use xlink:href=\"#m91727e2069\" x=\"142.735441\" y=\"76.613787\" style=\"fill: #1f77b4; stroke: #1f77b4\"/>\n     <use xlink:href=\"#m91727e2069\" x=\"177.943754\" y=\"122.450845\" style=\"fill: #1f77b4; stroke: #1f77b4\"/>\n     <use xlink:href=\"#m91727e2069\" x=\"163.543639\" y=\"102.245047\" style=\"fill: #1f77b4; stroke: #1f77b4\"/>\n     <use xlink:href=\"#m91727e2069\" x=\"155.809599\" y=\"97.163117\" style=\"fill: #1f77b4; stroke: #1f77b4\"/>\n     <use xlink:href=\"#m91727e2069\" x=\"133.404857\" y=\"84.502673\" style=\"fill: #1f77b4; stroke: #1f77b4\"/>\n     <use xlink:href=\"#m91727e2069\" x=\"177.241117\" y=\"110.512894\" style=\"fill: #1f77b4; stroke: #1f77b4\"/>\n     <use xlink:href=\"#m91727e2069\" x=\"127.993387\" y=\"82.860224\" style=\"fill: #1f77b4; stroke: #1f77b4\"/>\n     <use xlink:href=\"#m91727e2069\" x=\"170.224042\" y=\"109.376597\" style=\"fill: #1f77b4; stroke: #1f77b4\"/>\n     <use xlink:href=\"#m91727e2069\" x=\"128.518052\" y=\"78.74102\" style=\"fill: #1f77b4; stroke: #1f77b4\"/>\n     <use xlink:href=\"#m91727e2069\" x=\"148.167288\" y=\"91.52018\" style=\"fill: #1f77b4; stroke: #1f77b4\"/>\n     <use xlink:href=\"#m91727e2069\" x=\"149.741605\" y=\"117.083513\" style=\"fill: #1f77b4; stroke: #1f77b4\"/>\n     <use xlink:href=\"#m91727e2069\" x=\"199.321432\" y=\"127.54726\" style=\"fill: #1f77b4; stroke: #1f77b4\"/>\n     <use xlink:href=\"#m91727e2069\" x=\"140.853195\" y=\"79.635534\" style=\"fill: #1f77b4; stroke: #1f77b4\"/>\n     <use xlink:href=\"#m91727e2069\" x=\"164.653209\" y=\"107.196142\" style=\"fill: #1f77b4; stroke: #1f77b4\"/>\n     <use xlink:href=\"#m91727e2069\" x=\"118.248797\" y=\"77.926186\" style=\"fill: #1f77b4; stroke: #1f77b4\"/>\n     <use xlink:href=\"#m91727e2069\" x=\"159.873685\" y=\"115.092914\" style=\"fill: #1f77b4; stroke: #1f77b4\"/>\n     <use xlink:href=\"#m91727e2069\" x=\"154.96589\" y=\"95.494379\" style=\"fill: #1f77b4; stroke: #1f77b4\"/>\n     <use xlink:href=\"#m91727e2069\" x=\"134.796349\" y=\"86.845168\" style=\"fill: #1f77b4; stroke: #1f77b4\"/>\n     <use xlink:href=\"#m91727e2069\" x=\"172.872837\" y=\"108.293139\" style=\"fill: #1f77b4; stroke: #1f77b4\"/>\n     <use xlink:href=\"#m91727e2069\" x=\"153.247942\" y=\"107.992196\" style=\"fill: #1f77b4; stroke: #1f77b4\"/>\n     <use xlink:href=\"#m91727e2069\" x=\"111.933045\" y=\"70.064979\" style=\"fill: #1f77b4; stroke: #1f77b4\"/>\n     <use xlink:href=\"#m91727e2069\" x=\"140.171054\" y=\"88.349681\" style=\"fill: #1f77b4; stroke: #1f77b4\"/>\n     <use xlink:href=\"#m91727e2069\" x=\"84.3483\" y=\"55.285533\" style=\"fill: #1f77b4; stroke: #1f77b4\"/>\n     <use xlink:href=\"#m91727e2069\" x=\"164.903422\" y=\"113.382799\" style=\"fill: #1f77b4; stroke: #1f77b4\"/>\n     <use xlink:href=\"#m91727e2069\" x=\"161.94336\" y=\"104.346489\" style=\"fill: #1f77b4; stroke: #1f77b4\"/>\n     <use xlink:href=\"#m91727e2069\" x=\"175.345644\" y=\"99.110908\" style=\"fill: #1f77b4; stroke: #1f77b4\"/>\n     <use xlink:href=\"#m91727e2069\" x=\"164.498942\" y=\"107.060239\" style=\"fill: #1f77b4; stroke: #1f77b4\"/>\n     <use xlink:href=\"#m91727e2069\" x=\"127.795808\" y=\"83.563893\" style=\"fill: #1f77b4; stroke: #1f77b4\"/>\n     <use xlink:href=\"#m91727e2069\" x=\"124.461235\" y=\"81.372375\" style=\"fill: #1f77b4; stroke: #1f77b4\"/>\n     <use xlink:href=\"#m91727e2069\" x=\"161.75789\" y=\"96.705335\" style=\"fill: #1f77b4; stroke: #1f77b4\"/>\n     <use xlink:href=\"#m91727e2069\" x=\"102.53438\" y=\"60.777754\" style=\"fill: #1f77b4; stroke: #1f77b4\"/>\n     <use xlink:href=\"#m91727e2069\" x=\"159.602891\" y=\"104.517775\" style=\"fill: #1f77b4; stroke: #1f77b4\"/>\n     <use xlink:href=\"#m91727e2069\" x=\"158.822525\" y=\"96.483292\" style=\"fill: #1f77b4; stroke: #1f77b4\"/>\n     <use xlink:href=\"#m91727e2069\" x=\"167.182649\" y=\"99.358334\" style=\"fill: #1f77b4; stroke: #1f77b4\"/>\n     <use xlink:href=\"#m91727e2069\" x=\"153.684721\" y=\"88.295156\" style=\"fill: #1f77b4; stroke: #1f77b4\"/>\n     <use xlink:href=\"#m91727e2069\" x=\"116.849411\" y=\"67.064552\" style=\"fill: #1f77b4; stroke: #1f77b4\"/>\n     <use xlink:href=\"#m91727e2069\" x=\"154.491412\" y=\"111.160615\" style=\"fill: #1f77b4; stroke: #1f77b4\"/>\n     <use xlink:href=\"#m91727e2069\" x=\"109.206958\" y=\"58.38792\" style=\"fill: #1f77b4; stroke: #1f77b4\"/>\n     <use xlink:href=\"#m91727e2069\" x=\"173.028348\" y=\"115.136532\" style=\"fill: #1f77b4; stroke: #1f77b4\"/>\n     <use xlink:href=\"#m91727e2069\" x=\"110.255668\" y=\"67.207593\" style=\"fill: #1f77b4; stroke: #1f77b4\"/>\n     <use xlink:href=\"#m91727e2069\" x=\"105.233044\" y=\"76.295393\" style=\"fill: #1f77b4; stroke: #1f77b4\"/>\n     <use xlink:href=\"#m91727e2069\" x=\"180.055773\" y=\"116.607886\" style=\"fill: #1f77b4; stroke: #1f77b4\"/>\n     <use xlink:href=\"#m91727e2069\" x=\"154.776901\" y=\"84.622322\" style=\"fill: #1f77b4; stroke: #1f77b4\"/>\n     <use xlink:href=\"#m91727e2069\" x=\"146.613485\" y=\"101.461593\" style=\"fill: #1f77b4; stroke: #1f77b4\"/>\n     <use xlink:href=\"#m91727e2069\" x=\"135.958718\" y=\"92.33431\" style=\"fill: #1f77b4; stroke: #1f77b4\"/>\n     <use xlink:href=\"#m91727e2069\" x=\"76.446728\" y=\"36.629911\" style=\"fill: #1f77b4; stroke: #1f77b4\"/>\n     <use xlink:href=\"#m91727e2069\" x=\"111.365403\" y=\"77.536057\" style=\"fill: #1f77b4; stroke: #1f77b4\"/>\n     <use xlink:href=\"#m91727e2069\" x=\"163.882007\" y=\"95.949344\" style=\"fill: #1f77b4; stroke: #1f77b4\"/>\n     <use xlink:href=\"#m91727e2069\" x=\"134.845183\" y=\"85.369427\" style=\"fill: #1f77b4; stroke: #1f77b4\"/>\n     <use xlink:href=\"#m91727e2069\" x=\"186.046599\" y=\"112.598995\" style=\"fill: #1f77b4; stroke: #1f77b4\"/>\n     <use xlink:href=\"#m91727e2069\" x=\"118.106921\" y=\"83.08997\" style=\"fill: #1f77b4; stroke: #1f77b4\"/>\n     <use xlink:href=\"#m91727e2069\" x=\"157.639052\" y=\"86.870592\" style=\"fill: #1f77b4; stroke: #1f77b4\"/>\n     <use xlink:href=\"#m91727e2069\" x=\"128.492158\" y=\"91.226729\" style=\"fill: #1f77b4; stroke: #1f77b4\"/>\n     <use xlink:href=\"#m91727e2069\" x=\"142.691651\" y=\"97.840239\" style=\"fill: #1f77b4; stroke: #1f77b4\"/>\n     <use xlink:href=\"#m91727e2069\" x=\"136.686268\" y=\"84.176426\" style=\"fill: #1f77b4; stroke: #1f77b4\"/>\n     <use xlink:href=\"#m91727e2069\" x=\"115.676454\" y=\"77.575048\" style=\"fill: #1f77b4; stroke: #1f77b4\"/>\n     <use xlink:href=\"#m91727e2069\" x=\"162.873588\" y=\"96.058358\" style=\"fill: #1f77b4; stroke: #1f77b4\"/>\n     <use xlink:href=\"#m91727e2069\" x=\"147.799363\" y=\"80.213584\" style=\"fill: #1f77b4; stroke: #1f77b4\"/>\n     <use xlink:href=\"#m91727e2069\" x=\"124.089139\" y=\"82.88365\" style=\"fill: #1f77b4; stroke: #1f77b4\"/>\n     <use xlink:href=\"#m91727e2069\" x=\"118.659056\" y=\"102.642229\" style=\"fill: #1f77b4; stroke: #1f77b4\"/>\n     <use xlink:href=\"#m91727e2069\" x=\"120.396798\" y=\"74.032862\" style=\"fill: #1f77b4; stroke: #1f77b4\"/>\n     <use xlink:href=\"#m91727e2069\" x=\"163.940709\" y=\"87.719215\" style=\"fill: #1f77b4; stroke: #1f77b4\"/>\n     <use xlink:href=\"#m91727e2069\" x=\"121.319064\" y=\"96.581786\" style=\"fill: #1f77b4; stroke: #1f77b4\"/>\n     <use xlink:href=\"#m91727e2069\" x=\"125.883048\" y=\"60.270615\" style=\"fill: #1f77b4; stroke: #1f77b4\"/>\n     <use xlink:href=\"#m91727e2069\" x=\"157.541643\" y=\"82.722433\" style=\"fill: #1f77b4; stroke: #1f77b4\"/>\n     <use xlink:href=\"#m91727e2069\" x=\"121.636074\" y=\"80.806642\" style=\"fill: #1f77b4; stroke: #1f77b4\"/>\n     <use xlink:href=\"#m91727e2069\" x=\"133.506502\" y=\"78.775113\" style=\"fill: #1f77b4; stroke: #1f77b4\"/>\n     <use xlink:href=\"#m91727e2069\" x=\"150.916929\" y=\"96.976371\" style=\"fill: #1f77b4; stroke: #1f77b4\"/>\n     <use xlink:href=\"#m91727e2069\" x=\"94.299921\" y=\"64.058714\" style=\"fill: #1f77b4; stroke: #1f77b4\"/>\n     <use xlink:href=\"#m91727e2069\" x=\"159.529937\" y=\"108.819104\" style=\"fill: #1f77b4; stroke: #1f77b4\"/>\n     <use xlink:href=\"#m91727e2069\" x=\"134.243191\" y=\"94.426059\" style=\"fill: #1f77b4; stroke: #1f77b4\"/>\n     <use xlink:href=\"#m91727e2069\" x=\"94.834578\" y=\"82.405639\" style=\"fill: #1f77b4; stroke: #1f77b4\"/>\n     <use xlink:href=\"#m91727e2069\" x=\"177.5001\" y=\"106.818745\" style=\"fill: #1f77b4; stroke: #1f77b4\"/>\n     <use xlink:href=\"#m91727e2069\" x=\"153.10922\" y=\"83.519477\" style=\"fill: #1f77b4; stroke: #1f77b4\"/>\n     <use xlink:href=\"#m91727e2069\" x=\"156.046469\" y=\"104.182065\" style=\"fill: #1f77b4; stroke: #1f77b4\"/>\n     <use xlink:href=\"#m91727e2069\" x=\"140.102751\" y=\"79.746316\" style=\"fill: #1f77b4; stroke: #1f77b4\"/>\n     <use xlink:href=\"#m91727e2069\" x=\"169.028205\" y=\"111.574805\" style=\"fill: #1f77b4; stroke: #1f77b4\"/>\n     <use xlink:href=\"#m91727e2069\" x=\"125.935474\" y=\"80.758873\" style=\"fill: #1f77b4; stroke: #1f77b4\"/>\n     <use xlink:href=\"#m91727e2069\" x=\"130.722589\" y=\"69.019782\" style=\"fill: #1f77b4; stroke: #1f77b4\"/>\n     <use xlink:href=\"#m91727e2069\" x=\"130.445025\" y=\"79.99248\" style=\"fill: #1f77b4; stroke: #1f77b4\"/>\n     <use xlink:href=\"#m91727e2069\" x=\"152.942667\" y=\"103.051869\" style=\"fill: #1f77b4; stroke: #1f77b4\"/>\n     <use xlink:href=\"#m91727e2069\" x=\"158.521319\" y=\"105.610819\" style=\"fill: #1f77b4; stroke: #1f77b4\"/>\n     <use xlink:href=\"#m91727e2069\" x=\"165.360058\" y=\"102.659001\" style=\"fill: #1f77b4; stroke: #1f77b4\"/>\n     <use xlink:href=\"#m91727e2069\" x=\"135.478371\" y=\"89.225369\" style=\"fill: #1f77b4; stroke: #1f77b4\"/>\n     <use xlink:href=\"#m91727e2069\" x=\"140.648476\" y=\"93.086643\" style=\"fill: #1f77b4; stroke: #1f77b4\"/>\n     <use xlink:href=\"#m91727e2069\" x=\"185.98601\" y=\"116.279944\" style=\"fill: #1f77b4; stroke: #1f77b4\"/>\n     <use xlink:href=\"#m91727e2069\" x=\"166.975139\" y=\"120.606194\" style=\"fill: #1f77b4; stroke: #1f77b4\"/>\n     <use xlink:href=\"#m91727e2069\" x=\"139.105585\" y=\"79.657881\" style=\"fill: #1f77b4; stroke: #1f77b4\"/>\n     <use xlink:href=\"#m91727e2069\" x=\"196.66684\" y=\"106.327767\" style=\"fill: #1f77b4; stroke: #1f77b4\"/>\n     <use xlink:href=\"#m91727e2069\" x=\"157.907552\" y=\"95.54923\" style=\"fill: #1f77b4; stroke: #1f77b4\"/>\n     <use xlink:href=\"#m91727e2069\" x=\"180.022195\" y=\"109.978264\" style=\"fill: #1f77b4; stroke: #1f77b4\"/>\n     <use xlink:href=\"#m91727e2069\" x=\"147.693773\" y=\"90.600313\" style=\"fill: #1f77b4; stroke: #1f77b4\"/>\n     <use xlink:href=\"#m91727e2069\" x=\"151.313608\" y=\"92.819062\" style=\"fill: #1f77b4; stroke: #1f77b4\"/>\n     <use xlink:href=\"#m91727e2069\" x=\"140.367451\" y=\"83.654747\" style=\"fill: #1f77b4; stroke: #1f77b4\"/>\n     <use xlink:href=\"#m91727e2069\" x=\"187.209546\" y=\"118.726092\" style=\"fill: #1f77b4; stroke: #1f77b4\"/>\n     <use xlink:href=\"#m91727e2069\" x=\"104.390682\" y=\"71.122815\" style=\"fill: #1f77b4; stroke: #1f77b4\"/>\n     <use xlink:href=\"#m91727e2069\" x=\"131.12134\" y=\"85.923544\" style=\"fill: #1f77b4; stroke: #1f77b4\"/>\n     <use xlink:href=\"#m91727e2069\" x=\"140.331347\" y=\"90.226609\" style=\"fill: #1f77b4; stroke: #1f77b4\"/>\n     <use xlink:href=\"#m91727e2069\" x=\"157.928443\" y=\"98.315788\" style=\"fill: #1f77b4; stroke: #1f77b4\"/>\n     <use xlink:href=\"#m91727e2069\" x=\"148.539883\" y=\"96.706239\" style=\"fill: #1f77b4; stroke: #1f77b4\"/>\n     <use xlink:href=\"#m91727e2069\" x=\"145.73698\" y=\"87.669493\" style=\"fill: #1f77b4; stroke: #1f77b4\"/>\n     <use xlink:href=\"#m91727e2069\" x=\"139.177025\" y=\"86.128772\" style=\"fill: #1f77b4; stroke: #1f77b4\"/>\n     <use xlink:href=\"#m91727e2069\" x=\"145.181094\" y=\"88.446033\" style=\"fill: #1f77b4; stroke: #1f77b4\"/>\n     <use xlink:href=\"#m91727e2069\" x=\"164.655277\" y=\"99.502057\" style=\"fill: #1f77b4; stroke: #1f77b4\"/>\n     <use xlink:href=\"#m91727e2069\" x=\"153.07778\" y=\"95.458266\" style=\"fill: #1f77b4; stroke: #1f77b4\"/>\n     <use xlink:href=\"#m91727e2069\" x=\"169.491924\" y=\"94.617892\" style=\"fill: #1f77b4; stroke: #1f77b4\"/>\n     <use xlink:href=\"#m91727e2069\" x=\"115.560236\" y=\"63.371971\" style=\"fill: #1f77b4; stroke: #1f77b4\"/>\n     <use xlink:href=\"#m91727e2069\" x=\"109.439376\" y=\"60.517085\" style=\"fill: #1f77b4; stroke: #1f77b4\"/>\n     <use xlink:href=\"#m91727e2069\" x=\"156.453243\" y=\"100.506445\" style=\"fill: #1f77b4; stroke: #1f77b4\"/>\n     <use xlink:href=\"#m91727e2069\" x=\"143.467067\" y=\"75.678889\" style=\"fill: #1f77b4; stroke: #1f77b4\"/>\n     <use xlink:href=\"#m91727e2069\" x=\"203.411546\" y=\"116.778645\" style=\"fill: #1f77b4; stroke: #1f77b4\"/>\n     <use xlink:href=\"#m91727e2069\" x=\"145.904833\" y=\"84.348016\" style=\"fill: #1f77b4; stroke: #1f77b4\"/>\n     <use xlink:href=\"#m91727e2069\" x=\"115.78167\" y=\"74.938771\" style=\"fill: #1f77b4; stroke: #1f77b4\"/>\n     <use xlink:href=\"#m91727e2069\" x=\"119.728\" y=\"85.578846\" style=\"fill: #1f77b4; stroke: #1f77b4\"/>\n     <use xlink:href=\"#m91727e2069\" x=\"143.972517\" y=\"94.552683\" style=\"fill: #1f77b4; stroke: #1f77b4\"/>\n     <use xlink:href=\"#m91727e2069\" x=\"157.753365\" y=\"100.349836\" style=\"fill: #1f77b4; stroke: #1f77b4\"/>\n     <use xlink:href=\"#m91727e2069\" x=\"179.592825\" y=\"116.237486\" style=\"fill: #1f77b4; stroke: #1f77b4\"/>\n     <use xlink:href=\"#m91727e2069\" x=\"120.610478\" y=\"81.775872\" style=\"fill: #1f77b4; stroke: #1f77b4\"/>\n     <use xlink:href=\"#m91727e2069\" x=\"107.393107\" y=\"59.709262\" style=\"fill: #1f77b4; stroke: #1f77b4\"/>\n     <use xlink:href=\"#m91727e2069\" x=\"159.994717\" y=\"100.380848\" style=\"fill: #1f77b4; stroke: #1f77b4\"/>\n     <use xlink:href=\"#m91727e2069\" x=\"134.153384\" y=\"74.997961\" style=\"fill: #1f77b4; stroke: #1f77b4\"/>\n     <use xlink:href=\"#m91727e2069\" x=\"186.693696\" y=\"136.636039\" style=\"fill: #1f77b4; stroke: #1f77b4\"/>\n     <use xlink:href=\"#m91727e2069\" x=\"144.845587\" y=\"82.055608\" style=\"fill: #1f77b4; stroke: #1f77b4\"/>\n     <use xlink:href=\"#m91727e2069\" x=\"118.009267\" y=\"81.245967\" style=\"fill: #1f77b4; stroke: #1f77b4\"/>\n     <use xlink:href=\"#m91727e2069\" x=\"133.964678\" y=\"86.727303\" style=\"fill: #1f77b4; stroke: #1f77b4\"/>\n     <use xlink:href=\"#m91727e2069\" x=\"154.051019\" y=\"103.002628\" style=\"fill: #1f77b4; stroke: #1f77b4\"/>\n     <use xlink:href=\"#m91727e2069\" x=\"167.388076\" y=\"84.0422\" style=\"fill: #1f77b4; stroke: #1f77b4\"/>\n     <use xlink:href=\"#m91727e2069\" x=\"154.988128\" y=\"79.034037\" style=\"fill: #1f77b4; stroke: #1f77b4\"/>\n     <use xlink:href=\"#m91727e2069\" x=\"86.473102\" y=\"54.542808\" style=\"fill: #1f77b4; stroke: #1f77b4\"/>\n     <use xlink:href=\"#m91727e2069\" x=\"127.485624\" y=\"74.025243\" style=\"fill: #1f77b4; stroke: #1f77b4\"/>\n     <use xlink:href=\"#m91727e2069\" x=\"161.985133\" y=\"110.447653\" style=\"fill: #1f77b4; stroke: #1f77b4\"/>\n     <use xlink:href=\"#m91727e2069\" x=\"170.779402\" y=\"121.142245\" style=\"fill: #1f77b4; stroke: #1f77b4\"/>\n     <use xlink:href=\"#m91727e2069\" x=\"113.267785\" y=\"92.37471\" style=\"fill: #1f77b4; stroke: #1f77b4\"/>\n     <use xlink:href=\"#m91727e2069\" x=\"132.361851\" y=\"75.205728\" style=\"fill: #1f77b4; stroke: #1f77b4\"/>\n     <use xlink:href=\"#m91727e2069\" x=\"165.12782\" y=\"114.894273\" style=\"fill: #1f77b4; stroke: #1f77b4\"/>\n     <use xlink:href=\"#m91727e2069\" x=\"172.349329\" y=\"116.631462\" style=\"fill: #1f77b4; stroke: #1f77b4\"/>\n     <use xlink:href=\"#m91727e2069\" x=\"132.873065\" y=\"73.854713\" style=\"fill: #1f77b4; stroke: #1f77b4\"/>\n     <use xlink:href=\"#m91727e2069\" x=\"151.357393\" y=\"89.706171\" style=\"fill: #1f77b4; stroke: #1f77b4\"/>\n     <use xlink:href=\"#m91727e2069\" x=\"103.669341\" y=\"71.047709\" style=\"fill: #1f77b4; stroke: #1f77b4\"/>\n     <use xlink:href=\"#m91727e2069\" x=\"139.313756\" y=\"90.040588\" style=\"fill: #1f77b4; stroke: #1f77b4\"/>\n     <use xlink:href=\"#m91727e2069\" x=\"124.346781\" y=\"75.835242\" style=\"fill: #1f77b4; stroke: #1f77b4\"/>\n     <use xlink:href=\"#m91727e2069\" x=\"103.375972\" y=\"75.72683\" style=\"fill: #1f77b4; stroke: #1f77b4\"/>\n     <use xlink:href=\"#m91727e2069\" x=\"103.33208\" y=\"67.461449\" style=\"fill: #1f77b4; stroke: #1f77b4\"/>\n     <use xlink:href=\"#m91727e2069\" x=\"132.973508\" y=\"88.321627\" style=\"fill: #1f77b4; stroke: #1f77b4\"/>\n     <use xlink:href=\"#m91727e2069\" x=\"181.195833\" y=\"106.36095\" style=\"fill: #1f77b4; stroke: #1f77b4\"/>\n     <use xlink:href=\"#m91727e2069\" x=\"186.590403\" y=\"118.023505\" style=\"fill: #1f77b4; stroke: #1f77b4\"/>\n     <use xlink:href=\"#m91727e2069\" x=\"142.272961\" y=\"102.656262\" style=\"fill: #1f77b4; stroke: #1f77b4\"/>\n     <use xlink:href=\"#m91727e2069\" x=\"123.568612\" y=\"64.466216\" style=\"fill: #1f77b4; stroke: #1f77b4\"/>\n     <use xlink:href=\"#m91727e2069\" x=\"116.291817\" y=\"71.871141\" style=\"fill: #1f77b4; stroke: #1f77b4\"/>\n     <use xlink:href=\"#m91727e2069\" x=\"112.512094\" y=\"74.784122\" style=\"fill: #1f77b4; stroke: #1f77b4\"/>\n     <use xlink:href=\"#m91727e2069\" x=\"121.436114\" y=\"68.736413\" style=\"fill: #1f77b4; stroke: #1f77b4\"/>\n     <use xlink:href=\"#m91727e2069\" x=\"142.987634\" y=\"76.54341\" style=\"fill: #1f77b4; stroke: #1f77b4\"/>\n     <use xlink:href=\"#m91727e2069\" x=\"190.224754\" y=\"138.107393\" style=\"fill: #1f77b4; stroke: #1f77b4\"/>\n     <use xlink:href=\"#m91727e2069\" x=\"159.946199\" y=\"100.308296\" style=\"fill: #1f77b4; stroke: #1f77b4\"/>\n     <use xlink:href=\"#m91727e2069\" x=\"157.385053\" y=\"91.222339\" style=\"fill: #1f77b4; stroke: #1f77b4\"/>\n     <use xlink:href=\"#m91727e2069\" x=\"121.549979\" y=\"88.919488\" style=\"fill: #1f77b4; stroke: #1f77b4\"/>\n     <use xlink:href=\"#m91727e2069\" x=\"115.072264\" y=\"72.285199\" style=\"fill: #1f77b4; stroke: #1f77b4\"/>\n     <use xlink:href=\"#m91727e2069\" x=\"134.183767\" y=\"90.235521\" style=\"fill: #1f77b4; stroke: #1f77b4\"/>\n     <use xlink:href=\"#m91727e2069\" x=\"164.29727\" y=\"106.262432\" style=\"fill: #1f77b4; stroke: #1f77b4\"/>\n     <use xlink:href=\"#m91727e2069\" x=\"167.537769\" y=\"111.303289\" style=\"fill: #1f77b4; stroke: #1f77b4\"/>\n     <use xlink:href=\"#m91727e2069\" x=\"147.90109\" y=\"80.556965\" style=\"fill: #1f77b4; stroke: #1f77b4\"/>\n     <use xlink:href=\"#m91727e2069\" x=\"133.548284\" y=\"92.281574\" style=\"fill: #1f77b4; stroke: #1f77b4\"/>\n     <use xlink:href=\"#m91727e2069\" x=\"209.25513\" y=\"116.458082\" style=\"fill: #1f77b4; stroke: #1f77b4\"/>\n     <use xlink:href=\"#m91727e2069\" x=\"151.987583\" y=\"84.971487\" style=\"fill: #1f77b4; stroke: #1f77b4\"/>\n     <use xlink:href=\"#m91727e2069\" x=\"119.271219\" y=\"60.468421\" style=\"fill: #1f77b4; stroke: #1f77b4\"/>\n     <use xlink:href=\"#m91727e2069\" x=\"159.88766\" y=\"108.038655\" style=\"fill: #1f77b4; stroke: #1f77b4\"/>\n     <use xlink:href=\"#m91727e2069\" x=\"170.252594\" y=\"96.169078\" style=\"fill: #1f77b4; stroke: #1f77b4\"/>\n     <use xlink:href=\"#m91727e2069\" x=\"189.175421\" y=\"109.210782\" style=\"fill: #1f77b4; stroke: #1f77b4\"/>\n     <use xlink:href=\"#m91727e2069\" x=\"113.809977\" y=\"87.00825\" style=\"fill: #1f77b4; stroke: #1f77b4\"/>\n     <use xlink:href=\"#m91727e2069\" x=\"144.805519\" y=\"98.136202\" style=\"fill: #1f77b4; stroke: #1f77b4\"/>\n     <use xlink:href=\"#m91727e2069\" x=\"167.310693\" y=\"104.964522\" style=\"fill: #1f77b4; stroke: #1f77b4\"/>\n     <use xlink:href=\"#m91727e2069\" x=\"100.930133\" y=\"63.8025\" style=\"fill: #1f77b4; stroke: #1f77b4\"/>\n     <use xlink:href=\"#m91727e2069\" x=\"137.729888\" y=\"90.149735\" style=\"fill: #1f77b4; stroke: #1f77b4\"/>\n     <use xlink:href=\"#m91727e2069\" x=\"167.465802\" y=\"104.234648\" style=\"fill: #1f77b4; stroke: #1f77b4\"/>\n     <use xlink:href=\"#m91727e2069\" x=\"159.408106\" y=\"108.512624\" style=\"fill: #1f77b4; stroke: #1f77b4\"/>\n     <use xlink:href=\"#m91727e2069\" x=\"157.315645\" y=\"102.478481\" style=\"fill: #1f77b4; stroke: #1f77b4\"/>\n     <use xlink:href=\"#m91727e2069\" x=\"154.243079\" y=\"99.704653\" style=\"fill: #1f77b4; stroke: #1f77b4\"/>\n     <use xlink:href=\"#m91727e2069\" x=\"112.041948\" y=\"64.758802\" style=\"fill: #1f77b4; stroke: #1f77b4\"/>\n     <use xlink:href=\"#m91727e2069\" x=\"180.401996\" y=\"111.39669\" style=\"fill: #1f77b4; stroke: #1f77b4\"/>\n     <use xlink:href=\"#m91727e2069\" x=\"128.034399\" y=\"84.646506\" style=\"fill: #1f77b4; stroke: #1f77b4\"/>\n     <use xlink:href=\"#m91727e2069\" x=\"175.829402\" y=\"99.626656\" style=\"fill: #1f77b4; stroke: #1f77b4\"/>\n     <use xlink:href=\"#m91727e2069\" x=\"114.219581\" y=\"72.858776\" style=\"fill: #1f77b4; stroke: #1f77b4\"/>\n     <use xlink:href=\"#m91727e2069\" x=\"159.41064\" y=\"97.123866\" style=\"fill: #1f77b4; stroke: #1f77b4\"/>\n     <use xlink:href=\"#m91727e2069\" x=\"147.436888\" y=\"67.095087\" style=\"fill: #1f77b4; stroke: #1f77b4\"/>\n     <use xlink:href=\"#m91727e2069\" x=\"183.193275\" y=\"117.886251\" style=\"fill: #1f77b4; stroke: #1f77b4\"/>\n     <use xlink:href=\"#m91727e2069\" x=\"161.526328\" y=\"112.056408\" style=\"fill: #1f77b4; stroke: #1f77b4\"/>\n     <use xlink:href=\"#m91727e2069\" x=\"155.438547\" y=\"95.463924\" style=\"fill: #1f77b4; stroke: #1f77b4\"/>\n     <use xlink:href=\"#m91727e2069\" x=\"162.993362\" y=\"103.175297\" style=\"fill: #1f77b4; stroke: #1f77b4\"/>\n     <use xlink:href=\"#m91727e2069\" x=\"130.625448\" y=\"91.632155\" style=\"fill: #1f77b4; stroke: #1f77b4\"/>\n     <use xlink:href=\"#m91727e2069\" x=\"126.507762\" y=\"83.090395\" style=\"fill: #1f77b4; stroke: #1f77b4\"/>\n     <use xlink:href=\"#m91727e2069\" x=\"152.319986\" y=\"116.392008\" style=\"fill: #1f77b4; stroke: #1f77b4\"/>\n     <use xlink:href=\"#m91727e2069\" x=\"140.568512\" y=\"77.851869\" style=\"fill: #1f77b4; stroke: #1f77b4\"/>\n     <use xlink:href=\"#m91727e2069\" x=\"130.633723\" y=\"84.398716\" style=\"fill: #1f77b4; stroke: #1f77b4\"/>\n     <use xlink:href=\"#m91727e2069\" x=\"125.20242\" y=\"87.170656\" style=\"fill: #1f77b4; stroke: #1f77b4\"/>\n     <use xlink:href=\"#m91727e2069\" x=\"122.207484\" y=\"76.758342\" style=\"fill: #1f77b4; stroke: #1f77b4\"/>\n     <use xlink:href=\"#m91727e2069\" x=\"166.220854\" y=\"87.406896\" style=\"fill: #1f77b4; stroke: #1f77b4\"/>\n     <use xlink:href=\"#m91727e2069\" x=\"120.437232\" y=\"89.670645\" style=\"fill: #1f77b4; stroke: #1f77b4\"/>\n     <use xlink:href=\"#m91727e2069\" x=\"122.295362\" y=\"100.920444\" style=\"fill: #1f77b4; stroke: #1f77b4\"/>\n     <use xlink:href=\"#m91727e2069\" x=\"178.591512\" y=\"109.825197\" style=\"fill: #1f77b4; stroke: #1f77b4\"/>\n     <use xlink:href=\"#m91727e2069\" x=\"144.615009\" y=\"95.510596\" style=\"fill: #1f77b4; stroke: #1f77b4\"/>\n     <use xlink:href=\"#m91727e2069\" x=\"126.352724\" y=\"98.041977\" style=\"fill: #1f77b4; stroke: #1f77b4\"/>\n     <use xlink:href=\"#m91727e2069\" x=\"153.162163\" y=\"98.572082\" style=\"fill: #1f77b4; stroke: #1f77b4\"/>\n     <use xlink:href=\"#m91727e2069\" x=\"168.832161\" y=\"100.073828\" style=\"fill: #1f77b4; stroke: #1f77b4\"/>\n     <use xlink:href=\"#m91727e2069\" x=\"132.411936\" y=\"104.793049\" style=\"fill: #1f77b4; stroke: #1f77b4\"/>\n     <use xlink:href=\"#m91727e2069\" x=\"144.787729\" y=\"84.172116\" style=\"fill: #1f77b4; stroke: #1f77b4\"/>\n     <use xlink:href=\"#m91727e2069\" x=\"126.239942\" y=\"95.510815\" style=\"fill: #1f77b4; stroke: #1f77b4\"/>\n     <use xlink:href=\"#m91727e2069\" x=\"172.872655\" y=\"106.730955\" style=\"fill: #1f77b4; stroke: #1f77b4\"/>\n     <use xlink:href=\"#m91727e2069\" x=\"115.694604\" y=\"71.96423\" style=\"fill: #1f77b4; stroke: #1f77b4\"/>\n    </g>\n   </g>\n   <g id=\"matplotlib.axis_1\">\n    <g id=\"xtick_1\">\n     <g id=\"line2d_1\">\n      <defs>\n       <path id=\"m6f411ff1f0\" d=\"M 0 0 \nL 0 3.5 \n\" style=\"stroke: #000000; stroke-width: 0.8\"/>\n      </defs>\n      <g>\n       <use xlink:href=\"#m6f411ff1f0\" x=\"46.358038\" y=\"145.8\" style=\"stroke: #000000; stroke-width: 0.8\"/>\n      </g>\n     </g>\n     <g id=\"text_1\">\n      <!-- −4 -->\n      <g transform=\"translate(38.986944 160.398438)scale(0.1 -0.1)\">\n       <defs>\n        <path id=\"DejaVuSans-2212\" d=\"M 678 2272 \nL 4684 2272 \nL 4684 1741 \nL 678 1741 \nL 678 2272 \nz\n\" transform=\"scale(0.015625)\"/>\n        <path id=\"DejaVuSans-34\" d=\"M 2419 4116 \nL 825 1625 \nL 2419 1625 \nL 2419 4116 \nz\nM 2253 4666 \nL 3047 4666 \nL 3047 1625 \nL 3713 1625 \nL 3713 1100 \nL 3047 1100 \nL 3047 0 \nL 2419 0 \nL 2419 1100 \nL 313 1100 \nL 313 1709 \nL 2253 4666 \nz\n\" transform=\"scale(0.015625)\"/>\n       </defs>\n       <use xlink:href=\"#DejaVuSans-2212\"/>\n       <use xlink:href=\"#DejaVuSans-34\" x=\"83.789062\"/>\n      </g>\n     </g>\n    </g>\n    <g id=\"xtick_2\">\n     <g id=\"line2d_2\">\n      <g>\n       <use xlink:href=\"#m6f411ff1f0\" x=\"95.605639\" y=\"145.8\" style=\"stroke: #000000; stroke-width: 0.8\"/>\n      </g>\n     </g>\n     <g id=\"text_2\">\n      <!-- −2 -->\n      <g transform=\"translate(88.234546 160.398438)scale(0.1 -0.1)\">\n       <defs>\n        <path id=\"DejaVuSans-32\" d=\"M 1228 531 \nL 3431 531 \nL 3431 0 \nL 469 0 \nL 469 531 \nQ 828 903 1448 1529 \nQ 2069 2156 2228 2338 \nQ 2531 2678 2651 2914 \nQ 2772 3150 2772 3378 \nQ 2772 3750 2511 3984 \nQ 2250 4219 1831 4219 \nQ 1534 4219 1204 4116 \nQ 875 4013 500 3803 \nL 500 4441 \nQ 881 4594 1212 4672 \nQ 1544 4750 1819 4750 \nQ 2544 4750 2975 4387 \nQ 3406 4025 3406 3419 \nQ 3406 3131 3298 2873 \nQ 3191 2616 2906 2266 \nQ 2828 2175 2409 1742 \nQ 1991 1309 1228 531 \nz\n\" transform=\"scale(0.015625)\"/>\n       </defs>\n       <use xlink:href=\"#DejaVuSans-2212\"/>\n       <use xlink:href=\"#DejaVuSans-32\" x=\"83.789062\"/>\n      </g>\n     </g>\n    </g>\n    <g id=\"xtick_3\">\n     <g id=\"line2d_3\">\n      <g>\n       <use xlink:href=\"#m6f411ff1f0\" x=\"144.853241\" y=\"145.8\" style=\"stroke: #000000; stroke-width: 0.8\"/>\n      </g>\n     </g>\n     <g id=\"text_3\">\n      <!-- 0 -->\n      <g transform=\"translate(141.671991 160.398438)scale(0.1 -0.1)\">\n       <defs>\n        <path id=\"DejaVuSans-30\" d=\"M 2034 4250 \nQ 1547 4250 1301 3770 \nQ 1056 3291 1056 2328 \nQ 1056 1369 1301 889 \nQ 1547 409 2034 409 \nQ 2525 409 2770 889 \nQ 3016 1369 3016 2328 \nQ 3016 3291 2770 3770 \nQ 2525 4250 2034 4250 \nz\nM 2034 4750 \nQ 2819 4750 3233 4129 \nQ 3647 3509 3647 2328 \nQ 3647 1150 3233 529 \nQ 2819 -91 2034 -91 \nQ 1250 -91 836 529 \nQ 422 1150 422 2328 \nQ 422 3509 836 4129 \nQ 1250 4750 2034 4750 \nz\n\" transform=\"scale(0.015625)\"/>\n       </defs>\n       <use xlink:href=\"#DejaVuSans-30\"/>\n      </g>\n     </g>\n    </g>\n    <g id=\"xtick_4\">\n     <g id=\"line2d_4\">\n      <g>\n       <use xlink:href=\"#m6f411ff1f0\" x=\"194.100843\" y=\"145.8\" style=\"stroke: #000000; stroke-width: 0.8\"/>\n      </g>\n     </g>\n     <g id=\"text_4\">\n      <!-- 2 -->\n      <g transform=\"translate(190.919593 160.398438)scale(0.1 -0.1)\">\n       <use xlink:href=\"#DejaVuSans-32\"/>\n      </g>\n     </g>\n    </g>\n   </g>\n   <g id=\"matplotlib.axis_2\">\n    <g id=\"ytick_1\">\n     <g id=\"line2d_5\">\n      <defs>\n       <path id=\"m004319a479\" d=\"M 0 0 \nL -3.5 0 \n\" style=\"stroke: #000000; stroke-width: 0.8\"/>\n      </defs>\n      <g>\n       <use xlink:href=\"#m004319a479\" x=\"26.925\" y=\"108.732196\" style=\"stroke: #000000; stroke-width: 0.8\"/>\n      </g>\n     </g>\n     <g id=\"text_5\">\n      <!-- 0 -->\n      <g transform=\"translate(13.5625 112.531414)scale(0.1 -0.1)\">\n       <use xlink:href=\"#DejaVuSans-30\"/>\n      </g>\n     </g>\n    </g>\n    <g id=\"ytick_2\">\n     <g id=\"line2d_6\">\n      <g>\n       <use xlink:href=\"#m004319a479\" x=\"26.925\" y=\"67.317053\" style=\"stroke: #000000; stroke-width: 0.8\"/>\n      </g>\n     </g>\n     <g id=\"text_6\">\n      <!-- 10 -->\n      <g transform=\"translate(7.2 71.116272)scale(0.1 -0.1)\">\n       <defs>\n        <path id=\"DejaVuSans-31\" d=\"M 794 531 \nL 1825 531 \nL 1825 4091 \nL 703 3866 \nL 703 4441 \nL 1819 4666 \nL 2450 4666 \nL 2450 531 \nL 3481 531 \nL 3481 0 \nL 794 0 \nL 794 531 \nz\n\" transform=\"scale(0.015625)\"/>\n       </defs>\n       <use xlink:href=\"#DejaVuSans-31\"/>\n       <use xlink:href=\"#DejaVuSans-30\" x=\"63.623047\"/>\n      </g>\n     </g>\n    </g>\n    <g id=\"ytick_3\">\n     <g id=\"line2d_7\">\n      <g>\n       <use xlink:href=\"#m004319a479\" x=\"26.925\" y=\"25.901911\" style=\"stroke: #000000; stroke-width: 0.8\"/>\n      </g>\n     </g>\n     <g id=\"text_7\">\n      <!-- 20 -->\n      <g transform=\"translate(7.2 29.70113)scale(0.1 -0.1)\">\n       <use xlink:href=\"#DejaVuSans-32\"/>\n       <use xlink:href=\"#DejaVuSans-30\" x=\"63.623047\"/>\n      </g>\n     </g>\n    </g>\n   </g>\n   <g id=\"patch_3\">\n    <path d=\"M 26.925 145.8 \nL 26.925 7.2 \n\" style=\"fill: none; stroke: #000000; stroke-width: 0.8; stroke-linejoin: miter; stroke-linecap: square\"/>\n   </g>\n   <g id=\"patch_4\">\n    <path d=\"M 222.225 145.8 \nL 222.225 7.2 \n\" style=\"fill: none; stroke: #000000; stroke-width: 0.8; stroke-linejoin: miter; stroke-linecap: square\"/>\n   </g>\n   <g id=\"patch_5\">\n    <path d=\"M 26.925 145.8 \nL 222.225 145.8 \n\" style=\"fill: none; stroke: #000000; stroke-width: 0.8; stroke-linejoin: miter; stroke-linecap: square\"/>\n   </g>\n   <g id=\"patch_6\">\n    <path d=\"M 26.925 7.2 \nL 222.225 7.2 \n\" style=\"fill: none; stroke: #000000; stroke-width: 0.8; stroke-linejoin: miter; stroke-linecap: square\"/>\n   </g>\n  </g>\n </g>\n <defs>\n  <clipPath id=\"p6b65686044\">\n   <rect x=\"26.925\" y=\"7.2\" width=\"195.3\" height=\"138.6\"/>\n  </clipPath>\n </defs>\n</svg>\n",
      "text/plain": [
       "<Figure size 350x250 with 1 Axes>"
      ]
     },
     "metadata": {},
     "output_type": "display_data"
    }
   ],
   "source": [
    "d2l.set_figsize()\n",
    "d2l.plt.scatter(features[:, 1].detach().numpy(), labels.detach().numpy(), 1);"
   ]
  },
  {
   "cell_type": "markdown",
   "id": "d28e67d3",
   "metadata": {
    "origin_pos": 13
   },
   "source": [
    "## 读取数据集\n",
    "\n",
    "回想一下，训练模型时要对数据集进行遍历，每次抽取一小批量样本，并使用它们来更新我们的模型。\n",
    "由于这个过程是训练机器学习算法的基础，所以有必要定义一个函数，\n",
    "该函数能打乱数据集中的样本并以小批量方式获取数据。\n",
    "\n",
    "在下面的代码中，我们[**定义一个`data_iter`函数，\n",
    "该函数接收批量大小、特征矩阵和标签向量作为输入，生成大小为`batch_size`的小批量**]。\n",
    "每个小批量包含一组特征和标签。\n"
   ]
  },
  {
   "cell_type": "code",
   "execution_count": 107,
   "id": "9505ff1c",
   "metadata": {
    "execution": {
     "iopub.execute_input": "2022-12-07T16:43:06.555825Z",
     "iopub.status.busy": "2022-12-07T16:43:06.555541Z",
     "iopub.status.idle": "2022-12-07T16:43:06.561066Z",
     "shell.execute_reply": "2022-12-07T16:43:06.560334Z"
    },
    "origin_pos": 14,
    "tab": [
     "pytorch"
    ]
   },
   "outputs": [],
   "source": [
    "def data_iter(batch_size, features, labels):\n",
    "    num_examples = len(features)\n",
    "    indices = list(range(num_examples))\n",
    "    # 这些样本是随机读取的，没有特定的顺序\n",
    "    random.shuffle(indices)\n",
    "    for i in range(0, num_examples, batch_size):\n",
    "        batch_indices = torch.tensor(\n",
    "            indices[i: min(i + batch_size, num_examples)])\n",
    "        yield features[batch_indices], labels[batch_indices]"
   ]
  },
  {
   "cell_type": "markdown",
   "id": "edc07979",
   "metadata": {
    "origin_pos": 16
   },
   "source": [
    "通常，我们利用GPU并行运算的优势，处理合理大小的“小批量”。\n",
    "每个样本都可以并行地进行模型计算，且每个样本损失函数的梯度也可以被并行计算。\n",
    "GPU可以在处理几百个样本时，所花费的时间不比处理一个样本时多太多。\n",
    "\n",
    "我们直观感受一下小批量运算：读取第一个小批量数据样本并打印。\n",
    "每个批量的特征维度显示批量大小和输入特征数。\n",
    "同样的，批量的标签形状与`batch_size`相等。\n"
   ]
  },
  {
   "cell_type": "code",
   "execution_count": 108,
   "id": "3934d3c4",
   "metadata": {
    "execution": {
     "iopub.execute_input": "2022-12-07T16:43:06.565191Z",
     "iopub.status.busy": "2022-12-07T16:43:06.564923Z",
     "iopub.status.idle": "2022-12-07T16:43:06.571970Z",
     "shell.execute_reply": "2022-12-07T16:43:06.571038Z"
    },
    "origin_pos": 17,
    "tab": [
     "pytorch"
    ]
   },
   "outputs": [
    {
     "name": "stdout",
     "output_type": "stream",
     "text": [
      "tensor([[-0.0221, -1.4979],\n",
      "        [-1.3843,  1.6497],\n",
      "        [-1.1361,  1.6707],\n",
      "        [ 1.0675, -1.5881],\n",
      "        [ 0.6180, -0.1822],\n",
      "        [-1.0874,  0.5368],\n",
      "        [ 0.7637,  1.9283],\n",
      "        [ 0.7511, -1.1329],\n",
      "        [ 0.8148,  0.2861],\n",
      "        [ 1.8372, -0.0734],\n",
      "        [ 0.9265, -0.2413],\n",
      "        [-1.1592, -0.0350],\n",
      "        [ 0.1732,  1.4283],\n",
      "        [-1.2785, -0.3339],\n",
      "        [ 1.5390,  0.1196],\n",
      "        [ 0.1436, -0.4974],\n",
      "        [ 0.6796,  0.3942],\n",
      "        [ 1.1687, -0.1429],\n",
      "        [ 0.5149,  1.7776],\n",
      "        [ 0.8410,  1.6283]]) \n",
      " tensor([[ 9.2665],\n",
      "        [-4.1646],\n",
      "        [-3.7463],\n",
      "        [11.7336],\n",
      "        [ 6.0551],\n",
      "        [ 0.1928],\n",
      "        [-0.8317],\n",
      "        [ 9.5564],\n",
      "        [ 4.8803],\n",
      "        [ 8.1294],\n",
      "        [ 6.8706],\n",
      "        [ 2.0087],\n",
      "        [-0.3009],\n",
      "        [ 2.7935],\n",
      "        [ 6.8860],\n",
      "        [ 6.1609],\n",
      "        [ 4.2187],\n",
      "        [ 7.0095],\n",
      "        [-0.8039],\n",
      "        [ 0.3521]])\n"
     ]
    }
   ],
   "source": [
    "batch_size = 20\n",
    "\n",
    "for X, y in data_iter(batch_size, features, labels):\n",
    "    print(X, '\\n', y)\n",
    "    break"
   ]
  },
  {
   "cell_type": "markdown",
   "id": "f959e76b",
   "metadata": {
    "origin_pos": 18
   },
   "source": [
    "当我们运行迭代时，我们会连续地获得不同的小批量，直至遍历完整个数据集。\n",
    "上面实现的迭代对教学来说很好，但它的执行效率很低，可能会在实际问题上陷入麻烦。\n",
    "例如，它要求我们将所有数据加载到内存中，并执行大量的随机内存访问。\n",
    "在深度学习框架中实现的内置迭代器效率要高得多，\n",
    "它可以处理存储在文件中的数据和数据流提供的数据。\n",
    "\n",
    "## 初始化模型参数\n",
    "\n",
    "[**在我们开始用小批量随机梯度下降优化我们的模型参数之前**]，\n",
    "(**我们需要先有一些参数**)。\n",
    "在下面的代码中，我们通过从均值为0、标准差为0.01的正态分布中采样随机数来初始化权重，\n",
    "并将偏置初始化为0。\n"
   ]
  },
  {
   "cell_type": "code",
   "execution_count": 109,
   "id": "23a1437e",
   "metadata": {
    "execution": {
     "iopub.execute_input": "2022-12-07T16:43:06.575915Z",
     "iopub.status.busy": "2022-12-07T16:43:06.575647Z",
     "iopub.status.idle": "2022-12-07T16:43:06.580295Z",
     "shell.execute_reply": "2022-12-07T16:43:06.579544Z"
    },
    "origin_pos": 20,
    "tab": [
     "pytorch"
    ]
   },
   "outputs": [],
   "source": [
    "w = torch.normal(0, 0.01, size=(2,1), requires_grad=True)\n",
    "b = torch.zeros(1, requires_grad=True)"
   ]
  },
  {
   "cell_type": "markdown",
   "id": "f6ad34a9",
   "metadata": {
    "origin_pos": 23
   },
   "source": [
    "在初始化参数之后，我们的任务是更新这些参数，直到这些参数足够拟合我们的数据。\n",
    "每次更新都需要计算损失函数关于模型参数的梯度。\n",
    "有了这个梯度，我们就可以向减小损失的方向更新每个参数。\n",
    "因为手动计算梯度很枯燥而且容易出错，所以没有人会手动计算梯度。\n",
    "我们使用 :numref:`sec_autograd`中引入的自动微分来计算梯度。\n",
    "\n",
    "## 定义模型\n",
    "\n",
    "接下来，我们必须[**定义模型，将模型的输入和参数同模型的输出关联起来。**]\n",
    "回想一下，要计算线性模型的输出，\n",
    "我们只需计算输入特征$\\mathbf{X}$和模型权重$\\mathbf{w}$的矩阵-向量乘法后加上偏置$b$。\n",
    "注意，上面的$\\mathbf{Xw}$是一个向量，而$b$是一个标量。\n",
    "回想一下 :numref:`subsec_broadcasting`中描述的广播机制：\n",
    "当我们用一个向量加一个标量时，标量会被加到向量的每个分量上。\n"
   ]
  },
  {
   "cell_type": "code",
   "execution_count": 110,
   "id": "67386d14",
   "metadata": {
    "execution": {
     "iopub.execute_input": "2022-12-07T16:43:06.583374Z",
     "iopub.status.busy": "2022-12-07T16:43:06.583103Z",
     "iopub.status.idle": "2022-12-07T16:43:06.587197Z",
     "shell.execute_reply": "2022-12-07T16:43:06.586376Z"
    },
    "origin_pos": 24,
    "tab": [
     "pytorch"
    ]
   },
   "outputs": [],
   "source": [
    "def linreg(X, w, b):  #@save\n",
    "    \"\"\"线性回归模型\"\"\"\n",
    "    return torch.matmul(X, w) + b"
   ]
  },
  {
   "cell_type": "markdown",
   "id": "7a087a5b",
   "metadata": {
    "origin_pos": 25
   },
   "source": [
    "## [**定义损失函数**]\n",
    "\n",
    "因为需要计算损失函数的梯度，所以我们应该先定义损失函数。\n",
    "这里我们使用 :numref:`sec_linear_regression`中描述的平方损失函数。\n",
    "在实现中，我们需要将真实值`y`的形状转换为和预测值`y_hat`的形状相同。\n"
   ]
  },
  {
   "cell_type": "code",
   "execution_count": 111,
   "id": "b95eb605",
   "metadata": {
    "execution": {
     "iopub.execute_input": "2022-12-07T16:43:06.590200Z",
     "iopub.status.busy": "2022-12-07T16:43:06.589934Z",
     "iopub.status.idle": "2022-12-07T16:43:06.594002Z",
     "shell.execute_reply": "2022-12-07T16:43:06.593170Z"
    },
    "origin_pos": 26,
    "tab": [
     "pytorch"
    ]
   },
   "outputs": [],
   "source": [
    "def squared_loss(y_hat, y):  #@save\n",
    "    \"\"\"均方损失\"\"\"\n",
    "    return (y_hat - y.reshape(y_hat.shape)) ** 2 / 2"
   ]
  },
  {
   "cell_type": "markdown",
   "id": "1919becd",
   "metadata": {
    "origin_pos": 27
   },
   "source": [
    "## (**定义优化算法**)\n",
    "\n",
    "正如我们在 :numref:`sec_linear_regression`中讨论的，线性回归有解析解。\n",
    "尽管线性回归有解析解，但本书中的其他模型却没有。\n",
    "这里我们介绍小批量随机梯度下降。\n",
    "\n",
    "在每一步中，使用从数据集中随机抽取的一个小批量，然后根据参数计算损失的梯度。\n",
    "接下来，朝着减少损失的方向更新我们的参数。\n",
    "下面的函数实现小批量随机梯度下降更新。\n",
    "该函数接受模型参数集合、学习速率和批量大小作为输入。每\n",
    "一步更新的大小由学习速率`lr`决定。\n",
    "因为我们计算的损失是一个批量样本的总和，所以我们用批量大小（`batch_size`）\n",
    "来规范化步长，这样步长大小就不会取决于我们对批量大小的选择。\n"
   ]
  },
  {
   "cell_type": "code",
   "execution_count": 112,
   "id": "a6360e87",
   "metadata": {
    "execution": {
     "iopub.execute_input": "2022-12-07T16:43:06.597167Z",
     "iopub.status.busy": "2022-12-07T16:43:06.596900Z",
     "iopub.status.idle": "2022-12-07T16:43:06.601385Z",
     "shell.execute_reply": "2022-12-07T16:43:06.600532Z"
    },
    "origin_pos": 29,
    "tab": [
     "pytorch"
    ]
   },
   "outputs": [],
   "source": [
    "def sgd(params, lr, batch_size):  #@save\n",
    "    \"\"\"小批量随机梯度下降\"\"\"\n",
    "    with torch.no_grad():\n",
    "        for param in params:\n",
    "            param -= lr * param.grad / batch_size\n",
    "            param.grad.zero_()"
   ]
  },
  {
   "cell_type": "markdown",
   "id": "9e466d4d",
   "metadata": {
    "origin_pos": 32
   },
   "source": [
    "## 训练\n",
    "\n",
    "现在我们已经准备好了模型训练所有需要的要素，可以实现主要的[**训练过程**]部分了。\n",
    "理解这段代码至关重要，因为从事深度学习后，\n",
    "相同的训练过程几乎一遍又一遍地出现。\n",
    "在每次迭代中，我们读取一小批量训练样本，并通过我们的模型来获得一组预测。\n",
    "计算完损失后，我们开始反向传播，存储每个参数的梯度。\n",
    "最后，我们调用优化算法`sgd`来更新模型参数。\n",
    "\n",
    "概括一下，我们将执行以下循环：\n",
    "\n",
    "* 初始化参数\n",
    "* 重复以下训练，直到完成\n",
    "    * 计算梯度$\\mathbf{g} \\leftarrow \\partial_{(\\mathbf{w},b)} \\frac{1}{|\\mathcal{B}|} \\sum_{i \\in \\mathcal{B}} l(\\mathbf{x}^{(i)}, y^{(i)}, \\mathbf{w}, b)$\n",
    "    * 更新参数$(\\mathbf{w}, b) \\leftarrow (\\mathbf{w}, b) - \\eta \\mathbf{g}$\n",
    "\n",
    "在每个*迭代周期*（epoch）中，我们使用`data_iter`函数遍历整个数据集，\n",
    "并将训练数据集中所有样本都使用一次（假设样本数能够被批量大小整除）。\n",
    "这里的迭代周期个数`num_epochs`和学习率`lr`都是超参数，分别设为3和0.03。\n",
    "设置超参数很棘手，需要通过反复试验进行调整。\n",
    "我们现在忽略这些细节，以后会在 :numref:`chap_optimization`中详细介绍。\n"
   ]
  },
  {
   "cell_type": "code",
   "execution_count": 113,
   "id": "102331db",
   "metadata": {
    "execution": {
     "iopub.execute_input": "2022-12-07T16:43:06.604403Z",
     "iopub.status.busy": "2022-12-07T16:43:06.604136Z",
     "iopub.status.idle": "2022-12-07T16:43:06.608339Z",
     "shell.execute_reply": "2022-12-07T16:43:06.607465Z"
    },
    "origin_pos": 33,
    "tab": [
     "pytorch"
    ]
   },
   "outputs": [],
   "source": [
    "lr = 0.03\n",
    "num_epochs = 33\n",
    "net = linreg\n",
    "loss = squared_loss"
   ]
  },
  {
   "cell_type": "code",
   "execution_count": 114,
   "id": "97d6ac25",
   "metadata": {
    "execution": {
     "iopub.execute_input": "2022-12-07T16:43:06.611713Z",
     "iopub.status.busy": "2022-12-07T16:43:06.611103Z",
     "iopub.status.idle": "2022-12-07T16:43:06.718470Z",
     "shell.execute_reply": "2022-12-07T16:43:06.717660Z"
    },
    "origin_pos": 35,
    "tab": [
     "pytorch"
    ]
   },
   "outputs": [
    {
     "name": "stdout",
     "output_type": "stream",
     "text": [
      "epoch 1, loss 0.818383\n",
      "epoch 2, loss 0.041418\n",
      "epoch 3, loss 0.002128\n",
      "epoch 4, loss 0.000151\n",
      "epoch 5, loss 0.000051\n",
      "epoch 6, loss 0.000046\n",
      "epoch 7, loss 0.000046\n",
      "epoch 8, loss 0.000046\n",
      "epoch 9, loss 0.000046\n",
      "epoch 10, loss 0.000046\n",
      "epoch 11, loss 0.000046\n",
      "epoch 12, loss 0.000046\n",
      "epoch 13, loss 0.000046\n",
      "epoch 14, loss 0.000046\n",
      "epoch 15, loss 0.000046\n",
      "epoch 16, loss 0.000046\n",
      "epoch 17, loss 0.000046\n",
      "epoch 18, loss 0.000046\n",
      "epoch 19, loss 0.000046\n",
      "epoch 20, loss 0.000046\n",
      "epoch 21, loss 0.000046\n",
      "epoch 22, loss 0.000046\n",
      "epoch 23, loss 0.000046\n",
      "epoch 24, loss 0.000046\n",
      "epoch 25, loss 0.000046\n",
      "epoch 26, loss 0.000046\n",
      "epoch 27, loss 0.000046\n",
      "epoch 28, loss 0.000046\n",
      "epoch 29, loss 0.000046\n",
      "epoch 30, loss 0.000046\n",
      "epoch 31, loss 0.000046\n",
      "epoch 32, loss 0.000046\n",
      "epoch 33, loss 0.000046\n"
     ]
    }
   ],
   "source": [
    "for epoch in range(num_epochs):\n",
    "    for X, y in data_iter(batch_size, features, labels):\n",
    "        l = loss(net(X, w, b), y)  # X和y的小批量损失\n",
    "        # 因为l形状是(batch_size,1)，而不是一个标量。l中的所有元素被加到一起，\n",
    "        # 并以此计算关于[w,b]的梯度\n",
    "        l.sum().backward()\n",
    "        sgd([w, b], lr, batch_size)  # 使用参数的梯度更新参数\n",
    "    with torch.no_grad():\n",
    "        train_l = loss(net(features, w, b), labels)\n",
    "        print(f'epoch {epoch + 1}, loss {float(train_l.mean()):f}')"
   ]
  },
  {
   "cell_type": "markdown",
   "id": "c49ff328",
   "metadata": {
    "origin_pos": 38
   },
   "source": [
    "因为我们使用的是自己合成的数据集，所以我们知道真正的参数是什么。\n",
    "因此，我们可以通过[**比较真实参数和通过训练学到的参数来评估训练的成功程度**]。\n",
    "事实上，真实参数和通过训练学到的参数确实非常接近。\n"
   ]
  },
  {
   "cell_type": "code",
   "execution_count": 115,
   "id": "20cfe26e",
   "metadata": {
    "execution": {
     "iopub.execute_input": "2022-12-07T16:43:06.722173Z",
     "iopub.status.busy": "2022-12-07T16:43:06.721608Z",
     "iopub.status.idle": "2022-12-07T16:43:06.727216Z",
     "shell.execute_reply": "2022-12-07T16:43:06.726417Z"
    },
    "origin_pos": 39,
    "tab": [
     "pytorch"
    ]
   },
   "outputs": [
    {
     "name": "stdout",
     "output_type": "stream",
     "text": [
      "w的估计误差: tensor([-0.0006, -0.0001], grad_fn=<SubBackward0>)\n",
      "b的估计误差: tensor([9.0599e-05], grad_fn=<RsubBackward1>)\n"
     ]
    }
   ],
   "source": [
    "print(f'w的估计误差: {true_w - w.reshape(true_w.shape)}')\n",
    "print(f'b的估计误差: {true_b - b}')"
   ]
  },
  {
   "cell_type": "markdown",
   "id": "256e4aea",
   "metadata": {
    "origin_pos": 40
   },
   "source": [
    "注意，我们不应该想当然地认为我们能够完美地求解参数。\n",
    "在机器学习中，我们通常不太关心恢复真正的参数，而更关心如何高度准确预测参数。\n",
    "幸运的是，即使是在复杂的优化问题上，随机梯度下降通常也能找到非常好的解。\n",
    "其中一个原因是，在深度网络中存在许多参数组合能够实现高度精确的预测。\n",
    "\n",
    "## 小结\n",
    "\n",
    "* 我们学习了深度网络是如何实现和优化的。在这一过程中只使用张量和自动微分，不需要定义层或复杂的优化器。\n",
    "* 这一节只触及到了表面知识。在下面的部分中，我们将基于刚刚介绍的概念描述其他模型，并学习如何更简洁地实现其他模型。\n",
    "\n",
    "## 练习\n",
    "\n",
    "1. 如果我们将权重初始化为零，会发生什么。算法仍然有效吗？\n",
    "1. 假设试图为电压和电流的关系建立一个模型。自动微分可以用来学习模型的参数吗?\n",
    "1. 能基于[普朗克定律](https://en.wikipedia.org/wiki/Planck%27s_law)使用光谱能量密度来确定物体的温度吗？\n",
    "1. 计算二阶导数时可能会遇到什么问题？这些问题可以如何解决？\n",
    "1. 为什么在`squared_loss`函数中需要使用`reshape`函数？\n",
    "1. 尝试使用不同的学习率，观察损失函数值下降的快慢。\n",
    "1. 如果样本个数不能被批量大小整除，`data_iter`函数的行为会有什么变化？\n"
   ]
  },
  {
   "cell_type": "markdown",
   "id": "084dd552",
   "metadata": {
    "origin_pos": 42,
    "tab": [
     "pytorch"
    ]
   },
   "source": [
    "[Discussions](https://discuss.d2l.ai/t/1778)\n"
   ]
  }
 ],
 "metadata": {
  "interpreter": {
   "hash": "cca6b7f3d1f788774e3dfc30beb0c5cfbb80b7f5279eded308c5128b68a421ae"
  },
  "kernelspec": {
   "display_name": "Python 3",
   "language": "python",
   "name": "python3"
  },
  "language_info": {
   "codemirror_mode": {
    "name": "ipython",
    "version": 3
   },
   "file_extension": ".py",
   "mimetype": "text/x-python",
   "name": "python",
   "nbconvert_exporter": "python",
   "pygments_lexer": "ipython3",
   "version": "3.8.10"
  }
 },
 "nbformat": 4,
 "nbformat_minor": 5
}
